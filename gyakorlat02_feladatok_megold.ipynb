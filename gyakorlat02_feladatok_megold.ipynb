SELECT SZALLAS_NEV,
        LEFT(CIM,4) as Irányítószám
FROM Szallashely
WHERE CSILLAGOK_SZAMA = 3

SELECT SZALLAS_ID, SZALLAS_NEV, HELY,
        DATEDIFF(day, ROGZ_IDO, GETDATE()) AS 'Hány napja működik'
FROM Szallashely
WHERE TIPUS NOT LIKE 'panzió' AND TIPUS NOT LIKE 'vendégház'