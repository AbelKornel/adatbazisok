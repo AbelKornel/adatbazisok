{
    "metadata": {
        "kernelspec": {
            "name": "SQL",
            "display_name": "SQL",
            "language": "sql"
        },
        "language_info": {
            "name": "sql",
            "version": ""
        }
    },
    "nbformat_minor": 2,
    "nbformat": 4,
    "cells": [
        {
            "cell_type": "markdown",
            "source": [
                "1\\. feladat"
            ],
            "metadata": {
                "language": "sql",
                "azdata_cell_guid": "955f8750-7db6-4613-adde-b2519084af96"
            },
            "attachments": {}
        },
        {
            "cell_type": "code",
            "source": [
                "SELECT v.NEV, v.EMAIL, v.USERNEV, v.SZUL_DAT\r\n",
                "FROM Vendeg v JOIN FOGLALAS f ON V.USERNEV = f.UGYFEL_FK\r\n",
                "WHERE v.SZUL_DAT NOT LIKE '%-05-%'\r\n",
                "GROUP BY v.NEV, v.EMAIL, v.USERNEV, v.SZUL_DAT\r\n",
                "HAVING COUNT(f.FOGLALAS_PK) > 1;\r\n",
                ""
            ],
            "metadata": {
                "azdata_cell_guid": "884d5636-2bab-463d-9916-6f1c66e48c92",
                "language": "sql",
                "tags": []
            },
            "outputs": [
                {
                    "output_type": "display_data",
                    "data": {
                        "text/html": "(169 rows affected)"
                    },
                    "metadata": {}
                },
                {
                    "output_type": "display_data",
                    "data": {
                        "text/html": "Total execution time: 00:00:00.053"
                    },
                    "metadata": {}
                },
                {
                    "output_type": "execute_result",
                    "metadata": {},
                    "execution_count": 27,
                    "data": {
                        "application/vnd.dataresource+json": {
                            "schema": {
                                "fields": [
                                    {
                                        "name": "NEV"
                                    },
                                    {
                                        "name": "EMAIL"
                                    },
                                    {
                                        "name": "USERNEV"
                                    },
                                    {
                                        "name": "SZUL_DAT"
                                    }
                                ]
                            },
                            "data": [
                                {
                                    "NEV": "Kiss Ádám",
                                    "EMAIL": "ádám.kiss@mail.hu",
                                    "USERNEV": "adam1",
                                    "SZUL_DAT": "1991-12-28"
                                },
                                {
                                    "NEV": "Barkóci Ádám",
                                    "EMAIL": "adam3@gmail.com",
                                    "USERNEV": "adam3",
                                    "SZUL_DAT": "1970-06-07"
                                },
                                {
                                    "NEV": "Bieniek Ádám",
                                    "EMAIL": "ádám.bieniek@mail.hu",
                                    "USERNEV": "adam4",
                                    "SZUL_DAT": "1976-08-01"
                                },
                                {
                                    "NEV": "Lengyel Ágnes",
                                    "EMAIL": "agnes@gmail.com",
                                    "USERNEV": "agnes",
                                    "SZUL_DAT": "1979-12-10"
                                },
                                {
                                    "NEV": "Hartyánszky Ágnes",
                                    "EMAIL": "agnes3@gmail.com",
                                    "USERNEV": "agnes3",
                                    "SZUL_DAT": "1967-04-11"
                                },
                                {
                                    "NEV": "Horváth Ágnes",
                                    "EMAIL": "AGNESH@gmail.com",
                                    "USERNEV": "AGNESH",
                                    "SZUL_DAT": "1981-12-24"
                                },
                                {
                                    "NEV": "Kovács Ágnes",
                                    "EMAIL": "AGNESK@gmail.com",
                                    "USERNEV": "AGNESK",
                                    "SZUL_DAT": "1988-10-02"
                                },
                                {
                                    "NEV": "Bíró Ákos",
                                    "EMAIL": "ákos.bíró@mail.hu",
                                    "USERNEV": "akos",
                                    "SZUL_DAT": "1982-04-24"
                                },
                                {
                                    "NEV": "Dunai Aladár",
                                    "EMAIL": "aladár.dunai@mail.hu",
                                    "USERNEV": "aladar",
                                    "SZUL_DAT": "1980-11-01"
                                },
                                {
                                    "NEV": "Bagóczki Alexandra",
                                    "EMAIL": "alexandra.bagóczki@mail.hu",
                                    "USERNEV": "alexandra",
                                    "SZUL_DAT": "1992-03-25"
                                },
                                {
                                    "NEV": "Tóth András",
                                    "EMAIL": "andrás.tóth@mail.hu",
                                    "USERNEV": "andras2",
                                    "SZUL_DAT": "1997-10-31"
                                },
                                {
                                    "NEV": "Molnár András",
                                    "EMAIL": "andrás.molnár@mail.hu",
                                    "USERNEV": "andras21",
                                    "SZUL_DAT": "1977-11-16"
                                },
                                {
                                    "NEV": "Vígh András",
                                    "EMAIL": "andrás.vígh@mail.hu",
                                    "USERNEV": "andras3",
                                    "SZUL_DAT": "1971-04-02"
                                },
                                {
                                    "NEV": "Back András",
                                    "EMAIL": "andras4@gmail.com",
                                    "USERNEV": "andras4",
                                    "SZUL_DAT": "1984-04-07"
                                },
                                {
                                    "NEV": "Komjáti András",
                                    "EMAIL": "andras41@gmail.com",
                                    "USERNEV": "andras41",
                                    "SZUL_DAT": "1997-10-25"
                                },
                                {
                                    "NEV": "Kiss Andrea",
                                    "EMAIL": "andrea.kiss@mail.hu",
                                    "USERNEV": "andrea",
                                    "SZUL_DAT": "1993-03-25"
                                },
                                {
                                    "NEV": "Tornyos Andrea",
                                    "EMAIL": "ANDREAT@gmail.com",
                                    "USERNEV": "ANDREAT",
                                    "SZUL_DAT": "1986-11-14"
                                },
                                {
                                    "NEV": "Pivarcsi Anett",
                                    "EMAIL": "anett.pivarcsi@mail.hu",
                                    "USERNEV": "anett3",
                                    "SZUL_DAT": "1967-01-03"
                                },
                                {
                                    "NEV": "Tóth Anikó",
                                    "EMAIL": "aniko@gmail.com",
                                    "USERNEV": "aniko",
                                    "SZUL_DAT": "1973-06-03"
                                },
                                {
                                    "NEV": "Böröcz Anikó",
                                    "EMAIL": "aniko4@gmail.com",
                                    "USERNEV": "aniko4",
                                    "SZUL_DAT": "1978-03-26"
                                },
                                {
                                    "NEV": "Simon Anikó",
                                    "EMAIL": "ANIKOS@gmail.com",
                                    "USERNEV": "ANIKOS",
                                    "SZUL_DAT": "1988-12-14"
                                },
                                {
                                    "NEV": "Hamvay-Kovács Anita",
                                    "EMAIL": "anita.hamvay-kovács@mail.hu",
                                    "USERNEV": "anita",
                                    "SZUL_DAT": "1971-03-20"
                                },
                                {
                                    "NEV": "Szűcs Annamária",
                                    "EMAIL": "annamária.szűcs@mail.hu",
                                    "USERNEV": "annamaria1",
                                    "SZUL_DAT": "1990-04-27"
                                },
                                {
                                    "NEV": "Regős Annamária",
                                    "EMAIL": "ANNAMARIAR@gmail.com",
                                    "USERNEV": "ANNAMARIAR",
                                    "SZUL_DAT": "1977-09-26"
                                },
                                {
                                    "NEV": "Jakab Áron",
                                    "EMAIL": "aron2@gmail.com",
                                    "USERNEV": "aron2",
                                    "SZUL_DAT": "1971-04-26"
                                },
                                {
                                    "NEV": "Kelemen Áron",
                                    "EMAIL": "áron.kelemen@mail.hu",
                                    "USERNEV": "ARONK",
                                    "SZUL_DAT": "1989-08-10"
                                },
                                {
                                    "NEV": "Ötvös Árpád",
                                    "EMAIL": "árpád.ötvös@mail.hu",
                                    "USERNEV": "arpad2",
                                    "SZUL_DAT": "1990-06-08"
                                },
                                {
                                    "NEV": "Móricz Árpád",
                                    "EMAIL": "árpád.móricz@mail.hu",
                                    "USERNEV": "ARPADM",
                                    "SZUL_DAT": "1986-04-20"
                                },
                                {
                                    "NEV": "Csóti Attila",
                                    "EMAIL": "attila@gmail.com",
                                    "USERNEV": "attila",
                                    "SZUL_DAT": "1979-12-25"
                                },
                                {
                                    "NEV": "Gulyás Attila",
                                    "EMAIL": "attila.gulyás@mail.hu",
                                    "USERNEV": "attila1",
                                    "SZUL_DAT": "1982-08-16"
                                },
                                {
                                    "NEV": "Baróti Attila",
                                    "EMAIL": "attila.baróti@mail.hu",
                                    "USERNEV": "attila4",
                                    "SZUL_DAT": "1975-11-06"
                                },
                                {
                                    "NEV": "Bozsik Balázs",
                                    "EMAIL": "balázs.bozsik@mail.hu",
                                    "USERNEV": "balazs1",
                                    "SZUL_DAT": "1992-11-03"
                                },
                                {
                                    "NEV": "Szűcs Balázs",
                                    "EMAIL": "balázs.szűcs@mail.hu",
                                    "USERNEV": "balazs2",
                                    "SZUL_DAT": "1984-10-31"
                                },
                                {
                                    "NEV": "Bakódy Balázs",
                                    "EMAIL": "balazs3@gmail.com",
                                    "USERNEV": "balazs3",
                                    "SZUL_DAT": "1986-09-09"
                                },
                                {
                                    "NEV": "Horváth Bálint",
                                    "EMAIL": "balint@gmail.com",
                                    "USERNEV": "balint",
                                    "SZUL_DAT": "1996-03-17"
                                },
                                {
                                    "NEV": "Molnár Bálint",
                                    "EMAIL": "balint1@gmail.com",
                                    "USERNEV": "balint1",
                                    "SZUL_DAT": "1989-08-24"
                                },
                                {
                                    "NEV": "Vukasinovity Bálint",
                                    "EMAIL": "balint2@gmail.com",
                                    "USERNEV": "balint2",
                                    "SZUL_DAT": "1997-09-03"
                                },
                                {
                                    "NEV": "Endresz Bálint",
                                    "EMAIL": "bálint.endresz@mail.hu",
                                    "USERNEV": "balu",
                                    "SZUL_DAT": "1976-08-01"
                                },
                                {
                                    "NEV": "Bagi Beáta",
                                    "EMAIL": "beáta.bagi@mail.hu",
                                    "USERNEV": "beata4",
                                    "SZUL_DAT": "1994-03-19"
                                },
                                {
                                    "NEV": "Kerényi Beatrix",
                                    "EMAIL": "beatrix.kerényi@mail.hu",
                                    "USERNEV": "BEATRIXK",
                                    "SZUL_DAT": "1972-04-06"
                                },
                                {
                                    "NEV": "Szekendi Beatrix",
                                    "EMAIL": "beatrix.szekendi@mail.hu",
                                    "USERNEV": "BEATRIXS",
                                    "SZUL_DAT": "1981-04-06"
                                },
                                {
                                    "NEV": "Farkas Béla",
                                    "EMAIL": "BELAF@gmail.com",
                                    "USERNEV": "BELAF",
                                    "SZUL_DAT": "1995-02-24"
                                },
                                {
                                    "NEV": "Győrffy Bence",
                                    "EMAIL": "bence@gmail.com",
                                    "USERNEV": "bence",
                                    "SZUL_DAT": "1987-07-09"
                                },
                                {
                                    "NEV": "Bajusz Bence",
                                    "EMAIL": "bence.bajusz@mail.hu",
                                    "USERNEV": "BENCEB",
                                    "SZUL_DAT": "1973-06-21"
                                },
                                {
                                    "NEV": "Simon Bernadett",
                                    "EMAIL": "bernadett1@gmail.com",
                                    "USERNEV": "bernadett1",
                                    "SZUL_DAT": "1984-10-13"
                                },
                                {
                                    "NEV": "Kovács Bernadett",
                                    "EMAIL": "bernadett.kovács@mail.hu",
                                    "USERNEV": "bernadett2",
                                    "SZUL_DAT": "1996-08-20"
                                },
                                {
                                    "NEV": "Orbán Bernadett",
                                    "EMAIL": "bernadett.orbán@mail.hu",
                                    "USERNEV": "BERNADETTO",
                                    "SZUL_DAT": "1987-12-07"
                                },
                                {
                                    "NEV": "Csiger Bertalan",
                                    "EMAIL": "bertalan@gmail.com",
                                    "USERNEV": "bertalan",
                                    "SZUL_DAT": "1977-10-15"
                                },
                                {
                                    "NEV": "Székely Brigitta",
                                    "EMAIL": "brigitta.székely@mail.hu",
                                    "USERNEV": "brigitta",
                                    "SZUL_DAT": "1978-09-13"
                                },
                                {
                                    "NEV": "Nagymihály Csongor",
                                    "EMAIL": "csongor.nagymihály@mail.hu",
                                    "USERNEV": "csongor3",
                                    "SZUL_DAT": "1984-03-05"
                                },
                                {
                                    "NEV": "Vörös Dániel",
                                    "EMAIL": "daniel@gmail.com",
                                    "USERNEV": "dani",
                                    "SZUL_DAT": "1986-10-14"
                                },
                                {
                                    "NEV": "Rácz Dániel",
                                    "EMAIL": "dániel.rácz@mail.hu",
                                    "USERNEV": "daniel",
                                    "SZUL_DAT": "1978-11-28"
                                },
                                {
                                    "NEV": "Keszler Dániel",
                                    "EMAIL": "dániel.keszler@mail.hu",
                                    "USERNEV": "daniel1",
                                    "SZUL_DAT": "1969-07-16"
                                },
                                {
                                    "NEV": "Ambrus Dávid",
                                    "EMAIL": "david@gmail.com",
                                    "USERNEV": "david",
                                    "SZUL_DAT": "1974-02-11"
                                },
                                {
                                    "NEV": "Sobják Dávid",
                                    "EMAIL": "david1@gmail.com",
                                    "USERNEV": "david1",
                                    "SZUL_DAT": "1970-08-16"
                                },
                                {
                                    "NEV": "Barna Debóra",
                                    "EMAIL": "debóra.barna@mail.hu",
                                    "USERNEV": "debora",
                                    "SZUL_DAT": "1976-10-14"
                                },
                                {
                                    "NEV": "Tömböly Dénes",
                                    "EMAIL": "denes@gmail.com",
                                    "USERNEV": "denes",
                                    "SZUL_DAT": "1975-03-14"
                                },
                                {
                                    "NEV": "Bittmann Edit",
                                    "EMAIL": "edit.bittmann@mail.hu",
                                    "USERNEV": "edit",
                                    "SZUL_DAT": "1984-04-20"
                                },
                                {
                                    "NEV": "Kuruc Emese",
                                    "EMAIL": "emese.kuruc@mail.hu",
                                    "USERNEV": "emese",
                                    "SZUL_DAT": "1989-08-10"
                                },
                                {
                                    "NEV": "Balogh Eszter",
                                    "EMAIL": "eszter.balogh@mail.hu",
                                    "USERNEV": "eszter2",
                                    "SZUL_DAT": "1998-01-31"
                                },
                                {
                                    "NEV": "Fülöp Eszter",
                                    "EMAIL": "eszter.fülöp@mail.hu",
                                    "USERNEV": "eszter4",
                                    "SZUL_DAT": "1993-06-28"
                                },
                                {
                                    "NEV": "Érsek Eszter",
                                    "EMAIL": "eszter.érsek@mail.hu",
                                    "USERNEV": "ESZTERE",
                                    "SZUL_DAT": "1978-08-28"
                                },
                                {
                                    "NEV": "Enyedi Éva",
                                    "EMAIL": "eva@gmail.com",
                                    "USERNEV": "eva",
                                    "SZUL_DAT": "1967-06-30"
                                },
                                {
                                    "NEV": "Perlinger Éva",
                                    "EMAIL": "eva2@gmail.com",
                                    "USERNEV": "eva2",
                                    "SZUL_DAT": "1971-08-19"
                                },
                                {
                                    "NEV": "Viktor Éva",
                                    "EMAIL": "EVAV@gmail.com",
                                    "USERNEV": "EVAV",
                                    "SZUL_DAT": "1980-12-26"
                                },
                                {
                                    "NEV": "Orosz Ferenc",
                                    "EMAIL": "ferenc.orosz@mail.hu",
                                    "USERNEV": "ferenc1",
                                    "SZUL_DAT": "1983-10-08"
                                },
                                {
                                    "NEV": "Frank Fruzsina",
                                    "EMAIL": "fruzsina4@gmail.com",
                                    "USERNEV": "fruzsina4",
                                    "SZUL_DAT": "1996-08-16"
                                },
                                {
                                    "NEV": "Köves Gábor",
                                    "EMAIL": "gabor1@gmail.com",
                                    "USERNEV": "gabor1",
                                    "SZUL_DAT": "1973-07-15"
                                },
                                {
                                    "NEV": "Telek Gábor",
                                    "EMAIL": "gábor.telek@mail.hu",
                                    "USERNEV": "gabor4",
                                    "SZUL_DAT": "1987-03-15"
                                },
                                {
                                    "NEV": "Nagy Gabriella",
                                    "EMAIL": "gabriella1@gmail.com",
                                    "USERNEV": "gabriella1",
                                    "SZUL_DAT": "1982-11-01"
                                },
                                {
                                    "NEV": "Nyíri Georgij",
                                    "EMAIL": "georgij.nyíri@mail.hu",
                                    "USERNEV": "georgij",
                                    "SZUL_DAT": "1983-02-23"
                                },
                                {
                                    "NEV": "Bárci Gusztáv",
                                    "EMAIL": "gusztav@gmail.com",
                                    "USERNEV": "gusztav",
                                    "SZUL_DAT": "1967-02-25"
                                },
                                {
                                    "NEV": "Kornseé Gyöngyi",
                                    "EMAIL": "gyöngyi.kornseé@mail.hu",
                                    "USERNEV": "GYONGYIK",
                                    "SZUL_DAT": "1974-06-07"
                                },
                                {
                                    "NEV": "Oroszi György",
                                    "EMAIL": "GYORGYO@gmail.com",
                                    "USERNEV": "GYORGYO",
                                    "SZUL_DAT": "1980-03-23"
                                },
                                {
                                    "NEV": "Nádudvari Henrik",
                                    "EMAIL": "henrik.nádudvari@mail.hu",
                                    "USERNEV": "henrik3",
                                    "SZUL_DAT": "1986-12-05"
                                },
                                {
                                    "NEV": "Andor Ibolya",
                                    "EMAIL": "ibolya.andor@mail.hu",
                                    "USERNEV": "IBOLYAA",
                                    "SZUL_DAT": "1983-11-27"
                                },
                                {
                                    "NEV": "Bosnyák Ilona",
                                    "EMAIL": "ilona3@gmail.com",
                                    "USERNEV": "ilona3",
                                    "SZUL_DAT": "1990-08-06"
                                },
                                {
                                    "NEV": "Búza Imre",
                                    "EMAIL": "imre.búza@mail.hu",
                                    "USERNEV": "imre",
                                    "SZUL_DAT": "1988-09-30"
                                },
                                {
                                    "NEV": "Papp Imre",
                                    "EMAIL": "imre.papp@mail.hu",
                                    "USERNEV": "imre1",
                                    "SZUL_DAT": "1976-06-25"
                                },
                                {
                                    "NEV": "Soós István",
                                    "EMAIL": "istvan@gmail.com",
                                    "USERNEV": "istvan",
                                    "SZUL_DAT": "1986-06-28"
                                },
                                {
                                    "NEV": "Vizi István",
                                    "EMAIL": "istván.vizi@mail.hu",
                                    "USERNEV": "istvan1",
                                    "SZUL_DAT": "1997-12-01"
                                },
                                {
                                    "NEV": "Varga István",
                                    "EMAIL": "ISTVANV@gmail.com",
                                    "USERNEV": "ISTVANV",
                                    "SZUL_DAT": "1989-04-09"
                                },
                                {
                                    "NEV": "Harangozó János",
                                    "EMAIL": "janos3@gmail.com",
                                    "USERNEV": "janos3",
                                    "SZUL_DAT": "1967-11-02"
                                },
                                {
                                    "NEV": "Giliga János",
                                    "EMAIL": "JANOSG@gmail.com",
                                    "USERNEV": "JANOSG",
                                    "SZUL_DAT": "1975-01-03"
                                },
                                {
                                    "NEV": "Pálinkás János",
                                    "EMAIL": "JANOSP@gmail.com",
                                    "USERNEV": "JANOSP",
                                    "SZUL_DAT": "1984-10-12"
                                },
                                {
                                    "NEV": "Gergely József",
                                    "EMAIL": "jozsef@gmail.com",
                                    "USERNEV": "jozsef",
                                    "SZUL_DAT": "1985-11-01"
                                },
                                {
                                    "NEV": "Vajda József",
                                    "EMAIL": "józsef.vajda@mail.hu",
                                    "USERNEV": "jozsef2",
                                    "SZUL_DAT": "1978-09-04"
                                },
                                {
                                    "NEV": "Hídasi Judit",
                                    "EMAIL": "JUDITH@gmail.com",
                                    "USERNEV": "JUDITH",
                                    "SZUL_DAT": "1997-07-12"
                                },
                                {
                                    "NEV": "Tóth Júlia",
                                    "EMAIL": "julia@gmail.com",
                                    "USERNEV": "julia",
                                    "SZUL_DAT": "1993-03-02"
                                },
                                {
                                    "NEV": "Nagy Júlia",
                                    "EMAIL": "julia4@gmail.com",
                                    "USERNEV": "julia4",
                                    "SZUL_DAT": "1985-08-11"
                                },
                                {
                                    "NEV": "Szabó Julianna",
                                    "EMAIL": "julianna4@gmail.com",
                                    "USERNEV": "julianna4",
                                    "SZUL_DAT": "1990-09-29"
                                },
                                {
                                    "NEV": "Gondos Katalin",
                                    "EMAIL": "katalin.gondos@mail.hu",
                                    "USERNEV": "kata",
                                    "SZUL_DAT": "1968-06-22"
                                },
                                {
                                    "NEV": "Horváth Katalin",
                                    "EMAIL": "katalin.horváth@mail.hu",
                                    "USERNEV": "katalin",
                                    "SZUL_DAT": "1968-01-01"
                                },
                                {
                                    "NEV": "Kertész Katalin",
                                    "EMAIL": "katalin4@gmail.com",
                                    "USERNEV": "katalin4",
                                    "SZUL_DAT": "1986-04-13"
                                },
                                {
                                    "NEV": "Kovács Katalin",
                                    "EMAIL": "katalin.kovács@mail.hu",
                                    "USERNEV": "katka",
                                    "SZUL_DAT": "1975-03-31"
                                },
                                {
                                    "NEV": "Bakó Klaudia",
                                    "EMAIL": "klaudia.bakó@mail.hu",
                                    "USERNEV": "klaudia2",
                                    "SZUL_DAT": "1982-04-16"
                                },
                                {
                                    "NEV": "Lukács Kornél",
                                    "EMAIL": "kornél.lukács@mail.hu",
                                    "USERNEV": "kornel4",
                                    "SZUL_DAT": "1975-09-30"
                                },
                                {
                                    "NEV": "Poprádi Kristóf",
                                    "EMAIL": "kristof4@gmail.com",
                                    "USERNEV": "kristof4",
                                    "SZUL_DAT": "1984-01-15"
                                },
                                {
                                    "NEV": "Horváth Krisztina",
                                    "EMAIL": "kriszti@gmail.com",
                                    "USERNEV": "kriszti",
                                    "SZUL_DAT": "1978-06-12"
                                },
                                {
                                    "NEV": "Czérna Krisztián",
                                    "EMAIL": "krisztián.czérna@mail.hu",
                                    "USERNEV": "krisztian4",
                                    "SZUL_DAT": "1970-08-01"
                                },
                                {
                                    "NEV": "Bori Krisztina",
                                    "EMAIL": "krisztina.bori@mail.hu",
                                    "USERNEV": "krisztina1",
                                    "SZUL_DAT": "1969-10-13"
                                },
                                {
                                    "NEV": "Gyárfás Krisztina",
                                    "EMAIL": "KRISZTINAG@gmail.com",
                                    "USERNEV": "KRISZTINAG",
                                    "SZUL_DAT": "1987-09-19"
                                },
                                {
                                    "NEV": "Kiss Lajos",
                                    "EMAIL": "lajos.kiss@mail.hu",
                                    "USERNEV": "lajos",
                                    "SZUL_DAT": "1978-10-31"
                                },
                                {
                                    "NEV": "Nagymihály Lajos",
                                    "EMAIL": "lajos.nagymihály@mail.hu",
                                    "USERNEV": "lala",
                                    "SZUL_DAT": "1997-02-24"
                                },
                                {
                                    "NEV": "Móra László",
                                    "EMAIL": "lászló.móra@mail.hu",
                                    "USERNEV": "laszlo2",
                                    "SZUL_DAT": "1975-02-19"
                                },
                                {
                                    "NEV": "Antal László",
                                    "EMAIL": "lászló.antal@mail.hu",
                                    "USERNEV": "LASZLOA",
                                    "SZUL_DAT": "1969-06-29"
                                },
                                {
                                    "NEV": "Nagy László",
                                    "EMAIL": "lászló.nagy@mail.hu",
                                    "USERNEV": "LASZLON",
                                    "SZUL_DAT": "1969-04-12"
                                },
                                {
                                    "NEV": "Baráth Mária",
                                    "EMAIL": "mária.baráth@mail.hu",
                                    "USERNEV": "maria1",
                                    "SZUL_DAT": "1995-11-19"
                                },
                                {
                                    "NEV": "Kispál Márk",
                                    "EMAIL": "márk.kispál@mail.hu",
                                    "USERNEV": "mark",
                                    "SZUL_DAT": "1996-01-23"
                                },
                                {
                                    "NEV": "Horváth Márk",
                                    "EMAIL": "márk.horváth@mail.hu",
                                    "USERNEV": "MARKH",
                                    "SZUL_DAT": "1997-09-23"
                                },
                                {
                                    "NEV": "Kalacsi Márton",
                                    "EMAIL": "marton@gmail.com",
                                    "USERNEV": "marton",
                                    "SZUL_DAT": "1989-06-24"
                                },
                                {
                                    "NEV": "Koza Máté",
                                    "EMAIL": "máté.koza@mail.hu",
                                    "USERNEV": "MATEK",
                                    "SZUL_DAT": "1997-02-28"
                                },
                                {
                                    "NEV": "Botka Mátyás",
                                    "EMAIL": "matyas2@gmail.com",
                                    "USERNEV": "matyas2",
                                    "SZUL_DAT": "1972-07-07"
                                },
                                {
                                    "NEV": "Szilágyi Mátyás",
                                    "EMAIL": "mátyás.szilágyi@mail.hu",
                                    "USERNEV": "MATYASS",
                                    "SZUL_DAT": "1975-03-22"
                                },
                                {
                                    "NEV": "Juhász Mihály",
                                    "EMAIL": "mihály.juhász@mail.hu",
                                    "USERNEV": "MIHALYJ",
                                    "SZUL_DAT": "1979-10-12"
                                },
                                {
                                    "NEV": "Gondos Miklós",
                                    "EMAIL": "miklos2@gmail.com",
                                    "USERNEV": "miklos2",
                                    "SZUL_DAT": "1995-10-07"
                                },
                                {
                                    "NEV": "Balla Miklós",
                                    "EMAIL": "miklós.balla@mail.hu",
                                    "USERNEV": "MIKLOSB",
                                    "SZUL_DAT": "1979-02-16"
                                },
                                {
                                    "NEV": "Mohos Mónika",
                                    "EMAIL": "mónika.mohos@mail.hu",
                                    "USERNEV": "MONIKAM",
                                    "SZUL_DAT": "1974-10-01"
                                },
                                {
                                    "NEV": "Fő Nándor",
                                    "EMAIL": "nándor.fő@mail.hu",
                                    "USERNEV": "NANDORF",
                                    "SZUL_DAT": "1968-11-12"
                                },
                                {
                                    "NEV": "Horváth Nikolett",
                                    "EMAIL": "nikolett3@gmail.com",
                                    "USERNEV": "nikolett3",
                                    "SZUL_DAT": "1981-09-29"
                                },
                                {
                                    "NEV": "Kő Nikoletta",
                                    "EMAIL": "nikoletta4@gmail.com",
                                    "USERNEV": "nikoletta4",
                                    "SZUL_DAT": "1972-01-10"
                                },
                                {
                                    "NEV": "Tatár Nikoletta",
                                    "EMAIL": "nikoletta.tatár@mail.hu",
                                    "USERNEV": "NIKOLETTAT",
                                    "SZUL_DAT": "1997-10-19"
                                },
                                {
                                    "NEV": "Szűcs Norbert",
                                    "EMAIL": "norbert@gmail.com",
                                    "USERNEV": "norbert",
                                    "SZUL_DAT": "1969-07-17"
                                },
                                {
                                    "NEV": "Hegedűs Norbert",
                                    "EMAIL": "norbert.hegedűs@mail.hu",
                                    "USERNEV": "norbert2",
                                    "SZUL_DAT": "1991-07-17"
                                },
                                {
                                    "NEV": "Mile Norbert",
                                    "EMAIL": "norbert4@gmail.com",
                                    "USERNEV": "norbert4",
                                    "SZUL_DAT": "1983-06-15"
                                },
                                {
                                    "NEV": "Béres Norbert",
                                    "EMAIL": "norbert5@gmail.com",
                                    "USERNEV": "norbert5",
                                    "SZUL_DAT": "1975-07-27"
                                },
                                {
                                    "NEV": "Barabás Pál",
                                    "EMAIL": "pál.barabás@mail.hu",
                                    "USERNEV": "pal",
                                    "SZUL_DAT": "1968-02-06"
                                },
                                {
                                    "NEV": "Kozma Péter",
                                    "EMAIL": "peter1@gmail.com",
                                    "USERNEV": "peter1",
                                    "SZUL_DAT": "1976-03-18"
                                },
                                {
                                    "NEV": "Bozsó Péter",
                                    "EMAIL": "peter2@gmail.com",
                                    "USERNEV": "peter2",
                                    "SZUL_DAT": "1976-01-26"
                                },
                                {
                                    "NEV": "Szalai Péter",
                                    "EMAIL": "peter3@gmail.com",
                                    "USERNEV": "peter3",
                                    "SZUL_DAT": "1983-07-18"
                                },
                                {
                                    "NEV": "Bíró Péter",
                                    "EMAIL": "péter.bíró@mail.hu",
                                    "USERNEV": "peter4",
                                    "SZUL_DAT": "1985-09-01"
                                },
                                {
                                    "NEV": "Berendi Péter",
                                    "EMAIL": "péter.berendi@mail.hu",
                                    "USERNEV": "PETERB",
                                    "SZUL_DAT": "1969-01-01"
                                },
                                {
                                    "NEV": "Palágyi Polla",
                                    "EMAIL": "polla@gmail.com",
                                    "USERNEV": "polla",
                                    "SZUL_DAT": "1994-02-04"
                                },
                                {
                                    "NEV": "Rácz Rajmond",
                                    "EMAIL": "rajmond.rácz@mail.hu",
                                    "USERNEV": "rajmond4",
                                    "SZUL_DAT": "1993-09-25"
                                },
                                {
                                    "NEV": "Szikszai Réka",
                                    "EMAIL": "réka.szikszai@mail.hu",
                                    "USERNEV": "reka4",
                                    "SZUL_DAT": "1969-11-27"
                                },
                                {
                                    "NEV": "Szirmai Renáta",
                                    "EMAIL": "RENATAS@gmail.com",
                                    "USERNEV": "RENATAS",
                                    "SZUL_DAT": "1991-03-26"
                                },
                                {
                                    "NEV": "Patay Róbert",
                                    "EMAIL": "robert2@gmail.com",
                                    "USERNEV": "robert2",
                                    "SZUL_DAT": "1977-01-08"
                                },
                                {
                                    "NEV": "Iván Róbert",
                                    "EMAIL": "róbert.iván@mail.hu",
                                    "USERNEV": "ROBERTI",
                                    "SZUL_DAT": "1967-07-02"
                                },
                                {
                                    "NEV": "Tóth Roland",
                                    "EMAIL": "roland@gmail.com",
                                    "USERNEV": "roland",
                                    "SZUL_DAT": "1968-03-21"
                                },
                                {
                                    "NEV": "Ferencz Roland",
                                    "EMAIL": "roland.ferencz@mail.hu",
                                    "USERNEV": "roland1",
                                    "SZUL_DAT": "1985-12-31"
                                },
                                {
                                    "NEV": "Bucskó Róza",
                                    "EMAIL": "roza2@gmail.com",
                                    "USERNEV": "roza2",
                                    "SZUL_DAT": "1988-12-26"
                                },
                                {
                                    "NEV": "Karasz Sándor",
                                    "EMAIL": "sandor@gmail.com",
                                    "USERNEV": "sandor",
                                    "SZUL_DAT": "1970-01-27"
                                },
                                {
                                    "NEV": "Farkas Sándor",
                                    "EMAIL": "sándor.farkas@mail.hu",
                                    "USERNEV": "sandor3",
                                    "SZUL_DAT": "1989-01-27"
                                },
                                {
                                    "NEV": "Nagy Sándor",
                                    "EMAIL": "sandor4@gmail.com",
                                    "USERNEV": "sandor4",
                                    "SZUL_DAT": "1997-06-11"
                                },
                                {
                                    "NEV": "Farkas Sára",
                                    "EMAIL": "sára.farkas@mail.hu",
                                    "USERNEV": "sara",
                                    "SZUL_DAT": "1973-04-05"
                                },
                                {
                                    "NEV": "Foltényi Sebastián",
                                    "EMAIL": "SEBASTIANF@gmail.com",
                                    "USERNEV": "SEBASTIANF",
                                    "SZUL_DAT": "1992-09-09"
                                },
                                {
                                    "NEV": "Rab Sebestyén",
                                    "EMAIL": "sebestyen@gmail.com",
                                    "USERNEV": "sebestyen",
                                    "SZUL_DAT": "1992-03-03"
                                },
                                {
                                    "NEV": "Miklós Szabolcs",
                                    "EMAIL": "szabolcs.miklós@mail.hu",
                                    "USERNEV": "SZABOLCSM",
                                    "SZUL_DAT": "1980-08-11"
                                },
                                {
                                    "NEV": "Szalai Szilárd",
                                    "EMAIL": "szilárd.szalai@mail.hu",
                                    "USERNEV": "SZILARDS",
                                    "SZUL_DAT": "1967-09-28"
                                },
                                {
                                    "NEV": "Tari Szilvia",
                                    "EMAIL": "szilvia.tari@mail.hu",
                                    "USERNEV": "szilvia1",
                                    "SZUL_DAT": "1971-03-09"
                                },
                                {
                                    "NEV": "Miklós Tamara",
                                    "EMAIL": "tamara.miklós@mail.hu",
                                    "USERNEV": "tamara2",
                                    "SZUL_DAT": "1980-08-11"
                                },
                                {
                                    "NEV": "Antal Tamás",
                                    "EMAIL": "tamás.antal@mail.hu",
                                    "USERNEV": "tamas",
                                    "SZUL_DAT": "1984-09-05"
                                },
                                {
                                    "NEV": "Fényes Tamás",
                                    "EMAIL": "TAMASF@gmail.com",
                                    "USERNEV": "TAMASF",
                                    "SZUL_DAT": "1997-11-06"
                                },
                                {
                                    "NEV": "Gombos Tibor",
                                    "EMAIL": "tibor.gombos@mail.hu",
                                    "USERNEV": "tibor",
                                    "SZUL_DAT": "1993-11-28"
                                },
                                {
                                    "NEV": "Kazy Tihamér",
                                    "EMAIL": "tihamér.kazy@mail.hu",
                                    "USERNEV": "tihamer",
                                    "SZUL_DAT": "1991-07-05"
                                },
                                {
                                    "NEV": "Dusha Tímea",
                                    "EMAIL": "tímea.dusha@mail.hu",
                                    "USERNEV": "timea2",
                                    "SZUL_DAT": "1975-08-22"
                                },
                                {
                                    "NEV": "Turcsik Tünde",
                                    "EMAIL": "tunde@gmail.com",
                                    "USERNEV": "tunde",
                                    "SZUL_DAT": "1974-02-12"
                                },
                                {
                                    "NEV": "Feró Valentin",
                                    "EMAIL": "valentin.feró@mail.hu",
                                    "USERNEV": "valentin",
                                    "SZUL_DAT": "1986-01-09"
                                },
                                {
                                    "NEV": "Tankó Veronika",
                                    "EMAIL": "veronika4@gmail.com",
                                    "USERNEV": "veronika4",
                                    "SZUL_DAT": "1983-08-28"
                                },
                                {
                                    "NEV": "Boros Vivien",
                                    "EMAIL": "vivien3@gmail.com",
                                    "USERNEV": "vivien3",
                                    "SZUL_DAT": "1991-07-01"
                                },
                                {
                                    "NEV": "Fodor Zoltán",
                                    "EMAIL": "zoltán.fodor@mail.hu",
                                    "USERNEV": "zoltan",
                                    "SZUL_DAT": "1979-11-25"
                                },
                                {
                                    "NEV": "Pintér Zoltán",
                                    "EMAIL": "zoltán.pintér@mail.hu",
                                    "USERNEV": "ZOLTANP",
                                    "SZUL_DAT": "1977-06-07"
                                },
                                {
                                    "NEV": "Tóth Zoltán",
                                    "EMAIL": "zoltán.tóth@mail.hu",
                                    "USERNEV": "ZOLTANT",
                                    "SZUL_DAT": "1985-12-14"
                                },
                                {
                                    "NEV": "Molnár Zsófi",
                                    "EMAIL": "zsofi1@gmail.com",
                                    "USERNEV": "zsofi1",
                                    "SZUL_DAT": "1983-11-17"
                                },
                                {
                                    "NEV": "Józsa Zsolt",
                                    "EMAIL": "ZSOLTJ@gmail.com",
                                    "USERNEV": "ZSOLTJ",
                                    "SZUL_DAT": "1983-09-29"
                                },
                                {
                                    "NEV": "Pusztai Zsuzsanna",
                                    "EMAIL": "zsuzsanna@gmail.com",
                                    "USERNEV": "zsuzsa",
                                    "SZUL_DAT": "1980-09-17"
                                },
                                {
                                    "NEV": "Varsányi Zsuzsa",
                                    "EMAIL": "zsuzsa.varsányi@mail.hu",
                                    "USERNEV": "zsuzsa3",
                                    "SZUL_DAT": "1979-03-06"
                                },
                                {
                                    "NEV": "Barta Zsuzsanna",
                                    "EMAIL": "zsuzsanna.barta@mail.hu",
                                    "USERNEV": "zsuzsanna",
                                    "SZUL_DAT": "1994-10-07"
                                },
                                {
                                    "NEV": "Vajda Zsuzsa",
                                    "EMAIL": "zsuzsa.vajda@mail.hu",
                                    "USERNEV": "ZSUZSAV",
                                    "SZUL_DAT": "1976-12-11"
                                }
                            ]
                        },
                        "text/html": [
                            "<table>",
                            "<tr><th>NEV</th><th>EMAIL</th><th>USERNEV</th><th>SZUL_DAT</th></tr>",
                            "<tr><td>Kiss Ádám</td><td>ádám.kiss@mail.hu</td><td>adam1</td><td>1991-12-28</td></tr>",
                            "<tr><td>Barkóci Ádám</td><td>adam3@gmail.com</td><td>adam3</td><td>1970-06-07</td></tr>",
                            "<tr><td>Bieniek Ádám</td><td>ádám.bieniek@mail.hu</td><td>adam4</td><td>1976-08-01</td></tr>",
                            "<tr><td>Lengyel Ágnes</td><td>agnes@gmail.com</td><td>agnes</td><td>1979-12-10</td></tr>",
                            "<tr><td>Hartyánszky Ágnes</td><td>agnes3@gmail.com</td><td>agnes3</td><td>1967-04-11</td></tr>",
                            "<tr><td>Horváth Ágnes</td><td>AGNESH@gmail.com</td><td>AGNESH</td><td>1981-12-24</td></tr>",
                            "<tr><td>Kovács Ágnes</td><td>AGNESK@gmail.com</td><td>AGNESK</td><td>1988-10-02</td></tr>",
                            "<tr><td>Bíró Ákos</td><td>ákos.bíró@mail.hu</td><td>akos</td><td>1982-04-24</td></tr>",
                            "<tr><td>Dunai Aladár</td><td>aladár.dunai@mail.hu</td><td>aladar</td><td>1980-11-01</td></tr>",
                            "<tr><td>Bagóczki Alexandra</td><td>alexandra.bagóczki@mail.hu</td><td>alexandra</td><td>1992-03-25</td></tr>",
                            "<tr><td>Tóth András</td><td>andrás.tóth@mail.hu</td><td>andras2</td><td>1997-10-31</td></tr>",
                            "<tr><td>Molnár András</td><td>andrás.molnár@mail.hu</td><td>andras21</td><td>1977-11-16</td></tr>",
                            "<tr><td>Vígh András</td><td>andrás.vígh@mail.hu</td><td>andras3</td><td>1971-04-02</td></tr>",
                            "<tr><td>Back András</td><td>andras4@gmail.com</td><td>andras4</td><td>1984-04-07</td></tr>",
                            "<tr><td>Komjáti András</td><td>andras41@gmail.com</td><td>andras41</td><td>1997-10-25</td></tr>",
                            "<tr><td>Kiss Andrea</td><td>andrea.kiss@mail.hu</td><td>andrea</td><td>1993-03-25</td></tr>",
                            "<tr><td>Tornyos Andrea</td><td>ANDREAT@gmail.com</td><td>ANDREAT</td><td>1986-11-14</td></tr>",
                            "<tr><td>Pivarcsi Anett</td><td>anett.pivarcsi@mail.hu</td><td>anett3</td><td>1967-01-03</td></tr>",
                            "<tr><td>Tóth Anikó</td><td>aniko@gmail.com</td><td>aniko</td><td>1973-06-03</td></tr>",
                            "<tr><td>Böröcz Anikó</td><td>aniko4@gmail.com</td><td>aniko4</td><td>1978-03-26</td></tr>",
                            "<tr><td>Simon Anikó</td><td>ANIKOS@gmail.com</td><td>ANIKOS</td><td>1988-12-14</td></tr>",
                            "<tr><td>Hamvay-Kovács Anita</td><td>anita.hamvay-kovács@mail.hu</td><td>anita</td><td>1971-03-20</td></tr>",
                            "<tr><td>Szűcs Annamária</td><td>annamária.szűcs@mail.hu</td><td>annamaria1</td><td>1990-04-27</td></tr>",
                            "<tr><td>Regős Annamária</td><td>ANNAMARIAR@gmail.com</td><td>ANNAMARIAR</td><td>1977-09-26</td></tr>",
                            "<tr><td>Jakab Áron</td><td>aron2@gmail.com</td><td>aron2</td><td>1971-04-26</td></tr>",
                            "<tr><td>Kelemen Áron</td><td>áron.kelemen@mail.hu</td><td>ARONK</td><td>1989-08-10</td></tr>",
                            "<tr><td>Ötvös Árpád</td><td>árpád.ötvös@mail.hu</td><td>arpad2</td><td>1990-06-08</td></tr>",
                            "<tr><td>Móricz Árpád</td><td>árpád.móricz@mail.hu</td><td>ARPADM</td><td>1986-04-20</td></tr>",
                            "<tr><td>Csóti Attila</td><td>attila@gmail.com</td><td>attila</td><td>1979-12-25</td></tr>",
                            "<tr><td>Gulyás Attila</td><td>attila.gulyás@mail.hu</td><td>attila1</td><td>1982-08-16</td></tr>",
                            "<tr><td>Baróti Attila</td><td>attila.baróti@mail.hu</td><td>attila4</td><td>1975-11-06</td></tr>",
                            "<tr><td>Bozsik Balázs</td><td>balázs.bozsik@mail.hu</td><td>balazs1</td><td>1992-11-03</td></tr>",
                            "<tr><td>Szűcs Balázs</td><td>balázs.szűcs@mail.hu</td><td>balazs2</td><td>1984-10-31</td></tr>",
                            "<tr><td>Bakódy Balázs</td><td>balazs3@gmail.com</td><td>balazs3</td><td>1986-09-09</td></tr>",
                            "<tr><td>Horváth Bálint</td><td>balint@gmail.com</td><td>balint</td><td>1996-03-17</td></tr>",
                            "<tr><td>Molnár Bálint</td><td>balint1@gmail.com</td><td>balint1</td><td>1989-08-24</td></tr>",
                            "<tr><td>Vukasinovity Bálint</td><td>balint2@gmail.com</td><td>balint2</td><td>1997-09-03</td></tr>",
                            "<tr><td>Endresz Bálint</td><td>bálint.endresz@mail.hu</td><td>balu</td><td>1976-08-01</td></tr>",
                            "<tr><td>Bagi Beáta</td><td>beáta.bagi@mail.hu</td><td>beata4</td><td>1994-03-19</td></tr>",
                            "<tr><td>Kerényi Beatrix</td><td>beatrix.kerényi@mail.hu</td><td>BEATRIXK</td><td>1972-04-06</td></tr>",
                            "<tr><td>Szekendi Beatrix</td><td>beatrix.szekendi@mail.hu</td><td>BEATRIXS</td><td>1981-04-06</td></tr>",
                            "<tr><td>Farkas Béla</td><td>BELAF@gmail.com</td><td>BELAF</td><td>1995-02-24</td></tr>",
                            "<tr><td>Győrffy Bence</td><td>bence@gmail.com</td><td>bence</td><td>1987-07-09</td></tr>",
                            "<tr><td>Bajusz Bence</td><td>bence.bajusz@mail.hu</td><td>BENCEB</td><td>1973-06-21</td></tr>",
                            "<tr><td>Simon Bernadett</td><td>bernadett1@gmail.com</td><td>bernadett1</td><td>1984-10-13</td></tr>",
                            "<tr><td>Kovács Bernadett</td><td>bernadett.kovács@mail.hu</td><td>bernadett2</td><td>1996-08-20</td></tr>",
                            "<tr><td>Orbán Bernadett</td><td>bernadett.orbán@mail.hu</td><td>BERNADETTO</td><td>1987-12-07</td></tr>",
                            "<tr><td>Csiger Bertalan</td><td>bertalan@gmail.com</td><td>bertalan</td><td>1977-10-15</td></tr>",
                            "<tr><td>Székely Brigitta</td><td>brigitta.székely@mail.hu</td><td>brigitta</td><td>1978-09-13</td></tr>",
                            "<tr><td>Nagymihály Csongor</td><td>csongor.nagymihály@mail.hu</td><td>csongor3</td><td>1984-03-05</td></tr>",
                            "<tr><td>Vörös Dániel</td><td>daniel@gmail.com</td><td>dani</td><td>1986-10-14</td></tr>",
                            "<tr><td>Rácz Dániel</td><td>dániel.rácz@mail.hu</td><td>daniel</td><td>1978-11-28</td></tr>",
                            "<tr><td>Keszler Dániel</td><td>dániel.keszler@mail.hu</td><td>daniel1</td><td>1969-07-16</td></tr>",
                            "<tr><td>Ambrus Dávid</td><td>david@gmail.com</td><td>david</td><td>1974-02-11</td></tr>",
                            "<tr><td>Sobják Dávid</td><td>david1@gmail.com</td><td>david1</td><td>1970-08-16</td></tr>",
                            "<tr><td>Barna Debóra</td><td>debóra.barna@mail.hu</td><td>debora</td><td>1976-10-14</td></tr>",
                            "<tr><td>Tömböly Dénes</td><td>denes@gmail.com</td><td>denes</td><td>1975-03-14</td></tr>",
                            "<tr><td>Bittmann Edit</td><td>edit.bittmann@mail.hu</td><td>edit</td><td>1984-04-20</td></tr>",
                            "<tr><td>Kuruc Emese</td><td>emese.kuruc@mail.hu</td><td>emese</td><td>1989-08-10</td></tr>",
                            "<tr><td>Balogh Eszter</td><td>eszter.balogh@mail.hu</td><td>eszter2</td><td>1998-01-31</td></tr>",
                            "<tr><td>Fülöp Eszter</td><td>eszter.fülöp@mail.hu</td><td>eszter4</td><td>1993-06-28</td></tr>",
                            "<tr><td>Érsek Eszter</td><td>eszter.érsek@mail.hu</td><td>ESZTERE</td><td>1978-08-28</td></tr>",
                            "<tr><td>Enyedi Éva</td><td>eva@gmail.com</td><td>eva</td><td>1967-06-30</td></tr>",
                            "<tr><td>Perlinger Éva</td><td>eva2@gmail.com</td><td>eva2</td><td>1971-08-19</td></tr>",
                            "<tr><td>Viktor Éva</td><td>EVAV@gmail.com</td><td>EVAV</td><td>1980-12-26</td></tr>",
                            "<tr><td>Orosz Ferenc</td><td>ferenc.orosz@mail.hu</td><td>ferenc1</td><td>1983-10-08</td></tr>",
                            "<tr><td>Frank Fruzsina</td><td>fruzsina4@gmail.com</td><td>fruzsina4</td><td>1996-08-16</td></tr>",
                            "<tr><td>Köves Gábor</td><td>gabor1@gmail.com</td><td>gabor1</td><td>1973-07-15</td></tr>",
                            "<tr><td>Telek Gábor</td><td>gábor.telek@mail.hu</td><td>gabor4</td><td>1987-03-15</td></tr>",
                            "<tr><td>Nagy Gabriella</td><td>gabriella1@gmail.com</td><td>gabriella1</td><td>1982-11-01</td></tr>",
                            "<tr><td>Nyíri Georgij</td><td>georgij.nyíri@mail.hu</td><td>georgij</td><td>1983-02-23</td></tr>",
                            "<tr><td>Bárci Gusztáv</td><td>gusztav@gmail.com</td><td>gusztav</td><td>1967-02-25</td></tr>",
                            "<tr><td>Kornseé Gyöngyi</td><td>gyöngyi.kornseé@mail.hu</td><td>GYONGYIK</td><td>1974-06-07</td></tr>",
                            "<tr><td>Oroszi György</td><td>GYORGYO@gmail.com</td><td>GYORGYO</td><td>1980-03-23</td></tr>",
                            "<tr><td>Nádudvari Henrik</td><td>henrik.nádudvari@mail.hu</td><td>henrik3</td><td>1986-12-05</td></tr>",
                            "<tr><td>Andor Ibolya</td><td>ibolya.andor@mail.hu</td><td>IBOLYAA</td><td>1983-11-27</td></tr>",
                            "<tr><td>Bosnyák Ilona</td><td>ilona3@gmail.com</td><td>ilona3</td><td>1990-08-06</td></tr>",
                            "<tr><td>Búza Imre</td><td>imre.búza@mail.hu</td><td>imre</td><td>1988-09-30</td></tr>",
                            "<tr><td>Papp Imre</td><td>imre.papp@mail.hu</td><td>imre1</td><td>1976-06-25</td></tr>",
                            "<tr><td>Soós István</td><td>istvan@gmail.com</td><td>istvan</td><td>1986-06-28</td></tr>",
                            "<tr><td>Vizi István</td><td>istván.vizi@mail.hu</td><td>istvan1</td><td>1997-12-01</td></tr>",
                            "<tr><td>Varga István</td><td>ISTVANV@gmail.com</td><td>ISTVANV</td><td>1989-04-09</td></tr>",
                            "<tr><td>Harangozó János</td><td>janos3@gmail.com</td><td>janos3</td><td>1967-11-02</td></tr>",
                            "<tr><td>Giliga János</td><td>JANOSG@gmail.com</td><td>JANOSG</td><td>1975-01-03</td></tr>",
                            "<tr><td>Pálinkás János</td><td>JANOSP@gmail.com</td><td>JANOSP</td><td>1984-10-12</td></tr>",
                            "<tr><td>Gergely József</td><td>jozsef@gmail.com</td><td>jozsef</td><td>1985-11-01</td></tr>",
                            "<tr><td>Vajda József</td><td>józsef.vajda@mail.hu</td><td>jozsef2</td><td>1978-09-04</td></tr>",
                            "<tr><td>Hídasi Judit</td><td>JUDITH@gmail.com</td><td>JUDITH</td><td>1997-07-12</td></tr>",
                            "<tr><td>Tóth Júlia</td><td>julia@gmail.com</td><td>julia</td><td>1993-03-02</td></tr>",
                            "<tr><td>Nagy Júlia</td><td>julia4@gmail.com</td><td>julia4</td><td>1985-08-11</td></tr>",
                            "<tr><td>Szabó Julianna</td><td>julianna4@gmail.com</td><td>julianna4</td><td>1990-09-29</td></tr>",
                            "<tr><td>Gondos Katalin</td><td>katalin.gondos@mail.hu</td><td>kata</td><td>1968-06-22</td></tr>",
                            "<tr><td>Horváth Katalin</td><td>katalin.horváth@mail.hu</td><td>katalin</td><td>1968-01-01</td></tr>",
                            "<tr><td>Kertész Katalin</td><td>katalin4@gmail.com</td><td>katalin4</td><td>1986-04-13</td></tr>",
                            "<tr><td>Kovács Katalin</td><td>katalin.kovács@mail.hu</td><td>katka</td><td>1975-03-31</td></tr>",
                            "<tr><td>Bakó Klaudia</td><td>klaudia.bakó@mail.hu</td><td>klaudia2</td><td>1982-04-16</td></tr>",
                            "<tr><td>Lukács Kornél</td><td>kornél.lukács@mail.hu</td><td>kornel4</td><td>1975-09-30</td></tr>",
                            "<tr><td>Poprádi Kristóf</td><td>kristof4@gmail.com</td><td>kristof4</td><td>1984-01-15</td></tr>",
                            "<tr><td>Horváth Krisztina</td><td>kriszti@gmail.com</td><td>kriszti</td><td>1978-06-12</td></tr>",
                            "<tr><td>Czérna Krisztián</td><td>krisztián.czérna@mail.hu</td><td>krisztian4</td><td>1970-08-01</td></tr>",
                            "<tr><td>Bori Krisztina</td><td>krisztina.bori@mail.hu</td><td>krisztina1</td><td>1969-10-13</td></tr>",
                            "<tr><td>Gyárfás Krisztina</td><td>KRISZTINAG@gmail.com</td><td>KRISZTINAG</td><td>1987-09-19</td></tr>",
                            "<tr><td>Kiss Lajos</td><td>lajos.kiss@mail.hu</td><td>lajos</td><td>1978-10-31</td></tr>",
                            "<tr><td>Nagymihály Lajos</td><td>lajos.nagymihály@mail.hu</td><td>lala</td><td>1997-02-24</td></tr>",
                            "<tr><td>Móra László</td><td>lászló.móra@mail.hu</td><td>laszlo2</td><td>1975-02-19</td></tr>",
                            "<tr><td>Antal László</td><td>lászló.antal@mail.hu</td><td>LASZLOA</td><td>1969-06-29</td></tr>",
                            "<tr><td>Nagy László</td><td>lászló.nagy@mail.hu</td><td>LASZLON</td><td>1969-04-12</td></tr>",
                            "<tr><td>Baráth Mária</td><td>mária.baráth@mail.hu</td><td>maria1</td><td>1995-11-19</td></tr>",
                            "<tr><td>Kispál Márk</td><td>márk.kispál@mail.hu</td><td>mark</td><td>1996-01-23</td></tr>",
                            "<tr><td>Horváth Márk</td><td>márk.horváth@mail.hu</td><td>MARKH</td><td>1997-09-23</td></tr>",
                            "<tr><td>Kalacsi Márton</td><td>marton@gmail.com</td><td>marton</td><td>1989-06-24</td></tr>",
                            "<tr><td>Koza Máté</td><td>máté.koza@mail.hu</td><td>MATEK</td><td>1997-02-28</td></tr>",
                            "<tr><td>Botka Mátyás</td><td>matyas2@gmail.com</td><td>matyas2</td><td>1972-07-07</td></tr>",
                            "<tr><td>Szilágyi Mátyás</td><td>mátyás.szilágyi@mail.hu</td><td>MATYASS</td><td>1975-03-22</td></tr>",
                            "<tr><td>Juhász Mihály</td><td>mihály.juhász@mail.hu</td><td>MIHALYJ</td><td>1979-10-12</td></tr>",
                            "<tr><td>Gondos Miklós</td><td>miklos2@gmail.com</td><td>miklos2</td><td>1995-10-07</td></tr>",
                            "<tr><td>Balla Miklós</td><td>miklós.balla@mail.hu</td><td>MIKLOSB</td><td>1979-02-16</td></tr>",
                            "<tr><td>Mohos Mónika</td><td>mónika.mohos@mail.hu</td><td>MONIKAM</td><td>1974-10-01</td></tr>",
                            "<tr><td>Fő Nándor</td><td>nándor.fő@mail.hu</td><td>NANDORF</td><td>1968-11-12</td></tr>",
                            "<tr><td>Horváth Nikolett</td><td>nikolett3@gmail.com</td><td>nikolett3</td><td>1981-09-29</td></tr>",
                            "<tr><td>Kő Nikoletta</td><td>nikoletta4@gmail.com</td><td>nikoletta4</td><td>1972-01-10</td></tr>",
                            "<tr><td>Tatár Nikoletta</td><td>nikoletta.tatár@mail.hu</td><td>NIKOLETTAT</td><td>1997-10-19</td></tr>",
                            "<tr><td>Szűcs Norbert</td><td>norbert@gmail.com</td><td>norbert</td><td>1969-07-17</td></tr>",
                            "<tr><td>Hegedűs Norbert</td><td>norbert.hegedűs@mail.hu</td><td>norbert2</td><td>1991-07-17</td></tr>",
                            "<tr><td>Mile Norbert</td><td>norbert4@gmail.com</td><td>norbert4</td><td>1983-06-15</td></tr>",
                            "<tr><td>Béres Norbert</td><td>norbert5@gmail.com</td><td>norbert5</td><td>1975-07-27</td></tr>",
                            "<tr><td>Barabás Pál</td><td>pál.barabás@mail.hu</td><td>pal</td><td>1968-02-06</td></tr>",
                            "<tr><td>Kozma Péter</td><td>peter1@gmail.com</td><td>peter1</td><td>1976-03-18</td></tr>",
                            "<tr><td>Bozsó Péter</td><td>peter2@gmail.com</td><td>peter2</td><td>1976-01-26</td></tr>",
                            "<tr><td>Szalai Péter</td><td>peter3@gmail.com</td><td>peter3</td><td>1983-07-18</td></tr>",
                            "<tr><td>Bíró Péter</td><td>péter.bíró@mail.hu</td><td>peter4</td><td>1985-09-01</td></tr>",
                            "<tr><td>Berendi Péter</td><td>péter.berendi@mail.hu</td><td>PETERB</td><td>1969-01-01</td></tr>",
                            "<tr><td>Palágyi Polla</td><td>polla@gmail.com</td><td>polla</td><td>1994-02-04</td></tr>",
                            "<tr><td>Rácz Rajmond</td><td>rajmond.rácz@mail.hu</td><td>rajmond4</td><td>1993-09-25</td></tr>",
                            "<tr><td>Szikszai Réka</td><td>réka.szikszai@mail.hu</td><td>reka4</td><td>1969-11-27</td></tr>",
                            "<tr><td>Szirmai Renáta</td><td>RENATAS@gmail.com</td><td>RENATAS</td><td>1991-03-26</td></tr>",
                            "<tr><td>Patay Róbert</td><td>robert2@gmail.com</td><td>robert2</td><td>1977-01-08</td></tr>",
                            "<tr><td>Iván Róbert</td><td>róbert.iván@mail.hu</td><td>ROBERTI</td><td>1967-07-02</td></tr>",
                            "<tr><td>Tóth Roland</td><td>roland@gmail.com</td><td>roland</td><td>1968-03-21</td></tr>",
                            "<tr><td>Ferencz Roland</td><td>roland.ferencz@mail.hu</td><td>roland1</td><td>1985-12-31</td></tr>",
                            "<tr><td>Bucskó Róza</td><td>roza2@gmail.com</td><td>roza2</td><td>1988-12-26</td></tr>",
                            "<tr><td>Karasz Sándor</td><td>sandor@gmail.com</td><td>sandor</td><td>1970-01-27</td></tr>",
                            "<tr><td>Farkas Sándor</td><td>sándor.farkas@mail.hu</td><td>sandor3</td><td>1989-01-27</td></tr>",
                            "<tr><td>Nagy Sándor</td><td>sandor4@gmail.com</td><td>sandor4</td><td>1997-06-11</td></tr>",
                            "<tr><td>Farkas Sára</td><td>sára.farkas@mail.hu</td><td>sara</td><td>1973-04-05</td></tr>",
                            "<tr><td>Foltényi Sebastián</td><td>SEBASTIANF@gmail.com</td><td>SEBASTIANF</td><td>1992-09-09</td></tr>",
                            "<tr><td>Rab Sebestyén</td><td>sebestyen@gmail.com</td><td>sebestyen</td><td>1992-03-03</td></tr>",
                            "<tr><td>Miklós Szabolcs</td><td>szabolcs.miklós@mail.hu</td><td>SZABOLCSM</td><td>1980-08-11</td></tr>",
                            "<tr><td>Szalai Szilárd</td><td>szilárd.szalai@mail.hu</td><td>SZILARDS</td><td>1967-09-28</td></tr>",
                            "<tr><td>Tari Szilvia</td><td>szilvia.tari@mail.hu</td><td>szilvia1</td><td>1971-03-09</td></tr>",
                            "<tr><td>Miklós Tamara</td><td>tamara.miklós@mail.hu</td><td>tamara2</td><td>1980-08-11</td></tr>",
                            "<tr><td>Antal Tamás</td><td>tamás.antal@mail.hu</td><td>tamas</td><td>1984-09-05</td></tr>",
                            "<tr><td>Fényes Tamás</td><td>TAMASF@gmail.com</td><td>TAMASF</td><td>1997-11-06</td></tr>",
                            "<tr><td>Gombos Tibor</td><td>tibor.gombos@mail.hu</td><td>tibor</td><td>1993-11-28</td></tr>",
                            "<tr><td>Kazy Tihamér</td><td>tihamér.kazy@mail.hu</td><td>tihamer</td><td>1991-07-05</td></tr>",
                            "<tr><td>Dusha Tímea</td><td>tímea.dusha@mail.hu</td><td>timea2</td><td>1975-08-22</td></tr>",
                            "<tr><td>Turcsik Tünde</td><td>tunde@gmail.com</td><td>tunde</td><td>1974-02-12</td></tr>",
                            "<tr><td>Feró Valentin</td><td>valentin.feró@mail.hu</td><td>valentin</td><td>1986-01-09</td></tr>",
                            "<tr><td>Tankó Veronika</td><td>veronika4@gmail.com</td><td>veronika4</td><td>1983-08-28</td></tr>",
                            "<tr><td>Boros Vivien</td><td>vivien3@gmail.com</td><td>vivien3</td><td>1991-07-01</td></tr>",
                            "<tr><td>Fodor Zoltán</td><td>zoltán.fodor@mail.hu</td><td>zoltan</td><td>1979-11-25</td></tr>",
                            "<tr><td>Pintér Zoltán</td><td>zoltán.pintér@mail.hu</td><td>ZOLTANP</td><td>1977-06-07</td></tr>",
                            "<tr><td>Tóth Zoltán</td><td>zoltán.tóth@mail.hu</td><td>ZOLTANT</td><td>1985-12-14</td></tr>",
                            "<tr><td>Molnár Zsófi</td><td>zsofi1@gmail.com</td><td>zsofi1</td><td>1983-11-17</td></tr>",
                            "<tr><td>Józsa Zsolt</td><td>ZSOLTJ@gmail.com</td><td>ZSOLTJ</td><td>1983-09-29</td></tr>",
                            "<tr><td>Pusztai Zsuzsanna</td><td>zsuzsanna@gmail.com</td><td>zsuzsa</td><td>1980-09-17</td></tr>",
                            "<tr><td>Varsányi Zsuzsa</td><td>zsuzsa.varsányi@mail.hu</td><td>zsuzsa3</td><td>1979-03-06</td></tr>",
                            "<tr><td>Barta Zsuzsanna</td><td>zsuzsanna.barta@mail.hu</td><td>zsuzsanna</td><td>1994-10-07</td></tr>",
                            "<tr><td>Vajda Zsuzsa</td><td>zsuzsa.vajda@mail.hu</td><td>ZSUZSAV</td><td>1976-12-11</td></tr>",
                            "</table>"
                        ]
                    }
                }
            ],
            "execution_count": 27
        },
        {
            "cell_type": "markdown",
            "source": [
                "2\\. feladat"
            ],
            "metadata": {
                "language": "sql",
                "azdata_cell_guid": "21ebd8a5-c441-4564-a82b-767c4f7cd896"
            },
            "attachments": {}
        },
        {
            "cell_type": "code",
            "source": [
                "SELECT v.NEV, v.EMAIL, v.USERNEV, v.SZAML_CIM, v.SZUL_DAT\r\n",
                "FROM VENDEG v JOIN FOGLALAS f ON USERNEV = f.UGYFEL_FK\r\n",
                "            JOIN SZOBA sz ON F.SZOBA_FK = sz.SZOBA_ID\r\n",
                "where sz.FEROHELY = \r\n",
                "(\r\n",
                "SELECT MAX(FEROHELY)\r\n",
                "FROM SZOBA\r\n",
                "WHERE KLIMAS = 'i'\r\n",
                ");"
            ],
            "metadata": {
                "azdata_cell_guid": "dc8e589f-6dfe-4891-8d5d-7908e25bb944",
                "language": "sql"
            },
            "outputs": [
                {
                    "output_type": "display_data",
                    "data": {
                        "text/html": "(3 rows affected)"
                    },
                    "metadata": {}
                },
                {
                    "output_type": "display_data",
                    "data": {
                        "text/html": "Total execution time: 00:00:00.006"
                    },
                    "metadata": {}
                },
                {
                    "output_type": "execute_result",
                    "metadata": {},
                    "execution_count": 28,
                    "data": {
                        "application/vnd.dataresource+json": {
                            "schema": {
                                "fields": [
                                    {
                                        "name": "NEV"
                                    },
                                    {
                                        "name": "EMAIL"
                                    },
                                    {
                                        "name": "USERNEV"
                                    },
                                    {
                                        "name": "SZAML_CIM"
                                    },
                                    {
                                        "name": "SZUL_DAT"
                                    }
                                ]
                            },
                            "data": [
                                {
                                    "NEV": "Gyuris József",
                                    "EMAIL": "józsef.gyuris@mail.hu",
                                    "USERNEV": "JOZSEFG",
                                    "SZAML_CIM": "2660 Balassagyarmat Petőfi utca 1/2.",
                                    "SZUL_DAT": "1975-05-26"
                                },
                                {
                                    "NEV": "Berendi Péter",
                                    "EMAIL": "péter.berendi@mail.hu",
                                    "USERNEV": "PETERB",
                                    "SZAML_CIM": "3980 Sátoraljaújhely Vasút utca 4/10.",
                                    "SZUL_DAT": "1969-01-01"
                                },
                                {
                                    "NEV": "Turcsik Tünde",
                                    "EMAIL": "tunde@gmail.com",
                                    "USERNEV": "tunde",
                                    "SZAML_CIM": "7130 Tolna Fő út 122.",
                                    "SZUL_DAT": "1974-02-12"
                                }
                            ]
                        },
                        "text/html": [
                            "<table>",
                            "<tr><th>NEV</th><th>EMAIL</th><th>USERNEV</th><th>SZAML_CIM</th><th>SZUL_DAT</th></tr>",
                            "<tr><td>Gyuris József</td><td>józsef.gyuris@mail.hu</td><td>JOZSEFG</td><td>2660 Balassagyarmat Petőfi utca 1/2.</td><td>1975-05-26</td></tr>",
                            "<tr><td>Berendi Péter</td><td>péter.berendi@mail.hu</td><td>PETERB</td><td>3980 Sátoraljaújhely Vasút utca 4/10.</td><td>1969-01-01</td></tr>",
                            "<tr><td>Turcsik Tünde</td><td>tunde@gmail.com</td><td>tunde</td><td>7130 Tolna Fő út 122.</td><td>1974-02-12</td></tr>",
                            "</table>"
                        ]
                    }
                }
            ],
            "execution_count": 28
        },
        {
            "cell_type": "markdown",
            "source": [
                "3\\. feladat"
            ],
            "metadata": {
                "language": "sql",
                "azdata_cell_guid": "417ddf14-6a70-4f1a-993c-951c57b2d569"
            },
            "attachments": {}
        },
        {
            "cell_type": "code",
            "source": [
                "SELECT f.UGYFEL_FK, v.NEV, v.SZUL_DAT,\r\n",
                "MIN(METTOL) as 'első',\r\n",
                "MAX(METTOL) as 'utolsó'\r\n",
                "FROM Foglalas f JOIN Vendeg v ON USERNEV = f.UGYFEL_FK\r\n",
                "GROUP BY f.UGYFEL_FK, v.NEV, v.SZUL_DAT\r\n",
                "\r\n",
                ""
            ],
            "metadata": {
                "azdata_cell_guid": "10218fe5-246a-4b4d-af42-f3d00789d10f",
                "language": "sql"
            },
            "outputs": [
                {
                    "output_type": "display_data",
                    "data": {
                        "text/html": "(195 rows affected)"
                    },
                    "metadata": {}
                },
                {
                    "output_type": "display_data",
                    "data": {
                        "text/html": "Total execution time: 00:00:00.048"
                    },
                    "metadata": {}
                },
                {
                    "output_type": "execute_result",
                    "metadata": {},
                    "execution_count": 29,
                    "data": {
                        "application/vnd.dataresource+json": {
                            "schema": {
                                "fields": [
                                    {
                                        "name": "UGYFEL_FK"
                                    },
                                    {
                                        "name": "NEV"
                                    },
                                    {
                                        "name": "SZUL_DAT"
                                    },
                                    {
                                        "name": "első"
                                    },
                                    {
                                        "name": "utolsó"
                                    }
                                ]
                            },
                            "data": [
                                {
                                    "UGYFEL_FK": "adam1",
                                    "NEV": "Kiss Ádám",
                                    "SZUL_DAT": "1991-12-28",
                                    "első": "2016-05-28",
                                    "utolsó": "2016-10-19"
                                },
                                {
                                    "UGYFEL_FK": "adam3",
                                    "NEV": "Barkóci Ádám",
                                    "SZUL_DAT": "1970-06-07",
                                    "első": "2016-09-12",
                                    "utolsó": "2017-02-06"
                                },
                                {
                                    "UGYFEL_FK": "adam4",
                                    "NEV": "Bieniek Ádám",
                                    "SZUL_DAT": "1976-08-01",
                                    "első": "2016-08-28",
                                    "utolsó": "2017-02-23"
                                },
                                {
                                    "UGYFEL_FK": "agnes",
                                    "NEV": "Lengyel Ágnes",
                                    "SZUL_DAT": "1979-12-10",
                                    "első": "2016-05-09",
                                    "utolsó": "2016-11-07"
                                },
                                {
                                    "UGYFEL_FK": "agnes3",
                                    "NEV": "Hartyánszky Ágnes",
                                    "SZUL_DAT": "1967-04-11",
                                    "első": "2016-08-04",
                                    "utolsó": "2017-02-16"
                                },
                                {
                                    "UGYFEL_FK": "AGNESH",
                                    "NEV": "Horváth Ágnes",
                                    "SZUL_DAT": "1981-12-24",
                                    "első": "2016-04-10",
                                    "utolsó": "2017-01-16"
                                },
                                {
                                    "UGYFEL_FK": "AGNESK",
                                    "NEV": "Kovács Ágnes",
                                    "SZUL_DAT": "1988-10-02",
                                    "első": "2016-07-29",
                                    "utolsó": "2016-12-17"
                                },
                                {
                                    "UGYFEL_FK": "akos",
                                    "NEV": "Bíró Ákos",
                                    "SZUL_DAT": "1982-04-24",
                                    "első": "2016-05-18",
                                    "utolsó": "2016-12-29"
                                },
                                {
                                    "UGYFEL_FK": "aladar",
                                    "NEV": "Dunai Aladár",
                                    "SZUL_DAT": "1980-11-01",
                                    "első": "2016-05-17",
                                    "utolsó": "2016-11-22"
                                },
                                {
                                    "UGYFEL_FK": "alexandra",
                                    "NEV": "Bagóczki Alexandra",
                                    "SZUL_DAT": "1992-03-25",
                                    "első": "2016-05-21",
                                    "utolsó": "2017-01-19"
                                },
                                {
                                    "UGYFEL_FK": "andi",
                                    "NEV": "Maródi Andrea",
                                    "SZUL_DAT": "1968-05-07",
                                    "első": "2016-05-08",
                                    "utolsó": "2017-01-13"
                                },
                                {
                                    "UGYFEL_FK": "andras2",
                                    "NEV": "Tóth András",
                                    "SZUL_DAT": "1997-10-31",
                                    "első": "2016-05-30",
                                    "utolsó": "2017-02-08"
                                },
                                {
                                    "UGYFEL_FK": "andras21",
                                    "NEV": "Molnár András",
                                    "SZUL_DAT": "1977-11-16",
                                    "első": "2016-06-21",
                                    "utolsó": "2017-01-28"
                                },
                                {
                                    "UGYFEL_FK": "andras3",
                                    "NEV": "Vígh András",
                                    "SZUL_DAT": "1971-04-02",
                                    "első": "2016-05-01",
                                    "utolsó": "2017-02-02"
                                },
                                {
                                    "UGYFEL_FK": "andras4",
                                    "NEV": "Back András",
                                    "SZUL_DAT": "1984-04-07",
                                    "első": "2016-09-17",
                                    "utolsó": "2017-01-09"
                                },
                                {
                                    "UGYFEL_FK": "andras41",
                                    "NEV": "Komjáti András",
                                    "SZUL_DAT": "1997-10-25",
                                    "első": "2016-05-14",
                                    "utolsó": "2016-11-23"
                                },
                                {
                                    "UGYFEL_FK": "ANDRASE",
                                    "NEV": "Erdei András",
                                    "SZUL_DAT": "1997-05-29",
                                    "első": "2016-04-24",
                                    "utolsó": "2016-11-29"
                                },
                                {
                                    "UGYFEL_FK": "ANDRASN",
                                    "NEV": "Nagy András",
                                    "SZUL_DAT": "1980-09-05",
                                    "első": "2016-11-25",
                                    "utolsó": "2016-11-25"
                                },
                                {
                                    "UGYFEL_FK": "andrea",
                                    "NEV": "Kiss Andrea",
                                    "SZUL_DAT": "1993-03-25",
                                    "első": "2016-07-27",
                                    "utolsó": "2017-02-09"
                                },
                                {
                                    "UGYFEL_FK": "andrea3",
                                    "NEV": "Szomor Andrea",
                                    "SZUL_DAT": "1996-05-10",
                                    "első": "2016-11-19",
                                    "utolsó": "2016-11-19"
                                },
                                {
                                    "UGYFEL_FK": "andrea4",
                                    "NEV": "Neizer Andrea",
                                    "SZUL_DAT": "1981-05-17",
                                    "első": "2016-05-27",
                                    "utolsó": "2017-01-22"
                                },
                                {
                                    "UGYFEL_FK": "ANDREAT",
                                    "NEV": "Tornyos Andrea",
                                    "SZUL_DAT": "1986-11-14",
                                    "első": "2016-07-27",
                                    "utolsó": "2016-10-08"
                                },
                                {
                                    "UGYFEL_FK": "anett3",
                                    "NEV": "Pivarcsi Anett",
                                    "SZUL_DAT": "1967-01-03",
                                    "első": "2016-04-10",
                                    "utolsó": "2016-10-16"
                                },
                                {
                                    "UGYFEL_FK": "aniko",
                                    "NEV": "Tóth Anikó",
                                    "SZUL_DAT": "1973-06-03",
                                    "első": "2016-06-25",
                                    "utolsó": "2017-02-23"
                                },
                                {
                                    "UGYFEL_FK": "aniko4",
                                    "NEV": "Böröcz Anikó",
                                    "SZUL_DAT": "1978-03-26",
                                    "első": "2016-07-02",
                                    "utolsó": "2016-10-16"
                                },
                                {
                                    "UGYFEL_FK": "ANIKOS",
                                    "NEV": "Simon Anikó",
                                    "SZUL_DAT": "1988-12-14",
                                    "első": "2016-04-19",
                                    "utolsó": "2016-11-10"
                                },
                                {
                                    "UGYFEL_FK": "anita",
                                    "NEV": "Hamvay-Kovács Anita",
                                    "SZUL_DAT": "1971-03-20",
                                    "első": "2016-09-28",
                                    "utolsó": "2017-02-20"
                                },
                                {
                                    "UGYFEL_FK": "annamaria1",
                                    "NEV": "Szűcs Annamária",
                                    "SZUL_DAT": "1990-04-27",
                                    "első": "2016-06-06",
                                    "utolsó": "2017-01-30"
                                },
                                {
                                    "UGYFEL_FK": "ANNAMARIAR",
                                    "NEV": "Regős Annamária",
                                    "SZUL_DAT": "1977-09-26",
                                    "első": "2016-06-08",
                                    "utolsó": "2017-02-16"
                                },
                                {
                                    "UGYFEL_FK": "aron2",
                                    "NEV": "Jakab Áron",
                                    "SZUL_DAT": "1971-04-26",
                                    "első": "2016-04-11",
                                    "utolsó": "2017-02-26"
                                },
                                {
                                    "UGYFEL_FK": "ARONK",
                                    "NEV": "Kelemen Áron",
                                    "SZUL_DAT": "1989-08-10",
                                    "első": "2016-04-06",
                                    "utolsó": "2017-02-21"
                                },
                                {
                                    "UGYFEL_FK": "arpad2",
                                    "NEV": "Ötvös Árpád",
                                    "SZUL_DAT": "1990-06-08",
                                    "első": "2016-06-05",
                                    "utolsó": "2017-02-18"
                                },
                                {
                                    "UGYFEL_FK": "ARPADH",
                                    "NEV": "Horváth Árpád",
                                    "SZUL_DAT": "1990-05-18",
                                    "első": "2016-06-06",
                                    "utolsó": "2017-02-16"
                                },
                                {
                                    "UGYFEL_FK": "ARPADM",
                                    "NEV": "Móricz Árpád",
                                    "SZUL_DAT": "1986-04-20",
                                    "első": "2016-05-29",
                                    "utolsó": "2017-02-12"
                                },
                                {
                                    "UGYFEL_FK": "attila",
                                    "NEV": "Csóti Attila",
                                    "SZUL_DAT": "1979-12-25",
                                    "első": "2016-09-30",
                                    "utolsó": "2016-12-22"
                                },
                                {
                                    "UGYFEL_FK": "attila1",
                                    "NEV": "Gulyás Attila",
                                    "SZUL_DAT": "1982-08-16",
                                    "első": "2016-05-20",
                                    "utolsó": "2017-01-23"
                                },
                                {
                                    "UGYFEL_FK": "attila4",
                                    "NEV": "Baróti Attila",
                                    "SZUL_DAT": "1975-11-06",
                                    "első": "2016-08-18",
                                    "utolsó": "2017-02-15"
                                },
                                {
                                    "UGYFEL_FK": "ATTILAO",
                                    "NEV": "Opra Attila",
                                    "SZUL_DAT": "1995-05-08",
                                    "első": "2016-05-21",
                                    "utolsó": "2017-02-22"
                                },
                                {
                                    "UGYFEL_FK": "balazs1",
                                    "NEV": "Bozsik Balázs",
                                    "SZUL_DAT": "1992-11-03",
                                    "első": "2016-05-07",
                                    "utolsó": "2017-02-12"
                                },
                                {
                                    "UGYFEL_FK": "balazs2",
                                    "NEV": "Szűcs Balázs",
                                    "SZUL_DAT": "1984-10-31",
                                    "első": "2016-04-16",
                                    "utolsó": "2017-02-27"
                                },
                                {
                                    "UGYFEL_FK": "balazs3",
                                    "NEV": "Bakódy Balázs",
                                    "SZUL_DAT": "1986-09-09",
                                    "első": "2016-07-17",
                                    "utolsó": "2017-01-20"
                                },
                                {
                                    "UGYFEL_FK": "balint",
                                    "NEV": "Horváth Bálint",
                                    "SZUL_DAT": "1996-03-17",
                                    "első": "2016-04-22",
                                    "utolsó": "2016-11-24"
                                },
                                {
                                    "UGYFEL_FK": "balint1",
                                    "NEV": "Molnár Bálint",
                                    "SZUL_DAT": "1989-08-24",
                                    "első": "2016-06-07",
                                    "utolsó": "2017-01-03"
                                },
                                {
                                    "UGYFEL_FK": "balint2",
                                    "NEV": "Vukasinovity Bálint",
                                    "SZUL_DAT": "1997-09-03",
                                    "első": "2016-07-21",
                                    "utolsó": "2016-12-04"
                                },
                                {
                                    "UGYFEL_FK": "balu",
                                    "NEV": "Endresz Bálint",
                                    "SZUL_DAT": "1976-08-01",
                                    "első": "2016-08-06",
                                    "utolsó": "2016-12-22"
                                },
                                {
                                    "UGYFEL_FK": "beata4",
                                    "NEV": "Bagi Beáta",
                                    "SZUL_DAT": "1994-03-19",
                                    "első": "2016-04-20",
                                    "utolsó": "2016-10-03"
                                },
                                {
                                    "UGYFEL_FK": "BEATRIXK",
                                    "NEV": "Kerényi Beatrix",
                                    "SZUL_DAT": "1972-04-06",
                                    "első": "2016-06-10",
                                    "utolsó": "2017-02-08"
                                },
                                {
                                    "UGYFEL_FK": "BEATRIXS",
                                    "NEV": "Szekendi Beatrix",
                                    "SZUL_DAT": "1981-04-06",
                                    "első": "2016-04-18",
                                    "utolsó": "2017-02-03"
                                },
                                {
                                    "UGYFEL_FK": "BELAF",
                                    "NEV": "Farkas Béla",
                                    "SZUL_DAT": "1995-02-24",
                                    "első": "2016-07-27",
                                    "utolsó": "2016-12-06"
                                },
                                {
                                    "UGYFEL_FK": "bence",
                                    "NEV": "Győrffy Bence",
                                    "SZUL_DAT": "1987-07-09",
                                    "első": "2016-05-08",
                                    "utolsó": "2017-02-05"
                                },
                                {
                                    "UGYFEL_FK": "BENCEB",
                                    "NEV": "Bajusz Bence",
                                    "SZUL_DAT": "1973-06-21",
                                    "első": "2016-05-14",
                                    "utolsó": "2017-02-12"
                                },
                                {
                                    "UGYFEL_FK": "bernadett1",
                                    "NEV": "Simon Bernadett",
                                    "SZUL_DAT": "1984-10-13",
                                    "első": "2016-06-12",
                                    "utolsó": "2017-02-24"
                                },
                                {
                                    "UGYFEL_FK": "bernadett2",
                                    "NEV": "Kovács Bernadett",
                                    "SZUL_DAT": "1996-08-20",
                                    "első": "2016-05-01",
                                    "utolsó": "2017-01-24"
                                },
                                {
                                    "UGYFEL_FK": "BERNADETTO",
                                    "NEV": "Orbán Bernadett",
                                    "SZUL_DAT": "1987-12-07",
                                    "első": "2016-04-10",
                                    "utolsó": "2017-01-28"
                                },
                                {
                                    "UGYFEL_FK": "bertalan",
                                    "NEV": "Csiger Bertalan",
                                    "SZUL_DAT": "1977-10-15",
                                    "első": "2016-05-18",
                                    "utolsó": "2017-02-20"
                                },
                                {
                                    "UGYFEL_FK": "brigitta",
                                    "NEV": "Székely Brigitta",
                                    "SZUL_DAT": "1978-09-13",
                                    "első": "2016-05-30",
                                    "utolsó": "2017-01-23"
                                },
                                {
                                    "UGYFEL_FK": "brigitta3",
                                    "NEV": "Pataki Brigitta",
                                    "SZUL_DAT": "1991-05-23",
                                    "első": "2016-06-01",
                                    "utolsó": "2017-02-09"
                                },
                                {
                                    "UGYFEL_FK": "csongor3",
                                    "NEV": "Nagymihály Csongor",
                                    "SZUL_DAT": "1984-03-05",
                                    "első": "2016-05-01",
                                    "utolsó": "2017-02-13"
                                },
                                {
                                    "UGYFEL_FK": "dani",
                                    "NEV": "Vörös Dániel",
                                    "SZUL_DAT": "1986-10-14",
                                    "első": "2016-06-06",
                                    "utolsó": "2017-02-25"
                                },
                                {
                                    "UGYFEL_FK": "daniel",
                                    "NEV": "Rácz Dániel",
                                    "SZUL_DAT": "1978-11-28",
                                    "első": "2016-04-10",
                                    "utolsó": "2017-02-20"
                                },
                                {
                                    "UGYFEL_FK": "daniel1",
                                    "NEV": "Keszler Dániel",
                                    "SZUL_DAT": "1969-07-16",
                                    "első": "2016-04-10",
                                    "utolsó": "2017-03-01"
                                },
                                {
                                    "UGYFEL_FK": "david",
                                    "NEV": "Ambrus Dávid",
                                    "SZUL_DAT": "1974-02-11",
                                    "első": "2016-05-18",
                                    "utolsó": "2017-01-18"
                                },
                                {
                                    "UGYFEL_FK": "david1",
                                    "NEV": "Sobják Dávid",
                                    "SZUL_DAT": "1970-08-16",
                                    "első": "2016-09-20",
                                    "utolsó": "2017-02-25"
                                },
                                {
                                    "UGYFEL_FK": "david4",
                                    "NEV": "Berta Dávid",
                                    "SZUL_DAT": "1990-10-08",
                                    "első": "2017-02-16",
                                    "utolsó": "2017-02-16"
                                },
                                {
                                    "UGYFEL_FK": "debora",
                                    "NEV": "Barna Debóra",
                                    "SZUL_DAT": "1976-10-14",
                                    "első": "2016-06-22",
                                    "utolsó": "2017-02-04"
                                },
                                {
                                    "UGYFEL_FK": "denes",
                                    "NEV": "Tömböly Dénes",
                                    "SZUL_DAT": "1975-03-14",
                                    "első": "2016-05-27",
                                    "utolsó": "2016-11-06"
                                },
                                {
                                    "UGYFEL_FK": "dora3",
                                    "NEV": "Sarodi Dóra",
                                    "SZUL_DAT": "1995-05-18",
                                    "első": "2016-08-16",
                                    "utolsó": "2016-11-22"
                                },
                                {
                                    "UGYFEL_FK": "edit",
                                    "NEV": "Bittmann Edit",
                                    "SZUL_DAT": "1984-04-20",
                                    "első": "2016-07-14",
                                    "utolsó": "2017-02-08"
                                },
                                {
                                    "UGYFEL_FK": "emese",
                                    "NEV": "Kuruc Emese",
                                    "SZUL_DAT": "1989-08-10",
                                    "első": "2016-07-22",
                                    "utolsó": "2017-01-30"
                                },
                                {
                                    "UGYFEL_FK": "eszter",
                                    "NEV": "Molnár Eszter",
                                    "SZUL_DAT": "1987-05-10",
                                    "első": "2016-08-12",
                                    "utolsó": "2016-12-23"
                                },
                                {
                                    "UGYFEL_FK": "eszter2",
                                    "NEV": "Balogh Eszter",
                                    "SZUL_DAT": "1998-01-31",
                                    "első": "2016-06-30",
                                    "utolsó": "2016-12-29"
                                },
                                {
                                    "UGYFEL_FK": "eszter4",
                                    "NEV": "Fülöp Eszter",
                                    "SZUL_DAT": "1993-06-28",
                                    "első": "2017-01-05",
                                    "utolsó": "2017-02-26"
                                },
                                {
                                    "UGYFEL_FK": "ESZTERE",
                                    "NEV": "Érsek Eszter",
                                    "SZUL_DAT": "1978-08-28",
                                    "első": "2016-05-30",
                                    "utolsó": "2017-02-10"
                                },
                                {
                                    "UGYFEL_FK": "eva",
                                    "NEV": "Enyedi Éva",
                                    "SZUL_DAT": "1967-06-30",
                                    "első": "2016-10-06",
                                    "utolsó": "2017-01-14"
                                },
                                {
                                    "UGYFEL_FK": "eva2",
                                    "NEV": "Perlinger Éva",
                                    "SZUL_DAT": "1971-08-19",
                                    "első": "2016-09-02",
                                    "utolsó": "2017-01-06"
                                },
                                {
                                    "UGYFEL_FK": "EVAV",
                                    "NEV": "Viktor Éva",
                                    "SZUL_DAT": "1980-12-26",
                                    "első": "2016-05-01",
                                    "utolsó": "2017-02-04"
                                },
                                {
                                    "UGYFEL_FK": "ferenc1",
                                    "NEV": "Orosz Ferenc",
                                    "SZUL_DAT": "1983-10-08",
                                    "első": "2016-05-08",
                                    "utolsó": "2016-11-07"
                                },
                                {
                                    "UGYFEL_FK": "fruzsina4",
                                    "NEV": "Frank Fruzsina",
                                    "SZUL_DAT": "1996-08-16",
                                    "első": "2016-06-02",
                                    "utolsó": "2017-01-22"
                                },
                                {
                                    "UGYFEL_FK": "gabor1",
                                    "NEV": "Köves Gábor",
                                    "SZUL_DAT": "1973-07-15",
                                    "első": "2016-06-20",
                                    "utolsó": "2016-11-19"
                                },
                                {
                                    "UGYFEL_FK": "gabor4",
                                    "NEV": "Telek Gábor",
                                    "SZUL_DAT": "1987-03-15",
                                    "első": "2016-04-26",
                                    "utolsó": "2016-11-07"
                                },
                                {
                                    "UGYFEL_FK": "gabriella1",
                                    "NEV": "Nagy Gabriella",
                                    "SZUL_DAT": "1982-11-01",
                                    "első": "2016-04-21",
                                    "utolsó": "2017-02-21"
                                },
                                {
                                    "UGYFEL_FK": "gabriella10",
                                    "NEV": "Vida Gabriella",
                                    "SZUL_DAT": "1969-06-18",
                                    "első": "2016-10-01",
                                    "utolsó": "2016-10-01"
                                },
                                {
                                    "UGYFEL_FK": "georgij",
                                    "NEV": "Nyíri Georgij",
                                    "SZUL_DAT": "1983-02-23",
                                    "első": "2016-06-16",
                                    "utolsó": "2016-09-18"
                                },
                                {
                                    "UGYFEL_FK": "gusztav",
                                    "NEV": "Bárci Gusztáv",
                                    "SZUL_DAT": "1967-02-25",
                                    "első": "2016-05-06",
                                    "utolsó": "2017-02-23"
                                },
                                {
                                    "UGYFEL_FK": "GYONGYIK",
                                    "NEV": "Kornseé Gyöngyi",
                                    "SZUL_DAT": "1974-06-07",
                                    "első": "2016-06-02",
                                    "utolsó": "2017-01-22"
                                },
                                {
                                    "UGYFEL_FK": "GYORGYO",
                                    "NEV": "Oroszi György",
                                    "SZUL_DAT": "1980-03-23",
                                    "első": "2016-05-27",
                                    "utolsó": "2017-02-24"
                                },
                                {
                                    "UGYFEL_FK": "henrik3",
                                    "NEV": "Nádudvari Henrik",
                                    "SZUL_DAT": "1986-12-05",
                                    "első": "2016-08-24",
                                    "utolsó": "2017-01-27"
                                },
                                {
                                    "UGYFEL_FK": "IBOLYAA",
                                    "NEV": "Andor Ibolya",
                                    "SZUL_DAT": "1983-11-27",
                                    "első": "2016-08-29",
                                    "utolsó": "2017-01-17"
                                },
                                {
                                    "UGYFEL_FK": "ilona3",
                                    "NEV": "Bosnyák Ilona",
                                    "SZUL_DAT": "1990-08-06",
                                    "első": "2016-07-31",
                                    "utolsó": "2016-12-25"
                                },
                                {
                                    "UGYFEL_FK": "imre",
                                    "NEV": "Búza Imre",
                                    "SZUL_DAT": "1988-09-30",
                                    "első": "2016-09-17",
                                    "utolsó": "2016-10-28"
                                },
                                {
                                    "UGYFEL_FK": "imre1",
                                    "NEV": "Papp Imre",
                                    "SZUL_DAT": "1976-06-25",
                                    "első": "2016-06-23",
                                    "utolsó": "2017-02-05"
                                },
                                {
                                    "UGYFEL_FK": "istvan",
                                    "NEV": "Soós István",
                                    "SZUL_DAT": "1986-06-28",
                                    "első": "2016-10-07",
                                    "utolsó": "2017-01-02"
                                },
                                {
                                    "UGYFEL_FK": "istvan1",
                                    "NEV": "Vizi István",
                                    "SZUL_DAT": "1997-12-01",
                                    "első": "2016-04-16",
                                    "utolsó": "2017-02-07"
                                },
                                {
                                    "UGYFEL_FK": "ISTVANV",
                                    "NEV": "Varga István",
                                    "SZUL_DAT": "1989-04-09",
                                    "első": "2016-07-01",
                                    "utolsó": "2016-09-29"
                                },
                                {
                                    "UGYFEL_FK": "janos3",
                                    "NEV": "Harangozó János",
                                    "SZUL_DAT": "1967-11-02",
                                    "első": "2016-06-04",
                                    "utolsó": "2017-02-12"
                                },
                                {
                                    "UGYFEL_FK": "JANOSG",
                                    "NEV": "Giliga János",
                                    "SZUL_DAT": "1975-01-03",
                                    "első": "2016-05-09",
                                    "utolsó": "2017-01-31"
                                },
                                {
                                    "UGYFEL_FK": "JANOSP",
                                    "NEV": "Pálinkás János",
                                    "SZUL_DAT": "1984-10-12",
                                    "első": "2016-07-04",
                                    "utolsó": "2016-12-18"
                                },
                                {
                                    "UGYFEL_FK": "jozsef",
                                    "NEV": "Gergely József",
                                    "SZUL_DAT": "1985-11-01",
                                    "első": "2016-09-13",
                                    "utolsó": "2016-12-06"
                                },
                                {
                                    "UGYFEL_FK": "jozsef2",
                                    "NEV": "Vajda József",
                                    "SZUL_DAT": "1978-09-04",
                                    "első": "2016-07-06",
                                    "utolsó": "2016-11-25"
                                },
                                {
                                    "UGYFEL_FK": "JOZSEFG",
                                    "NEV": "Gyuris József",
                                    "SZUL_DAT": "1975-05-26",
                                    "első": "2016-05-02",
                                    "utolsó": "2017-02-24"
                                },
                                {
                                    "UGYFEL_FK": "JUDITH",
                                    "NEV": "Hídasi Judit",
                                    "SZUL_DAT": "1997-07-12",
                                    "első": "2016-06-06",
                                    "utolsó": "2016-12-19"
                                },
                                {
                                    "UGYFEL_FK": "julia",
                                    "NEV": "Tóth Júlia",
                                    "SZUL_DAT": "1993-03-02",
                                    "első": "2016-04-21",
                                    "utolsó": "2017-02-27"
                                },
                                {
                                    "UGYFEL_FK": "julia4",
                                    "NEV": "Nagy Júlia",
                                    "SZUL_DAT": "1985-08-11",
                                    "első": "2016-11-07",
                                    "utolsó": "2017-02-04"
                                },
                                {
                                    "UGYFEL_FK": "julianna4",
                                    "NEV": "Szabó Julianna",
                                    "SZUL_DAT": "1990-09-29",
                                    "első": "2016-07-20",
                                    "utolsó": "2016-11-27"
                                },
                                {
                                    "UGYFEL_FK": "kata",
                                    "NEV": "Gondos Katalin",
                                    "SZUL_DAT": "1968-06-22",
                                    "első": "2016-04-10",
                                    "utolsó": "2017-01-15"
                                },
                                {
                                    "UGYFEL_FK": "katalin",
                                    "NEV": "Horváth Katalin",
                                    "SZUL_DAT": "1968-01-01",
                                    "első": "2016-04-10",
                                    "utolsó": "2017-02-24"
                                },
                                {
                                    "UGYFEL_FK": "katalin4",
                                    "NEV": "Kertész Katalin",
                                    "SZUL_DAT": "1986-04-13",
                                    "első": "2016-07-01",
                                    "utolsó": "2017-01-24"
                                },
                                {
                                    "UGYFEL_FK": "kati",
                                    "NEV": "Zatykó Katalin",
                                    "SZUL_DAT": "1995-05-01",
                                    "első": "2016-06-06",
                                    "utolsó": "2016-10-30"
                                },
                                {
                                    "UGYFEL_FK": "katka",
                                    "NEV": "Kovács Katalin",
                                    "SZUL_DAT": "1975-03-31",
                                    "első": "2016-04-10",
                                    "utolsó": "2017-01-19"
                                },
                                {
                                    "UGYFEL_FK": "klaudia2",
                                    "NEV": "Bakó Klaudia",
                                    "SZUL_DAT": "1982-04-16",
                                    "első": "2016-06-06",
                                    "utolsó": "2016-10-02"
                                },
                                {
                                    "UGYFEL_FK": "kornel4",
                                    "NEV": "Lukács Kornél",
                                    "SZUL_DAT": "1975-09-30",
                                    "első": "2016-05-08",
                                    "utolsó": "2016-09-23"
                                },
                                {
                                    "UGYFEL_FK": "kristof4",
                                    "NEV": "Poprádi Kristóf",
                                    "SZUL_DAT": "1984-01-15",
                                    "első": "2016-04-08",
                                    "utolsó": "2016-09-30"
                                },
                                {
                                    "UGYFEL_FK": "kriszti",
                                    "NEV": "Horváth Krisztina",
                                    "SZUL_DAT": "1978-06-12",
                                    "első": "2016-05-19",
                                    "utolsó": "2017-03-03"
                                },
                                {
                                    "UGYFEL_FK": "krisztian4",
                                    "NEV": "Czérna Krisztián",
                                    "SZUL_DAT": "1970-08-01",
                                    "első": "2016-06-03",
                                    "utolsó": "2017-02-23"
                                },
                                {
                                    "UGYFEL_FK": "KRISZTIANM",
                                    "NEV": "Mogyródi Krisztián",
                                    "SZUL_DAT": "1968-05-27",
                                    "első": "2016-04-09",
                                    "utolsó": "2017-01-16"
                                },
                                {
                                    "UGYFEL_FK": "krisztina",
                                    "NEV": "Szedlár Krisztina",
                                    "SZUL_DAT": "1979-05-10",
                                    "első": "2016-05-21",
                                    "utolsó": "2017-02-16"
                                },
                                {
                                    "UGYFEL_FK": "krisztina1",
                                    "NEV": "Bori Krisztina",
                                    "SZUL_DAT": "1969-10-13",
                                    "első": "2016-04-28",
                                    "utolsó": "2017-01-21"
                                },
                                {
                                    "UGYFEL_FK": "KRISZTINAG",
                                    "NEV": "Gyárfás Krisztina",
                                    "SZUL_DAT": "1987-09-19",
                                    "első": "2016-04-23",
                                    "utolsó": "2017-01-25"
                                },
                                {
                                    "UGYFEL_FK": "lajos",
                                    "NEV": "Kiss Lajos",
                                    "SZUL_DAT": "1978-10-31",
                                    "első": "2016-07-18",
                                    "utolsó": "2017-02-12"
                                },
                                {
                                    "UGYFEL_FK": "lala",
                                    "NEV": "Nagymihály Lajos",
                                    "SZUL_DAT": "1997-02-24",
                                    "első": "2016-06-16",
                                    "utolsó": "2017-01-17"
                                },
                                {
                                    "UGYFEL_FK": "laszlo1",
                                    "NEV": "Farkas László",
                                    "SZUL_DAT": "1967-10-30",
                                    "első": "2016-09-23",
                                    "utolsó": "2016-09-23"
                                },
                                {
                                    "UGYFEL_FK": "laszlo2",
                                    "NEV": "Móra László",
                                    "SZUL_DAT": "1975-02-19",
                                    "első": "2016-04-06",
                                    "utolsó": "2016-11-25"
                                },
                                {
                                    "UGYFEL_FK": "LASZLOA",
                                    "NEV": "Antal László",
                                    "SZUL_DAT": "1969-06-29",
                                    "első": "2016-06-03",
                                    "utolsó": "2017-02-08"
                                },
                                {
                                    "UGYFEL_FK": "LASZLON",
                                    "NEV": "Nagy László",
                                    "SZUL_DAT": "1969-04-12",
                                    "első": "2016-06-03",
                                    "utolsó": "2017-02-18"
                                },
                                {
                                    "UGYFEL_FK": "maria1",
                                    "NEV": "Baráth Mária",
                                    "SZUL_DAT": "1995-11-19",
                                    "első": "2016-05-13",
                                    "utolsó": "2017-02-24"
                                },
                                {
                                    "UGYFEL_FK": "mark",
                                    "NEV": "Kispál Márk",
                                    "SZUL_DAT": "1996-01-23",
                                    "első": "2016-04-19",
                                    "utolsó": "2016-11-19"
                                },
                                {
                                    "UGYFEL_FK": "MARKH",
                                    "NEV": "Horváth Márk",
                                    "SZUL_DAT": "1997-09-23",
                                    "első": "2016-09-14",
                                    "utolsó": "2017-01-22"
                                },
                                {
                                    "UGYFEL_FK": "marton",
                                    "NEV": "Kalacsi Márton",
                                    "SZUL_DAT": "1989-06-24",
                                    "első": "2016-04-27",
                                    "utolsó": "2017-03-02"
                                },
                                {
                                    "UGYFEL_FK": "MATEK",
                                    "NEV": "Koza Máté",
                                    "SZUL_DAT": "1997-02-28",
                                    "első": "2016-08-17",
                                    "utolsó": "2017-01-16"
                                },
                                {
                                    "UGYFEL_FK": "matyas2",
                                    "NEV": "Botka Mátyás",
                                    "SZUL_DAT": "1972-07-07",
                                    "első": "2016-07-13",
                                    "utolsó": "2016-12-09"
                                },
                                {
                                    "UGYFEL_FK": "MATYASS",
                                    "NEV": "Szilágyi Mátyás",
                                    "SZUL_DAT": "1975-03-22",
                                    "első": "2016-05-10",
                                    "utolsó": "2017-01-09"
                                },
                                {
                                    "UGYFEL_FK": "MIHALYJ",
                                    "NEV": "Juhász Mihály",
                                    "SZUL_DAT": "1979-10-12",
                                    "első": "2016-05-30",
                                    "utolsó": "2017-02-06"
                                },
                                {
                                    "UGYFEL_FK": "miklos2",
                                    "NEV": "Gondos Miklós",
                                    "SZUL_DAT": "1995-10-07",
                                    "első": "2016-04-19",
                                    "utolsó": "2016-11-16"
                                },
                                {
                                    "UGYFEL_FK": "MIKLOSB",
                                    "NEV": "Balla Miklós",
                                    "SZUL_DAT": "1979-02-16",
                                    "első": "2016-06-26",
                                    "utolsó": "2016-12-05"
                                },
                                {
                                    "UGYFEL_FK": "MONIKAM",
                                    "NEV": "Mohos Mónika",
                                    "SZUL_DAT": "1974-10-01",
                                    "első": "2016-04-29",
                                    "utolsó": "2017-02-23"
                                },
                                {
                                    "UGYFEL_FK": "NANDORF",
                                    "NEV": "Fő Nándor",
                                    "SZUL_DAT": "1968-11-12",
                                    "első": "2016-04-06",
                                    "utolsó": "2017-02-05"
                                },
                                {
                                    "UGYFEL_FK": "nikolett3",
                                    "NEV": "Horváth Nikolett",
                                    "SZUL_DAT": "1981-09-29",
                                    "első": "2016-05-24",
                                    "utolsó": "2016-10-22"
                                },
                                {
                                    "UGYFEL_FK": "nikoletta4",
                                    "NEV": "Kő Nikoletta",
                                    "SZUL_DAT": "1972-01-10",
                                    "első": "2016-04-08",
                                    "utolsó": "2017-02-01"
                                },
                                {
                                    "UGYFEL_FK": "NIKOLETTAT",
                                    "NEV": "Tatár Nikoletta",
                                    "SZUL_DAT": "1997-10-19",
                                    "első": "2016-05-22",
                                    "utolsó": "2016-09-21"
                                },
                                {
                                    "UGYFEL_FK": "norbert",
                                    "NEV": "Szűcs Norbert",
                                    "SZUL_DAT": "1969-07-17",
                                    "első": "2016-07-08",
                                    "utolsó": "2017-02-26"
                                },
                                {
                                    "UGYFEL_FK": "norbert2",
                                    "NEV": "Hegedűs Norbert",
                                    "SZUL_DAT": "1991-07-17",
                                    "első": "2016-04-19",
                                    "utolsó": "2017-01-29"
                                },
                                {
                                    "UGYFEL_FK": "norbert4",
                                    "NEV": "Mile Norbert",
                                    "SZUL_DAT": "1983-06-15",
                                    "első": "2016-04-10",
                                    "utolsó": "2017-03-03"
                                },
                                {
                                    "UGYFEL_FK": "norbert5",
                                    "NEV": "Béres Norbert",
                                    "SZUL_DAT": "1975-07-27",
                                    "első": "2016-06-24",
                                    "utolsó": "2016-11-05"
                                },
                                {
                                    "UGYFEL_FK": "pal",
                                    "NEV": "Barabás Pál",
                                    "SZUL_DAT": "1968-02-06",
                                    "első": "2016-08-14",
                                    "utolsó": "2017-02-20"
                                },
                                {
                                    "UGYFEL_FK": "peter1",
                                    "NEV": "Kozma Péter",
                                    "SZUL_DAT": "1976-03-18",
                                    "első": "2016-07-14",
                                    "utolsó": "2017-02-28"
                                },
                                {
                                    "UGYFEL_FK": "peter2",
                                    "NEV": "Bozsó Péter",
                                    "SZUL_DAT": "1976-01-26",
                                    "első": "2016-07-03",
                                    "utolsó": "2016-11-15"
                                },
                                {
                                    "UGYFEL_FK": "peter3",
                                    "NEV": "Szalai Péter",
                                    "SZUL_DAT": "1983-07-18",
                                    "első": "2016-06-30",
                                    "utolsó": "2017-02-21"
                                },
                                {
                                    "UGYFEL_FK": "peter4",
                                    "NEV": "Bíró Péter",
                                    "SZUL_DAT": "1985-09-01",
                                    "első": "2016-04-12",
                                    "utolsó": "2017-02-05"
                                },
                                {
                                    "UGYFEL_FK": "PETERB",
                                    "NEV": "Berendi Péter",
                                    "SZUL_DAT": "1969-01-01",
                                    "első": "2016-04-06",
                                    "utolsó": "2016-11-17"
                                },
                                {
                                    "UGYFEL_FK": "polla",
                                    "NEV": "Palágyi Polla",
                                    "SZUL_DAT": "1994-02-04",
                                    "első": "2016-04-17",
                                    "utolsó": "2017-02-11"
                                },
                                {
                                    "UGYFEL_FK": "rajmond4",
                                    "NEV": "Rácz Rajmond",
                                    "SZUL_DAT": "1993-09-25",
                                    "első": "2016-09-05",
                                    "utolsó": "2016-11-16"
                                },
                                {
                                    "UGYFEL_FK": "reka4",
                                    "NEV": "Szikszai Réka",
                                    "SZUL_DAT": "1969-11-27",
                                    "első": "2016-07-27",
                                    "utolsó": "2017-02-26"
                                },
                                {
                                    "UGYFEL_FK": "RENATAK",
                                    "NEV": "Kardos Renáta",
                                    "SZUL_DAT": "1988-05-17",
                                    "első": "2016-10-27",
                                    "utolsó": "2017-03-01"
                                },
                                {
                                    "UGYFEL_FK": "RENATAS",
                                    "NEV": "Szirmai Renáta",
                                    "SZUL_DAT": "1991-03-26",
                                    "első": "2016-05-04",
                                    "utolsó": "2017-02-14"
                                },
                                {
                                    "UGYFEL_FK": "robert2",
                                    "NEV": "Patay Róbert",
                                    "SZUL_DAT": "1977-01-08",
                                    "első": "2016-05-15",
                                    "utolsó": "2016-12-17"
                                },
                                {
                                    "UGYFEL_FK": "ROBERTI",
                                    "NEV": "Iván Róbert",
                                    "SZUL_DAT": "1967-07-02",
                                    "első": "2016-07-12",
                                    "utolsó": "2017-02-17"
                                },
                                {
                                    "UGYFEL_FK": "ROBERTP",
                                    "NEV": "Pásztor Róbert",
                                    "SZUL_DAT": "1972-05-16",
                                    "első": "2016-07-30",
                                    "utolsó": "2016-09-08"
                                },
                                {
                                    "UGYFEL_FK": "roland",
                                    "NEV": "Tóth Roland",
                                    "SZUL_DAT": "1968-03-21",
                                    "első": "2016-06-09",
                                    "utolsó": "2016-11-19"
                                },
                                {
                                    "UGYFEL_FK": "roland1",
                                    "NEV": "Ferencz Roland",
                                    "SZUL_DAT": "1985-12-31",
                                    "első": "2016-11-05",
                                    "utolsó": "2017-01-16"
                                },
                                {
                                    "UGYFEL_FK": "roza2",
                                    "NEV": "Bucskó Róza",
                                    "SZUL_DAT": "1988-12-26",
                                    "első": "2016-09-10",
                                    "utolsó": "2017-02-18"
                                },
                                {
                                    "UGYFEL_FK": "sandor",
                                    "NEV": "Karasz Sándor",
                                    "SZUL_DAT": "1970-01-27",
                                    "első": "2016-07-04",
                                    "utolsó": "2016-09-19"
                                },
                                {
                                    "UGYFEL_FK": "sandor3",
                                    "NEV": "Farkas Sándor",
                                    "SZUL_DAT": "1989-01-27",
                                    "első": "2016-05-12",
                                    "utolsó": "2016-11-10"
                                },
                                {
                                    "UGYFEL_FK": "sandor4",
                                    "NEV": "Nagy Sándor",
                                    "SZUL_DAT": "1997-06-11",
                                    "első": "2016-10-15",
                                    "utolsó": "2017-01-22"
                                },
                                {
                                    "UGYFEL_FK": "sara",
                                    "NEV": "Farkas Sára",
                                    "SZUL_DAT": "1973-04-05",
                                    "első": "2016-05-28",
                                    "utolsó": "2016-12-25"
                                },
                                {
                                    "UGYFEL_FK": "SEBASTIANF",
                                    "NEV": "Foltényi Sebastián",
                                    "SZUL_DAT": "1992-09-09",
                                    "első": "2016-04-06",
                                    "utolsó": "2016-09-17"
                                },
                                {
                                    "UGYFEL_FK": "sebestyen",
                                    "NEV": "Rab Sebestyén",
                                    "SZUL_DAT": "1992-03-03",
                                    "első": "2016-04-07",
                                    "utolsó": "2016-10-26"
                                },
                                {
                                    "UGYFEL_FK": "szabolcs",
                                    "NEV": "Bodor Szabolcs",
                                    "SZUL_DAT": "1990-07-16",
                                    "első": "2016-12-05",
                                    "utolsó": "2016-12-05"
                                },
                                {
                                    "UGYFEL_FK": "SZABOLCSM",
                                    "NEV": "Miklós Szabolcs",
                                    "SZUL_DAT": "1980-08-11",
                                    "első": "2016-06-18",
                                    "utolsó": "2017-02-04"
                                },
                                {
                                    "UGYFEL_FK": "SZILARDS",
                                    "NEV": "Szalai Szilárd",
                                    "SZUL_DAT": "1967-09-28",
                                    "első": "2016-04-23",
                                    "utolsó": "2017-02-08"
                                },
                                {
                                    "UGYFEL_FK": "szilvia1",
                                    "NEV": "Tari Szilvia",
                                    "SZUL_DAT": "1971-03-09",
                                    "első": "2016-05-14",
                                    "utolsó": "2017-01-28"
                                },
                                {
                                    "UGYFEL_FK": "tamara2",
                                    "NEV": "Miklós Tamara",
                                    "SZUL_DAT": "1980-08-11",
                                    "első": "2016-08-12",
                                    "utolsó": "2016-11-15"
                                },
                                {
                                    "UGYFEL_FK": "tamas",
                                    "NEV": "Antal Tamás",
                                    "SZUL_DAT": "1984-09-05",
                                    "első": "2016-05-17",
                                    "utolsó": "2017-02-14"
                                },
                                {
                                    "UGYFEL_FK": "TAMASF",
                                    "NEV": "Fényes Tamás",
                                    "SZUL_DAT": "1997-11-06",
                                    "első": "2016-05-03",
                                    "utolsó": "2017-02-16"
                                },
                                {
                                    "UGYFEL_FK": "tibor",
                                    "NEV": "Gombos Tibor",
                                    "SZUL_DAT": "1993-11-28",
                                    "első": "2016-10-09",
                                    "utolsó": "2016-11-05"
                                },
                                {
                                    "UGYFEL_FK": "tibor2",
                                    "NEV": "Dániel Tibor",
                                    "SZUL_DAT": "1985-02-02",
                                    "első": "2016-10-20",
                                    "utolsó": "2016-10-20"
                                },
                                {
                                    "UGYFEL_FK": "tihamer",
                                    "NEV": "Kazy Tihamér",
                                    "SZUL_DAT": "1991-07-05",
                                    "első": "2016-05-30",
                                    "utolsó": "2016-12-25"
                                },
                                {
                                    "UGYFEL_FK": "timea",
                                    "NEV": "Papós Tímea",
                                    "SZUL_DAT": "1996-01-08",
                                    "első": "2016-12-26",
                                    "utolsó": "2016-12-26"
                                },
                                {
                                    "UGYFEL_FK": "timea2",
                                    "NEV": "Dusha Tímea",
                                    "SZUL_DAT": "1975-08-22",
                                    "első": "2016-06-06",
                                    "utolsó": "2016-12-14"
                                },
                                {
                                    "UGYFEL_FK": "tunde",
                                    "NEV": "Turcsik Tünde",
                                    "SZUL_DAT": "1974-02-12",
                                    "első": "2016-06-03",
                                    "utolsó": "2017-01-03"
                                },
                                {
                                    "UGYFEL_FK": "valentin",
                                    "NEV": "Feró Valentin",
                                    "SZUL_DAT": "1986-01-09",
                                    "első": "2016-05-24",
                                    "utolsó": "2016-12-01"
                                },
                                {
                                    "UGYFEL_FK": "veronika4",
                                    "NEV": "Tankó Veronika",
                                    "SZUL_DAT": "1983-08-28",
                                    "első": "2016-05-30",
                                    "utolsó": "2017-02-03"
                                },
                                {
                                    "UGYFEL_FK": "VIKTORIAU",
                                    "NEV": "Urbán Viktoria",
                                    "SZUL_DAT": "1996-05-03",
                                    "első": "2016-04-30",
                                    "utolsó": "2016-10-26"
                                },
                                {
                                    "UGYFEL_FK": "VIKTORK",
                                    "NEV": "Keresztúri Viktor",
                                    "SZUL_DAT": "1989-05-05",
                                    "első": "2016-05-30",
                                    "utolsó": "2016-06-06"
                                },
                                {
                                    "UGYFEL_FK": "vivien3",
                                    "NEV": "Boros Vivien",
                                    "SZUL_DAT": "1991-07-01",
                                    "első": "2016-05-02",
                                    "utolsó": "2016-12-24"
                                },
                                {
                                    "UGYFEL_FK": "zoltan",
                                    "NEV": "Fodor Zoltán",
                                    "SZUL_DAT": "1979-11-25",
                                    "első": "2016-08-24",
                                    "utolsó": "2016-09-05"
                                },
                                {
                                    "UGYFEL_FK": "zoltan4",
                                    "NEV": "Barna Zoltán",
                                    "SZUL_DAT": "1986-05-20",
                                    "első": "2016-05-12",
                                    "utolsó": "2017-01-01"
                                },
                                {
                                    "UGYFEL_FK": "ZOLTANP",
                                    "NEV": "Pintér Zoltán",
                                    "SZUL_DAT": "1977-06-07",
                                    "első": "2016-06-05",
                                    "utolsó": "2016-12-25"
                                },
                                {
                                    "UGYFEL_FK": "ZOLTANT",
                                    "NEV": "Tóth Zoltán",
                                    "SZUL_DAT": "1985-12-14",
                                    "első": "2016-05-01",
                                    "utolsó": "2017-01-16"
                                },
                                {
                                    "UGYFEL_FK": "zsofi1",
                                    "NEV": "Molnár Zsófi",
                                    "SZUL_DAT": "1983-11-17",
                                    "első": "2016-06-16",
                                    "utolsó": "2017-02-18"
                                },
                                {
                                    "UGYFEL_FK": "zsolt1",
                                    "NEV": "Pulai Zsolt",
                                    "SZUL_DAT": "1988-05-27",
                                    "első": "2016-04-14",
                                    "utolsó": "2016-07-31"
                                },
                                {
                                    "UGYFEL_FK": "ZSOLTJ",
                                    "NEV": "Józsa Zsolt",
                                    "SZUL_DAT": "1983-09-29",
                                    "első": "2016-04-24",
                                    "utolsó": "2016-10-01"
                                },
                                {
                                    "UGYFEL_FK": "zsuzsa",
                                    "NEV": "Pusztai Zsuzsanna",
                                    "SZUL_DAT": "1980-09-17",
                                    "első": "2016-07-24",
                                    "utolsó": "2016-11-28"
                                },
                                {
                                    "UGYFEL_FK": "zsuzsa3",
                                    "NEV": "Varsányi Zsuzsa",
                                    "SZUL_DAT": "1979-03-06",
                                    "első": "2016-07-30",
                                    "utolsó": "2016-10-27"
                                },
                                {
                                    "UGYFEL_FK": "zsuzsanna",
                                    "NEV": "Barta Zsuzsanna",
                                    "SZUL_DAT": "1994-10-07",
                                    "első": "2016-05-17",
                                    "utolsó": "2017-01-16"
                                },
                                {
                                    "UGYFEL_FK": "ZSUZSAV",
                                    "NEV": "Vajda Zsuzsa",
                                    "SZUL_DAT": "1976-12-11",
                                    "első": "2016-04-14",
                                    "utolsó": "2016-11-21"
                                }
                            ]
                        },
                        "text/html": [
                            "<table>",
                            "<tr><th>UGYFEL_FK</th><th>NEV</th><th>SZUL_DAT</th><th>első</th><th>utolsó</th></tr>",
                            "<tr><td>adam1</td><td>Kiss Ádám</td><td>1991-12-28</td><td>2016-05-28</td><td>2016-10-19</td></tr>",
                            "<tr><td>adam3</td><td>Barkóci Ádám</td><td>1970-06-07</td><td>2016-09-12</td><td>2017-02-06</td></tr>",
                            "<tr><td>adam4</td><td>Bieniek Ádám</td><td>1976-08-01</td><td>2016-08-28</td><td>2017-02-23</td></tr>",
                            "<tr><td>agnes</td><td>Lengyel Ágnes</td><td>1979-12-10</td><td>2016-05-09</td><td>2016-11-07</td></tr>",
                            "<tr><td>agnes3</td><td>Hartyánszky Ágnes</td><td>1967-04-11</td><td>2016-08-04</td><td>2017-02-16</td></tr>",
                            "<tr><td>AGNESH</td><td>Horváth Ágnes</td><td>1981-12-24</td><td>2016-04-10</td><td>2017-01-16</td></tr>",
                            "<tr><td>AGNESK</td><td>Kovács Ágnes</td><td>1988-10-02</td><td>2016-07-29</td><td>2016-12-17</td></tr>",
                            "<tr><td>akos</td><td>Bíró Ákos</td><td>1982-04-24</td><td>2016-05-18</td><td>2016-12-29</td></tr>",
                            "<tr><td>aladar</td><td>Dunai Aladár</td><td>1980-11-01</td><td>2016-05-17</td><td>2016-11-22</td></tr>",
                            "<tr><td>alexandra</td><td>Bagóczki Alexandra</td><td>1992-03-25</td><td>2016-05-21</td><td>2017-01-19</td></tr>",
                            "<tr><td>andi</td><td>Maródi Andrea</td><td>1968-05-07</td><td>2016-05-08</td><td>2017-01-13</td></tr>",
                            "<tr><td>andras2</td><td>Tóth András</td><td>1997-10-31</td><td>2016-05-30</td><td>2017-02-08</td></tr>",
                            "<tr><td>andras21</td><td>Molnár András</td><td>1977-11-16</td><td>2016-06-21</td><td>2017-01-28</td></tr>",
                            "<tr><td>andras3</td><td>Vígh András</td><td>1971-04-02</td><td>2016-05-01</td><td>2017-02-02</td></tr>",
                            "<tr><td>andras4</td><td>Back András</td><td>1984-04-07</td><td>2016-09-17</td><td>2017-01-09</td></tr>",
                            "<tr><td>andras41</td><td>Komjáti András</td><td>1997-10-25</td><td>2016-05-14</td><td>2016-11-23</td></tr>",
                            "<tr><td>ANDRASE</td><td>Erdei András</td><td>1997-05-29</td><td>2016-04-24</td><td>2016-11-29</td></tr>",
                            "<tr><td>ANDRASN</td><td>Nagy András</td><td>1980-09-05</td><td>2016-11-25</td><td>2016-11-25</td></tr>",
                            "<tr><td>andrea</td><td>Kiss Andrea</td><td>1993-03-25</td><td>2016-07-27</td><td>2017-02-09</td></tr>",
                            "<tr><td>andrea3</td><td>Szomor Andrea</td><td>1996-05-10</td><td>2016-11-19</td><td>2016-11-19</td></tr>",
                            "<tr><td>andrea4</td><td>Neizer Andrea</td><td>1981-05-17</td><td>2016-05-27</td><td>2017-01-22</td></tr>",
                            "<tr><td>ANDREAT</td><td>Tornyos Andrea</td><td>1986-11-14</td><td>2016-07-27</td><td>2016-10-08</td></tr>",
                            "<tr><td>anett3</td><td>Pivarcsi Anett</td><td>1967-01-03</td><td>2016-04-10</td><td>2016-10-16</td></tr>",
                            "<tr><td>aniko</td><td>Tóth Anikó</td><td>1973-06-03</td><td>2016-06-25</td><td>2017-02-23</td></tr>",
                            "<tr><td>aniko4</td><td>Böröcz Anikó</td><td>1978-03-26</td><td>2016-07-02</td><td>2016-10-16</td></tr>",
                            "<tr><td>ANIKOS</td><td>Simon Anikó</td><td>1988-12-14</td><td>2016-04-19</td><td>2016-11-10</td></tr>",
                            "<tr><td>anita</td><td>Hamvay-Kovács Anita</td><td>1971-03-20</td><td>2016-09-28</td><td>2017-02-20</td></tr>",
                            "<tr><td>annamaria1</td><td>Szűcs Annamária</td><td>1990-04-27</td><td>2016-06-06</td><td>2017-01-30</td></tr>",
                            "<tr><td>ANNAMARIAR</td><td>Regős Annamária</td><td>1977-09-26</td><td>2016-06-08</td><td>2017-02-16</td></tr>",
                            "<tr><td>aron2</td><td>Jakab Áron</td><td>1971-04-26</td><td>2016-04-11</td><td>2017-02-26</td></tr>",
                            "<tr><td>ARONK</td><td>Kelemen Áron</td><td>1989-08-10</td><td>2016-04-06</td><td>2017-02-21</td></tr>",
                            "<tr><td>arpad2</td><td>Ötvös Árpád</td><td>1990-06-08</td><td>2016-06-05</td><td>2017-02-18</td></tr>",
                            "<tr><td>ARPADH</td><td>Horváth Árpád</td><td>1990-05-18</td><td>2016-06-06</td><td>2017-02-16</td></tr>",
                            "<tr><td>ARPADM</td><td>Móricz Árpád</td><td>1986-04-20</td><td>2016-05-29</td><td>2017-02-12</td></tr>",
                            "<tr><td>attila</td><td>Csóti Attila</td><td>1979-12-25</td><td>2016-09-30</td><td>2016-12-22</td></tr>",
                            "<tr><td>attila1</td><td>Gulyás Attila</td><td>1982-08-16</td><td>2016-05-20</td><td>2017-01-23</td></tr>",
                            "<tr><td>attila4</td><td>Baróti Attila</td><td>1975-11-06</td><td>2016-08-18</td><td>2017-02-15</td></tr>",
                            "<tr><td>ATTILAO</td><td>Opra Attila</td><td>1995-05-08</td><td>2016-05-21</td><td>2017-02-22</td></tr>",
                            "<tr><td>balazs1</td><td>Bozsik Balázs</td><td>1992-11-03</td><td>2016-05-07</td><td>2017-02-12</td></tr>",
                            "<tr><td>balazs2</td><td>Szűcs Balázs</td><td>1984-10-31</td><td>2016-04-16</td><td>2017-02-27</td></tr>",
                            "<tr><td>balazs3</td><td>Bakódy Balázs</td><td>1986-09-09</td><td>2016-07-17</td><td>2017-01-20</td></tr>",
                            "<tr><td>balint</td><td>Horváth Bálint</td><td>1996-03-17</td><td>2016-04-22</td><td>2016-11-24</td></tr>",
                            "<tr><td>balint1</td><td>Molnár Bálint</td><td>1989-08-24</td><td>2016-06-07</td><td>2017-01-03</td></tr>",
                            "<tr><td>balint2</td><td>Vukasinovity Bálint</td><td>1997-09-03</td><td>2016-07-21</td><td>2016-12-04</td></tr>",
                            "<tr><td>balu</td><td>Endresz Bálint</td><td>1976-08-01</td><td>2016-08-06</td><td>2016-12-22</td></tr>",
                            "<tr><td>beata4</td><td>Bagi Beáta</td><td>1994-03-19</td><td>2016-04-20</td><td>2016-10-03</td></tr>",
                            "<tr><td>BEATRIXK</td><td>Kerényi Beatrix</td><td>1972-04-06</td><td>2016-06-10</td><td>2017-02-08</td></tr>",
                            "<tr><td>BEATRIXS</td><td>Szekendi Beatrix</td><td>1981-04-06</td><td>2016-04-18</td><td>2017-02-03</td></tr>",
                            "<tr><td>BELAF</td><td>Farkas Béla</td><td>1995-02-24</td><td>2016-07-27</td><td>2016-12-06</td></tr>",
                            "<tr><td>bence</td><td>Győrffy Bence</td><td>1987-07-09</td><td>2016-05-08</td><td>2017-02-05</td></tr>",
                            "<tr><td>BENCEB</td><td>Bajusz Bence</td><td>1973-06-21</td><td>2016-05-14</td><td>2017-02-12</td></tr>",
                            "<tr><td>bernadett1</td><td>Simon Bernadett</td><td>1984-10-13</td><td>2016-06-12</td><td>2017-02-24</td></tr>",
                            "<tr><td>bernadett2</td><td>Kovács Bernadett</td><td>1996-08-20</td><td>2016-05-01</td><td>2017-01-24</td></tr>",
                            "<tr><td>BERNADETTO</td><td>Orbán Bernadett</td><td>1987-12-07</td><td>2016-04-10</td><td>2017-01-28</td></tr>",
                            "<tr><td>bertalan</td><td>Csiger Bertalan</td><td>1977-10-15</td><td>2016-05-18</td><td>2017-02-20</td></tr>",
                            "<tr><td>brigitta</td><td>Székely Brigitta</td><td>1978-09-13</td><td>2016-05-30</td><td>2017-01-23</td></tr>",
                            "<tr><td>brigitta3</td><td>Pataki Brigitta</td><td>1991-05-23</td><td>2016-06-01</td><td>2017-02-09</td></tr>",
                            "<tr><td>csongor3</td><td>Nagymihály Csongor</td><td>1984-03-05</td><td>2016-05-01</td><td>2017-02-13</td></tr>",
                            "<tr><td>dani</td><td>Vörös Dániel</td><td>1986-10-14</td><td>2016-06-06</td><td>2017-02-25</td></tr>",
                            "<tr><td>daniel</td><td>Rácz Dániel</td><td>1978-11-28</td><td>2016-04-10</td><td>2017-02-20</td></tr>",
                            "<tr><td>daniel1</td><td>Keszler Dániel</td><td>1969-07-16</td><td>2016-04-10</td><td>2017-03-01</td></tr>",
                            "<tr><td>david</td><td>Ambrus Dávid</td><td>1974-02-11</td><td>2016-05-18</td><td>2017-01-18</td></tr>",
                            "<tr><td>david1</td><td>Sobják Dávid</td><td>1970-08-16</td><td>2016-09-20</td><td>2017-02-25</td></tr>",
                            "<tr><td>david4</td><td>Berta Dávid</td><td>1990-10-08</td><td>2017-02-16</td><td>2017-02-16</td></tr>",
                            "<tr><td>debora</td><td>Barna Debóra</td><td>1976-10-14</td><td>2016-06-22</td><td>2017-02-04</td></tr>",
                            "<tr><td>denes</td><td>Tömböly Dénes</td><td>1975-03-14</td><td>2016-05-27</td><td>2016-11-06</td></tr>",
                            "<tr><td>dora3</td><td>Sarodi Dóra</td><td>1995-05-18</td><td>2016-08-16</td><td>2016-11-22</td></tr>",
                            "<tr><td>edit</td><td>Bittmann Edit</td><td>1984-04-20</td><td>2016-07-14</td><td>2017-02-08</td></tr>",
                            "<tr><td>emese</td><td>Kuruc Emese</td><td>1989-08-10</td><td>2016-07-22</td><td>2017-01-30</td></tr>",
                            "<tr><td>eszter</td><td>Molnár Eszter</td><td>1987-05-10</td><td>2016-08-12</td><td>2016-12-23</td></tr>",
                            "<tr><td>eszter2</td><td>Balogh Eszter</td><td>1998-01-31</td><td>2016-06-30</td><td>2016-12-29</td></tr>",
                            "<tr><td>eszter4</td><td>Fülöp Eszter</td><td>1993-06-28</td><td>2017-01-05</td><td>2017-02-26</td></tr>",
                            "<tr><td>ESZTERE</td><td>Érsek Eszter</td><td>1978-08-28</td><td>2016-05-30</td><td>2017-02-10</td></tr>",
                            "<tr><td>eva</td><td>Enyedi Éva</td><td>1967-06-30</td><td>2016-10-06</td><td>2017-01-14</td></tr>",
                            "<tr><td>eva2</td><td>Perlinger Éva</td><td>1971-08-19</td><td>2016-09-02</td><td>2017-01-06</td></tr>",
                            "<tr><td>EVAV</td><td>Viktor Éva</td><td>1980-12-26</td><td>2016-05-01</td><td>2017-02-04</td></tr>",
                            "<tr><td>ferenc1</td><td>Orosz Ferenc</td><td>1983-10-08</td><td>2016-05-08</td><td>2016-11-07</td></tr>",
                            "<tr><td>fruzsina4</td><td>Frank Fruzsina</td><td>1996-08-16</td><td>2016-06-02</td><td>2017-01-22</td></tr>",
                            "<tr><td>gabor1</td><td>Köves Gábor</td><td>1973-07-15</td><td>2016-06-20</td><td>2016-11-19</td></tr>",
                            "<tr><td>gabor4</td><td>Telek Gábor</td><td>1987-03-15</td><td>2016-04-26</td><td>2016-11-07</td></tr>",
                            "<tr><td>gabriella1</td><td>Nagy Gabriella</td><td>1982-11-01</td><td>2016-04-21</td><td>2017-02-21</td></tr>",
                            "<tr><td>gabriella10</td><td>Vida Gabriella</td><td>1969-06-18</td><td>2016-10-01</td><td>2016-10-01</td></tr>",
                            "<tr><td>georgij</td><td>Nyíri Georgij</td><td>1983-02-23</td><td>2016-06-16</td><td>2016-09-18</td></tr>",
                            "<tr><td>gusztav</td><td>Bárci Gusztáv</td><td>1967-02-25</td><td>2016-05-06</td><td>2017-02-23</td></tr>",
                            "<tr><td>GYONGYIK</td><td>Kornseé Gyöngyi</td><td>1974-06-07</td><td>2016-06-02</td><td>2017-01-22</td></tr>",
                            "<tr><td>GYORGYO</td><td>Oroszi György</td><td>1980-03-23</td><td>2016-05-27</td><td>2017-02-24</td></tr>",
                            "<tr><td>henrik3</td><td>Nádudvari Henrik</td><td>1986-12-05</td><td>2016-08-24</td><td>2017-01-27</td></tr>",
                            "<tr><td>IBOLYAA</td><td>Andor Ibolya</td><td>1983-11-27</td><td>2016-08-29</td><td>2017-01-17</td></tr>",
                            "<tr><td>ilona3</td><td>Bosnyák Ilona</td><td>1990-08-06</td><td>2016-07-31</td><td>2016-12-25</td></tr>",
                            "<tr><td>imre</td><td>Búza Imre</td><td>1988-09-30</td><td>2016-09-17</td><td>2016-10-28</td></tr>",
                            "<tr><td>imre1</td><td>Papp Imre</td><td>1976-06-25</td><td>2016-06-23</td><td>2017-02-05</td></tr>",
                            "<tr><td>istvan</td><td>Soós István</td><td>1986-06-28</td><td>2016-10-07</td><td>2017-01-02</td></tr>",
                            "<tr><td>istvan1</td><td>Vizi István</td><td>1997-12-01</td><td>2016-04-16</td><td>2017-02-07</td></tr>",
                            "<tr><td>ISTVANV</td><td>Varga István</td><td>1989-04-09</td><td>2016-07-01</td><td>2016-09-29</td></tr>",
                            "<tr><td>janos3</td><td>Harangozó János</td><td>1967-11-02</td><td>2016-06-04</td><td>2017-02-12</td></tr>",
                            "<tr><td>JANOSG</td><td>Giliga János</td><td>1975-01-03</td><td>2016-05-09</td><td>2017-01-31</td></tr>",
                            "<tr><td>JANOSP</td><td>Pálinkás János</td><td>1984-10-12</td><td>2016-07-04</td><td>2016-12-18</td></tr>",
                            "<tr><td>jozsef</td><td>Gergely József</td><td>1985-11-01</td><td>2016-09-13</td><td>2016-12-06</td></tr>",
                            "<tr><td>jozsef2</td><td>Vajda József</td><td>1978-09-04</td><td>2016-07-06</td><td>2016-11-25</td></tr>",
                            "<tr><td>JOZSEFG</td><td>Gyuris József</td><td>1975-05-26</td><td>2016-05-02</td><td>2017-02-24</td></tr>",
                            "<tr><td>JUDITH</td><td>Hídasi Judit</td><td>1997-07-12</td><td>2016-06-06</td><td>2016-12-19</td></tr>",
                            "<tr><td>julia</td><td>Tóth Júlia</td><td>1993-03-02</td><td>2016-04-21</td><td>2017-02-27</td></tr>",
                            "<tr><td>julia4</td><td>Nagy Júlia</td><td>1985-08-11</td><td>2016-11-07</td><td>2017-02-04</td></tr>",
                            "<tr><td>julianna4</td><td>Szabó Julianna</td><td>1990-09-29</td><td>2016-07-20</td><td>2016-11-27</td></tr>",
                            "<tr><td>kata</td><td>Gondos Katalin</td><td>1968-06-22</td><td>2016-04-10</td><td>2017-01-15</td></tr>",
                            "<tr><td>katalin</td><td>Horváth Katalin</td><td>1968-01-01</td><td>2016-04-10</td><td>2017-02-24</td></tr>",
                            "<tr><td>katalin4</td><td>Kertész Katalin</td><td>1986-04-13</td><td>2016-07-01</td><td>2017-01-24</td></tr>",
                            "<tr><td>kati</td><td>Zatykó Katalin</td><td>1995-05-01</td><td>2016-06-06</td><td>2016-10-30</td></tr>",
                            "<tr><td>katka</td><td>Kovács Katalin</td><td>1975-03-31</td><td>2016-04-10</td><td>2017-01-19</td></tr>",
                            "<tr><td>klaudia2</td><td>Bakó Klaudia</td><td>1982-04-16</td><td>2016-06-06</td><td>2016-10-02</td></tr>",
                            "<tr><td>kornel4</td><td>Lukács Kornél</td><td>1975-09-30</td><td>2016-05-08</td><td>2016-09-23</td></tr>",
                            "<tr><td>kristof4</td><td>Poprádi Kristóf</td><td>1984-01-15</td><td>2016-04-08</td><td>2016-09-30</td></tr>",
                            "<tr><td>kriszti</td><td>Horváth Krisztina</td><td>1978-06-12</td><td>2016-05-19</td><td>2017-03-03</td></tr>",
                            "<tr><td>krisztian4</td><td>Czérna Krisztián</td><td>1970-08-01</td><td>2016-06-03</td><td>2017-02-23</td></tr>",
                            "<tr><td>KRISZTIANM</td><td>Mogyródi Krisztián</td><td>1968-05-27</td><td>2016-04-09</td><td>2017-01-16</td></tr>",
                            "<tr><td>krisztina</td><td>Szedlár Krisztina</td><td>1979-05-10</td><td>2016-05-21</td><td>2017-02-16</td></tr>",
                            "<tr><td>krisztina1</td><td>Bori Krisztina</td><td>1969-10-13</td><td>2016-04-28</td><td>2017-01-21</td></tr>",
                            "<tr><td>KRISZTINAG</td><td>Gyárfás Krisztina</td><td>1987-09-19</td><td>2016-04-23</td><td>2017-01-25</td></tr>",
                            "<tr><td>lajos</td><td>Kiss Lajos</td><td>1978-10-31</td><td>2016-07-18</td><td>2017-02-12</td></tr>",
                            "<tr><td>lala</td><td>Nagymihály Lajos</td><td>1997-02-24</td><td>2016-06-16</td><td>2017-01-17</td></tr>",
                            "<tr><td>laszlo1</td><td>Farkas László</td><td>1967-10-30</td><td>2016-09-23</td><td>2016-09-23</td></tr>",
                            "<tr><td>laszlo2</td><td>Móra László</td><td>1975-02-19</td><td>2016-04-06</td><td>2016-11-25</td></tr>",
                            "<tr><td>LASZLOA</td><td>Antal László</td><td>1969-06-29</td><td>2016-06-03</td><td>2017-02-08</td></tr>",
                            "<tr><td>LASZLON</td><td>Nagy László</td><td>1969-04-12</td><td>2016-06-03</td><td>2017-02-18</td></tr>",
                            "<tr><td>maria1</td><td>Baráth Mária</td><td>1995-11-19</td><td>2016-05-13</td><td>2017-02-24</td></tr>",
                            "<tr><td>mark</td><td>Kispál Márk</td><td>1996-01-23</td><td>2016-04-19</td><td>2016-11-19</td></tr>",
                            "<tr><td>MARKH</td><td>Horváth Márk</td><td>1997-09-23</td><td>2016-09-14</td><td>2017-01-22</td></tr>",
                            "<tr><td>marton</td><td>Kalacsi Márton</td><td>1989-06-24</td><td>2016-04-27</td><td>2017-03-02</td></tr>",
                            "<tr><td>MATEK</td><td>Koza Máté</td><td>1997-02-28</td><td>2016-08-17</td><td>2017-01-16</td></tr>",
                            "<tr><td>matyas2</td><td>Botka Mátyás</td><td>1972-07-07</td><td>2016-07-13</td><td>2016-12-09</td></tr>",
                            "<tr><td>MATYASS</td><td>Szilágyi Mátyás</td><td>1975-03-22</td><td>2016-05-10</td><td>2017-01-09</td></tr>",
                            "<tr><td>MIHALYJ</td><td>Juhász Mihály</td><td>1979-10-12</td><td>2016-05-30</td><td>2017-02-06</td></tr>",
                            "<tr><td>miklos2</td><td>Gondos Miklós</td><td>1995-10-07</td><td>2016-04-19</td><td>2016-11-16</td></tr>",
                            "<tr><td>MIKLOSB</td><td>Balla Miklós</td><td>1979-02-16</td><td>2016-06-26</td><td>2016-12-05</td></tr>",
                            "<tr><td>MONIKAM</td><td>Mohos Mónika</td><td>1974-10-01</td><td>2016-04-29</td><td>2017-02-23</td></tr>",
                            "<tr><td>NANDORF</td><td>Fő Nándor</td><td>1968-11-12</td><td>2016-04-06</td><td>2017-02-05</td></tr>",
                            "<tr><td>nikolett3</td><td>Horváth Nikolett</td><td>1981-09-29</td><td>2016-05-24</td><td>2016-10-22</td></tr>",
                            "<tr><td>nikoletta4</td><td>Kő Nikoletta</td><td>1972-01-10</td><td>2016-04-08</td><td>2017-02-01</td></tr>",
                            "<tr><td>NIKOLETTAT</td><td>Tatár Nikoletta</td><td>1997-10-19</td><td>2016-05-22</td><td>2016-09-21</td></tr>",
                            "<tr><td>norbert</td><td>Szűcs Norbert</td><td>1969-07-17</td><td>2016-07-08</td><td>2017-02-26</td></tr>",
                            "<tr><td>norbert2</td><td>Hegedűs Norbert</td><td>1991-07-17</td><td>2016-04-19</td><td>2017-01-29</td></tr>",
                            "<tr><td>norbert4</td><td>Mile Norbert</td><td>1983-06-15</td><td>2016-04-10</td><td>2017-03-03</td></tr>",
                            "<tr><td>norbert5</td><td>Béres Norbert</td><td>1975-07-27</td><td>2016-06-24</td><td>2016-11-05</td></tr>",
                            "<tr><td>pal</td><td>Barabás Pál</td><td>1968-02-06</td><td>2016-08-14</td><td>2017-02-20</td></tr>",
                            "<tr><td>peter1</td><td>Kozma Péter</td><td>1976-03-18</td><td>2016-07-14</td><td>2017-02-28</td></tr>",
                            "<tr><td>peter2</td><td>Bozsó Péter</td><td>1976-01-26</td><td>2016-07-03</td><td>2016-11-15</td></tr>",
                            "<tr><td>peter3</td><td>Szalai Péter</td><td>1983-07-18</td><td>2016-06-30</td><td>2017-02-21</td></tr>",
                            "<tr><td>peter4</td><td>Bíró Péter</td><td>1985-09-01</td><td>2016-04-12</td><td>2017-02-05</td></tr>",
                            "<tr><td>PETERB</td><td>Berendi Péter</td><td>1969-01-01</td><td>2016-04-06</td><td>2016-11-17</td></tr>",
                            "<tr><td>polla</td><td>Palágyi Polla</td><td>1994-02-04</td><td>2016-04-17</td><td>2017-02-11</td></tr>",
                            "<tr><td>rajmond4</td><td>Rácz Rajmond</td><td>1993-09-25</td><td>2016-09-05</td><td>2016-11-16</td></tr>",
                            "<tr><td>reka4</td><td>Szikszai Réka</td><td>1969-11-27</td><td>2016-07-27</td><td>2017-02-26</td></tr>",
                            "<tr><td>RENATAK</td><td>Kardos Renáta</td><td>1988-05-17</td><td>2016-10-27</td><td>2017-03-01</td></tr>",
                            "<tr><td>RENATAS</td><td>Szirmai Renáta</td><td>1991-03-26</td><td>2016-05-04</td><td>2017-02-14</td></tr>",
                            "<tr><td>robert2</td><td>Patay Róbert</td><td>1977-01-08</td><td>2016-05-15</td><td>2016-12-17</td></tr>",
                            "<tr><td>ROBERTI</td><td>Iván Róbert</td><td>1967-07-02</td><td>2016-07-12</td><td>2017-02-17</td></tr>",
                            "<tr><td>ROBERTP</td><td>Pásztor Róbert</td><td>1972-05-16</td><td>2016-07-30</td><td>2016-09-08</td></tr>",
                            "<tr><td>roland</td><td>Tóth Roland</td><td>1968-03-21</td><td>2016-06-09</td><td>2016-11-19</td></tr>",
                            "<tr><td>roland1</td><td>Ferencz Roland</td><td>1985-12-31</td><td>2016-11-05</td><td>2017-01-16</td></tr>",
                            "<tr><td>roza2</td><td>Bucskó Róza</td><td>1988-12-26</td><td>2016-09-10</td><td>2017-02-18</td></tr>",
                            "<tr><td>sandor</td><td>Karasz Sándor</td><td>1970-01-27</td><td>2016-07-04</td><td>2016-09-19</td></tr>",
                            "<tr><td>sandor3</td><td>Farkas Sándor</td><td>1989-01-27</td><td>2016-05-12</td><td>2016-11-10</td></tr>",
                            "<tr><td>sandor4</td><td>Nagy Sándor</td><td>1997-06-11</td><td>2016-10-15</td><td>2017-01-22</td></tr>",
                            "<tr><td>sara</td><td>Farkas Sára</td><td>1973-04-05</td><td>2016-05-28</td><td>2016-12-25</td></tr>",
                            "<tr><td>SEBASTIANF</td><td>Foltényi Sebastián</td><td>1992-09-09</td><td>2016-04-06</td><td>2016-09-17</td></tr>",
                            "<tr><td>sebestyen</td><td>Rab Sebestyén</td><td>1992-03-03</td><td>2016-04-07</td><td>2016-10-26</td></tr>",
                            "<tr><td>szabolcs</td><td>Bodor Szabolcs</td><td>1990-07-16</td><td>2016-12-05</td><td>2016-12-05</td></tr>",
                            "<tr><td>SZABOLCSM</td><td>Miklós Szabolcs</td><td>1980-08-11</td><td>2016-06-18</td><td>2017-02-04</td></tr>",
                            "<tr><td>SZILARDS</td><td>Szalai Szilárd</td><td>1967-09-28</td><td>2016-04-23</td><td>2017-02-08</td></tr>",
                            "<tr><td>szilvia1</td><td>Tari Szilvia</td><td>1971-03-09</td><td>2016-05-14</td><td>2017-01-28</td></tr>",
                            "<tr><td>tamara2</td><td>Miklós Tamara</td><td>1980-08-11</td><td>2016-08-12</td><td>2016-11-15</td></tr>",
                            "<tr><td>tamas</td><td>Antal Tamás</td><td>1984-09-05</td><td>2016-05-17</td><td>2017-02-14</td></tr>",
                            "<tr><td>TAMASF</td><td>Fényes Tamás</td><td>1997-11-06</td><td>2016-05-03</td><td>2017-02-16</td></tr>",
                            "<tr><td>tibor</td><td>Gombos Tibor</td><td>1993-11-28</td><td>2016-10-09</td><td>2016-11-05</td></tr>",
                            "<tr><td>tibor2</td><td>Dániel Tibor</td><td>1985-02-02</td><td>2016-10-20</td><td>2016-10-20</td></tr>",
                            "<tr><td>tihamer</td><td>Kazy Tihamér</td><td>1991-07-05</td><td>2016-05-30</td><td>2016-12-25</td></tr>",
                            "<tr><td>timea</td><td>Papós Tímea</td><td>1996-01-08</td><td>2016-12-26</td><td>2016-12-26</td></tr>",
                            "<tr><td>timea2</td><td>Dusha Tímea</td><td>1975-08-22</td><td>2016-06-06</td><td>2016-12-14</td></tr>",
                            "<tr><td>tunde</td><td>Turcsik Tünde</td><td>1974-02-12</td><td>2016-06-03</td><td>2017-01-03</td></tr>",
                            "<tr><td>valentin</td><td>Feró Valentin</td><td>1986-01-09</td><td>2016-05-24</td><td>2016-12-01</td></tr>",
                            "<tr><td>veronika4</td><td>Tankó Veronika</td><td>1983-08-28</td><td>2016-05-30</td><td>2017-02-03</td></tr>",
                            "<tr><td>VIKTORIAU</td><td>Urbán Viktoria</td><td>1996-05-03</td><td>2016-04-30</td><td>2016-10-26</td></tr>",
                            "<tr><td>VIKTORK</td><td>Keresztúri Viktor</td><td>1989-05-05</td><td>2016-05-30</td><td>2016-06-06</td></tr>",
                            "<tr><td>vivien3</td><td>Boros Vivien</td><td>1991-07-01</td><td>2016-05-02</td><td>2016-12-24</td></tr>",
                            "<tr><td>zoltan</td><td>Fodor Zoltán</td><td>1979-11-25</td><td>2016-08-24</td><td>2016-09-05</td></tr>",
                            "<tr><td>zoltan4</td><td>Barna Zoltán</td><td>1986-05-20</td><td>2016-05-12</td><td>2017-01-01</td></tr>",
                            "<tr><td>ZOLTANP</td><td>Pintér Zoltán</td><td>1977-06-07</td><td>2016-06-05</td><td>2016-12-25</td></tr>",
                            "<tr><td>ZOLTANT</td><td>Tóth Zoltán</td><td>1985-12-14</td><td>2016-05-01</td><td>2017-01-16</td></tr>",
                            "<tr><td>zsofi1</td><td>Molnár Zsófi</td><td>1983-11-17</td><td>2016-06-16</td><td>2017-02-18</td></tr>",
                            "<tr><td>zsolt1</td><td>Pulai Zsolt</td><td>1988-05-27</td><td>2016-04-14</td><td>2016-07-31</td></tr>",
                            "<tr><td>ZSOLTJ</td><td>Józsa Zsolt</td><td>1983-09-29</td><td>2016-04-24</td><td>2016-10-01</td></tr>",
                            "<tr><td>zsuzsa</td><td>Pusztai Zsuzsanna</td><td>1980-09-17</td><td>2016-07-24</td><td>2016-11-28</td></tr>",
                            "<tr><td>zsuzsa3</td><td>Varsányi Zsuzsa</td><td>1979-03-06</td><td>2016-07-30</td><td>2016-10-27</td></tr>",
                            "<tr><td>zsuzsanna</td><td>Barta Zsuzsanna</td><td>1994-10-07</td><td>2016-05-17</td><td>2017-01-16</td></tr>",
                            "<tr><td>ZSUZSAV</td><td>Vajda Zsuzsa</td><td>1976-12-11</td><td>2016-04-14</td><td>2016-11-21</td></tr>",
                            "</table>"
                        ]
                    }
                }
            ],
            "execution_count": 29
        },
        {
            "cell_type": "markdown",
            "source": [
                "4\\. feladat"
            ],
            "metadata": {
                "language": "sql",
                "azdata_cell_guid": "bd18c107-03ee-409f-a1b9-5f078e591b67"
            },
            "attachments": {}
        },
        {
            "cell_type": "code",
            "source": [
                "SELECT IIF(sz.SZALLAS_ID IS NULL, 'végösszeg', CAST(sz.SZALLAS_ID as NVARCHAR(15))),\r\n",
                "        IIF(POTAGY IS NULL, 'részösszeg', CAST(POTAGY as NVARCHAR(15))),\r\n",
                "        SUM(f.FELNOTT_SZAM + f.GYERMEK_SZAM)\r\n",
                "FROM Szallashely sz JOIN Szoba szo on szo.SZALLAS_FK = sz.SZALLAS_ID\r\n",
                "                    JOIN Foglalas f on szo.SZOBA_ID = f.SZOBA_FK\r\n",
                "GROUP BY ROLLUP (sz.SZALLAS_ID, POTAGY)"
            ],
            "metadata": {
                "language": "sql",
                "azdata_cell_guid": "4562b376-c3bf-443e-8532-846bf2874524"
            },
            "outputs": [
                {
                    "output_type": "display_data",
                    "data": {
                        "text/html": "(44 rows affected)"
                    },
                    "metadata": {}
                },
                {
                    "output_type": "display_data",
                    "data": {
                        "text/html": "Total execution time: 00:00:00.015"
                    },
                    "metadata": {}
                },
                {
                    "output_type": "execute_result",
                    "metadata": {},
                    "execution_count": 30,
                    "data": {
                        "application/vnd.dataresource+json": {
                            "schema": {
                                "fields": [
                                    {
                                        "name": "(No column name)"
                                    },
                                    {
                                        "name": "(No column name)"
                                    },
                                    {
                                        "name": "(No column name)"
                                    }
                                ]
                            },
                            "data": [
                                {
                                    "(No column name)": "67"
                                },
                                {
                                    "(No column name)": "99"
                                },
                                {
                                    "(No column name)": "166"
                                },
                                {
                                    "(No column name)": "10"
                                },
                                {
                                    "(No column name)": "31"
                                },
                                {
                                    "(No column name)": "11"
                                },
                                {
                                    "(No column name)": "52"
                                },
                                {
                                    "(No column name)": "18"
                                },
                                {
                                    "(No column name)": "52"
                                },
                                {
                                    "(No column name)": "36"
                                },
                                {
                                    "(No column name)": "106"
                                },
                                {
                                    "(No column name)": "45"
                                },
                                {
                                    "(No column name)": "99"
                                },
                                {
                                    "(No column name)": "40"
                                },
                                {
                                    "(No column name)": "184"
                                },
                                {
                                    "(No column name)": "113"
                                },
                                {
                                    "(No column name)": "14"
                                },
                                {
                                    "(No column name)": "127"
                                },
                                {
                                    "(No column name)": "168"
                                },
                                {
                                    "(No column name)": "224"
                                },
                                {
                                    "(No column name)": "28"
                                },
                                {
                                    "(No column name)": "420"
                                },
                                {
                                    "(No column name)": "64"
                                },
                                {
                                    "(No column name)": "19"
                                },
                                {
                                    "(No column name)": "83"
                                },
                                {
                                    "(No column name)": "183"
                                },
                                {
                                    "(No column name)": "258"
                                },
                                {
                                    "(No column name)": "63"
                                },
                                {
                                    "(No column name)": "504"
                                },
                                {
                                    "(No column name)": "66"
                                },
                                {
                                    "(No column name)": "66"
                                },
                                {
                                    "(No column name)": "105"
                                },
                                {
                                    "(No column name)": "150"
                                },
                                {
                                    "(No column name)": "36"
                                },
                                {
                                    "(No column name)": "291"
                                },
                                {
                                    "(No column name)": "31"
                                },
                                {
                                    "(No column name)": "17"
                                },
                                {
                                    "(No column name)": "15"
                                },
                                {
                                    "(No column name)": "63"
                                },
                                {
                                    "(No column name)": "216"
                                },
                                {
                                    "(No column name)": "93"
                                },
                                {
                                    "(No column name)": "119"
                                },
                                {
                                    "(No column name)": "428"
                                },
                                {
                                    "(No column name)": "2490"
                                }
                            ]
                        },
                        "text/html": [
                            "<table>",
                            "<tr><th>(No column name)</th><th>(No column name)</th><th>(No column name)</th></tr>",
                            "<tr><td>1</td><td>0</td><td>67</td></tr>",
                            "<tr><td>1</td><td>1</td><td>99</td></tr>",
                            "<tr><td>1</td><td>részösszeg</td><td>166</td></tr>",
                            "<tr><td>2</td><td>0</td><td>10</td></tr>",
                            "<tr><td>2</td><td>1</td><td>31</td></tr>",
                            "<tr><td>2</td><td>2</td><td>11</td></tr>",
                            "<tr><td>2</td><td>részösszeg</td><td>52</td></tr>",
                            "<tr><td>3</td><td>0</td><td>18</td></tr>",
                            "<tr><td>3</td><td>1</td><td>52</td></tr>",
                            "<tr><td>3</td><td>2</td><td>36</td></tr>",
                            "<tr><td>3</td><td>részösszeg</td><td>106</td></tr>",
                            "<tr><td>4</td><td>0</td><td>45</td></tr>",
                            "<tr><td>4</td><td>1</td><td>99</td></tr>",
                            "<tr><td>4</td><td>2</td><td>40</td></tr>",
                            "<tr><td>4</td><td>részösszeg</td><td>184</td></tr>",
                            "<tr><td>5</td><td>0</td><td>113</td></tr>",
                            "<tr><td>5</td><td>1</td><td>14</td></tr>",
                            "<tr><td>5</td><td>részösszeg</td><td>127</td></tr>",
                            "<tr><td>6</td><td>0</td><td>168</td></tr>",
                            "<tr><td>6</td><td>1</td><td>224</td></tr>",
                            "<tr><td>6</td><td>2</td><td>28</td></tr>",
                            "<tr><td>6</td><td>részösszeg</td><td>420</td></tr>",
                            "<tr><td>7</td><td>0</td><td>64</td></tr>",
                            "<tr><td>7</td><td>1</td><td>19</td></tr>",
                            "<tr><td>7</td><td>részösszeg</td><td>83</td></tr>",
                            "<tr><td>8</td><td>0</td><td>183</td></tr>",
                            "<tr><td>8</td><td>1</td><td>258</td></tr>",
                            "<tr><td>8</td><td>2</td><td>63</td></tr>",
                            "<tr><td>8</td><td>részösszeg</td><td>504</td></tr>",
                            "<tr><td>9</td><td>0</td><td>66</td></tr>",
                            "<tr><td>9</td><td>részösszeg</td><td>66</td></tr>",
                            "<tr><td>10</td><td>0</td><td>105</td></tr>",
                            "<tr><td>10</td><td>1</td><td>150</td></tr>",
                            "<tr><td>10</td><td>2</td><td>36</td></tr>",
                            "<tr><td>10</td><td>részösszeg</td><td>291</td></tr>",
                            "<tr><td>11</td><td>0</td><td>31</td></tr>",
                            "<tr><td>11</td><td>1</td><td>17</td></tr>",
                            "<tr><td>11</td><td>2</td><td>15</td></tr>",
                            "<tr><td>11</td><td>részösszeg</td><td>63</td></tr>",
                            "<tr><td>12</td><td>0</td><td>216</td></tr>",
                            "<tr><td>12</td><td>1</td><td>93</td></tr>",
                            "<tr><td>12</td><td>2</td><td>119</td></tr>",
                            "<tr><td>12</td><td>részösszeg</td><td>428</td></tr>",
                            "<tr><td>végösszeg</td><td>részösszeg</td><td>2490</td></tr>",
                            "</table>"
                        ]
                    }
                }
            ],
            "execution_count": 30
        },
        {
            "cell_type": "markdown",
            "source": [
                "5\\. feladat"
            ],
            "metadata": {
                "azdata_cell_guid": "e9a8188f-ecf7-4e44-b58a-fc37ba378a36"
            },
            "attachments": {}
        },
        {
            "cell_type": "code",
            "source": [
                "SELECT COUNT(DISTINCT FEROHELY) AS 'különböző'\r\n",
                "FROM SZOBA;\r\n",
                "\r\n",
                "SELECT \r\n",
                "    MIN(FEROHELY) AS 'minimum',\r\n",
                "    MAX(FEROHELY) AS 'maximum',\r\n",
                "    AVG(FEROHELY) AS 'átlag'\r\n",
                "FROM SZOBA;\r\n",
                "\r\n",
                ""
            ],
            "metadata": {
                "azdata_cell_guid": "3317b785-544a-462b-a7ba-6b792d7d9e10",
                "language": "sql"
            },
            "outputs": [
                {
                    "output_type": "display_data",
                    "data": {
                        "text/html": "(1 row affected)"
                    },
                    "metadata": {}
                },
                {
                    "output_type": "display_data",
                    "data": {
                        "text/html": "(1 row affected)"
                    },
                    "metadata": {}
                },
                {
                    "output_type": "display_data",
                    "data": {
                        "text/html": "Total execution time: 00:00:00.004"
                    },
                    "metadata": {}
                },
                {
                    "output_type": "execute_result",
                    "metadata": {},
                    "execution_count": 31,
                    "data": {
                        "application/vnd.dataresource+json": {
                            "schema": {
                                "fields": [
                                    {
                                        "name": "különböző"
                                    }
                                ]
                            },
                            "data": [
                                {
                                    "különböző": "4"
                                }
                            ]
                        },
                        "text/html": [
                            "<table>",
                            "<tr><th>különböző</th></tr>",
                            "<tr><td>4</td></tr>",
                            "</table>"
                        ]
                    }
                },
                {
                    "output_type": "execute_result",
                    "metadata": {},
                    "execution_count": 31,
                    "data": {
                        "application/vnd.dataresource+json": {
                            "schema": {
                                "fields": [
                                    {
                                        "name": "minimum"
                                    },
                                    {
                                        "name": "maximum"
                                    },
                                    {
                                        "name": "átlag"
                                    }
                                ]
                            },
                            "data": [
                                {
                                    "minimum": "1",
                                    "maximum": "4",
                                    "átlag": "2"
                                }
                            ]
                        },
                        "text/html": [
                            "<table>",
                            "<tr><th>minimum</th><th>maximum</th><th>átlag</th></tr>",
                            "<tr><td>1</td><td>4</td><td>2</td></tr>",
                            "</table>"
                        ]
                    }
                }
            ],
            "execution_count": 31
        },
        {
            "cell_type": "markdown",
            "source": [
                "6\\. feladat (Redis)"
            ],
            "metadata": {
                "azdata_cell_guid": "060ee7f2-08ac-4ea0-abde-05b20f264d9e"
            },
            "attachments": {}
        },
        {
            "cell_type": "markdown",
            "source": [
                "<span style=\"color: #000000;\">&gt;</span> HSET IRO:<span style=\"color: #09885a;\">1</span>:<span style=\"color: #09885a;\">1</span> nev <span style=\"color: #a31515;\">\"Nagy író\"</span> nemzetiseg <span style=\"color: #a31515;\">\"Magyar\"</span>\n",
                "\n",
                "<span style=\"color: #000000;\">&gt;</span> HSET IRO:<span style=\"color: #09885a;\">2</span>:<span style=\"color: #09885a;\">2</span> nev <span style=\"color: #a31515;\">\"Kiss Író\"</span> nemzetiseg <span style=\"color: #a31515;\">\"Horvát\"</span>\n",
                "\n",
                "<span style=\"color: #000000;\">&gt;</span> HSET KONYV:<span style=\"color: #09885a;\">1</span>:<span style=\"color: #09885a;\">1</span> cim <span style=\"color: #a31515;\">\"Az Alpok\"</span> mufaj <span style=\"color: #a31515;\">\"Dráma\"</span> IRO\\_ID <span style=\"color: #09885a;\">1</span>\n",
                "\n",
                "<span style=\"color: #000000;\">&gt;</span> HSET KONYV:<span style=\"color: #09885a;\">2</span>:<span style=\"color: #09885a;\">2</span> cim <span style=\"color: #a31515;\">\"Horvát történelem\"</span> mufaj <span style=\"color: #a31515;\">\"Történelmi\"</span> IRO\\_ID <span style=\"color: #09885a;\">2</span>"
            ],
            "metadata": {
                "azdata_cell_guid": "05c3db16-eb72-4e29-b4d1-8a0004ca451f",
                "language": ""
            },
            "attachments": {}
        },
        {
            "cell_type": "markdown",
            "source": [
                "7\\. feladat (Cassandra)"
            ],
            "metadata": {
                "azdata_cell_guid": "297acf6d-686b-4da2-8f7c-921e8eb217ac"
            },
            "attachments": {}
        },
        {
            "cell_type": "markdown",
            "source": [
                "CREATE TABLE STUDENT\n",
                "\n",
                "(\n",
                "\n",
                "    ID int PRIMARY KEY,\n",
                "\n",
                "    Név text,\n",
                "\n",
                "    Teljesitett\\_félévek list\\<int\\>,\n",
                "\n",
                "    Eredmények map\\<int, float\\>,\n",
                "\n",
                "    Nyelvtudás set\\<text\\>\n",
                "\n",
                ");\n",
                "\n",
                "INSERT INTO STUDENT (ID, Név, Teljesitett\\_félévek, Eredmények, Nyelvtudás)\n",
                "\n",
                "VALUES (1, 'Kis Benedek', \\[1, 2, 3\\], {1: 3.00, 2: 4.55, 3: 4.10}, {'Angol', 'Szlovák'});\n",
                "\n",
                "INSERT INTO STUDENT (ID, Nev, Teljesitett\\_félévek, Eredmények, Nyelvtudás)\n",
                "\n",
                "VALUES (2, 'Nagy Ivó', \\[1, 2, 4\\], {1: 3.50, 2: 4.60, 4: 3.20}, {'Német'});"
            ],
            "metadata": {
                "azdata_cell_guid": "010f0e8f-c0e2-4ea9-97ee-ed664bea25a2"
            },
            "attachments": {}
        },
        {
            "cell_type": "markdown",
            "source": [
                "8\\. feladat (Neo4J)"
            ],
            "metadata": {
                "azdata_cell_guid": "e9829f8a-b9e7-48b3-8bc8-091ab787eb5f"
            },
            "attachments": {}
        },
        {
            "cell_type": "markdown",
            "source": [
                "<span style=\"color: #859900;\">match</span> <span style=\"color: #586e75;\">(</span><span style=\"color: #333333;\">p</span><span style=\"color: #586e75;\">:</span><span style=\"color: #333333;\">Person&nbsp;</span> <span style=\"color: #586e75;\">{</span><span style=\"color: #859900;\">name</span><span style=\"color: #586e75;\">:</span> <span style=\"color: #b58900;\">\"Tom&nbsp;Hanks\"</span><span style=\"color: #586e75;\">})</span> <span style=\"color: #586e75;\">-</span> <span style=\"color: #586e75;\">[:</span><span style=\"color: #333333;\">ACTED_IN</span><span style=\"color: #586e75;\">]</span> <span style=\"color: #586e75;\">-&gt;</span> <span style=\"color: #586e75;\">(</span><span style=\"color: #333333;\">movie</span><span style=\"color: #586e75;\">:</span><span style=\"color: #333333;\">Movie</span><span style=\"color: #586e75;\">)</span> <span style=\"color: #586e75;\">&lt;-</span> <span style=\"color: #586e75;\">[:</span><span style=\"color: #333333;\">ACTED_IN</span><span style=\"color: #586e75;\">]</span> <span style=\"color: #586e75;\">-</span> <span style=\"color: #586e75;\">(</span><span style=\"color: #333333;\">secondactor</span><span style=\"color: #586e75;\">:</span><span style=\"color: #333333;\">Person</span><span style=\"color: #586e75;\">)</span>\n",
                "\n",
                "<span style=\"color: #859900;\">where</span> <span style=\"color: #333333;\">&nbsp;secondactor</span><span style=\"color: #586e75;\">.</span><span style=\"color: #859900;\">name</span> <span style=\"color: #586e75;\">&lt;&gt;</span> <span style=\"color: #b58900;\">\"Tom&nbsp;Hanks\"</span>\n",
                "\n",
                "<span style=\"color: #859900;\">return</span> <span style=\"color: #859900;\">distinct</span> <span style=\"color: #333333;\">&nbsp;secondactor</span><span style=\"color: #586e75;\">.</span><span style=\"color: #859900;\">name</span>"
            ],
            "metadata": {
                "azdata_cell_guid": "9371880a-cf6f-4205-9254-88df41a58420"
            },
            "attachments": {}
        }
    ]
}