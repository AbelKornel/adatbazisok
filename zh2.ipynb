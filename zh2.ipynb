{
    "metadata": {
        "kernelspec": {
            "name": "SQL",
            "display_name": "SQL",
            "language": "sql"
        },
        "language_info": {
            "name": "sql",
            "version": ""
        }
    },
    "nbformat_minor": 2,
    "nbformat": 4,
    "cells": [
        {
            "cell_type": "markdown",
            "source": [
                "Készítsünk listát az egyes szálláshelyek átlagos csillagszámáról típus, illetve hely szerint csoportosítva (külön-külön)!\n",
                "\n",
                "- Az átlag 2 tizedesre kerekítve jelenjen meg\n",
                "- Hagyjuk ki azokat a szálláshelyeket, amelyek nevében kötőjel (-) van!"
            ],
            "metadata": {
                "azdata_cell_guid": "005e35d2-4a09-4dc1-8ac2-b36d19220aa6"
            },
            "attachments": {}
        },
        {
            "cell_type": "code",
            "source": [
                "SELECT szallas_nev, tipus, hely,\r\n",
                "    ROUND(AVG(CSILLAGOK_SZAMA), 2) AS 'átlag_csillagok'\r\n",
                "FROM Szallashely\r\n",
                "GROUP by GROUPING SETS (TIPUS), (HELY), (SZALLAS_NEV)\r\n",
                "HAVING hely not like '%-%'\r\n",
                ""
            ],
            "metadata": {
                "azdata_cell_guid": "a3f439e4-8196-464b-b3cf-b508209ae943",
                "language": "sql"
            },
            "outputs": [
                {
                    "output_type": "display_data",
                    "data": {
                        "text/html": "(10 rows affected)"
                    },
                    "metadata": {}
                },
                {
                    "output_type": "display_data",
                    "data": {
                        "text/html": "Total execution time: 00:00:00.008"
                    },
                    "metadata": {}
                },
                {
                    "output_type": "execute_result",
                    "metadata": {},
                    "execution_count": 18,
                    "data": {
                        "application/vnd.dataresource+json": {
                            "schema": {
                                "fields": [
                                    {
                                        "name": "szallas_nev"
                                    },
                                    {
                                        "name": "tipus"
                                    },
                                    {
                                        "name": "hely"
                                    },
                                    {
                                        "name": "átlag_csillagok"
                                    }
                                ]
                            },
                            "data": [
                                {
                                    "szallas_nev": "Fortuna Apartman",
                                    "tipus": "Apartman",
                                    "hely": "Hajdúbihar megye",
                                    "átlag_csillagok": "0"
                                },
                                {
                                    "szallas_nev": "Kollégium",
                                    "tipus": "Diákszálló",
                                    "hely": "Budapest",
                                    "átlag_csillagok": "0"
                                },
                                {
                                    "szallas_nev": "Gold Hotel",
                                    "tipus": "Hotel",
                                    "hely": "Budapest",
                                    "átlag_csillagok": "3"
                                },
                                {
                                    "szallas_nev": "Lagúna Hotel",
                                    "tipus": "Hotel",
                                    "hely": "Budapest",
                                    "átlag_csillagok": "4"
                                },
                                {
                                    "szallas_nev": "Bagoly Hotel",
                                    "tipus": "Hotel",
                                    "hely": "Pest megye",
                                    "átlag_csillagok": "3"
                                },
                                {
                                    "szallas_nev": "Szarvas Hotel",
                                    "tipus": "Hotel",
                                    "hely": "Tolna megye",
                                    "átlag_csillagok": "4"
                                },
                                {
                                    "szallas_nev": "Fortuna Panzió",
                                    "tipus": "panzió",
                                    "hely": "Békés megye",
                                    "átlag_csillagok": "3"
                                },
                                {
                                    "szallas_nev": "Fortuna panzió",
                                    "tipus": "panzió",
                                    "hely": "Budapest",
                                    "átlag_csillagok": "3"
                                },
                                {
                                    "szallas_nev": "Riviéra Panzió",
                                    "tipus": "panzió",
                                    "hely": "Csongrád megye",
                                    "átlag_csillagok": "3"
                                },
                                {
                                    "szallas_nev": "Nyárfás Vendégház",
                                    "tipus": "vendégház",
                                    "hely": "Csongrád megye",
                                    "átlag_csillagok": "0"
                                }
                            ]
                        },
                        "text/html": [
                            "<table>",
                            "<tr><th>szallas_nev</th><th>tipus</th><th>hely</th><th>átlag_csillagok</th></tr>",
                            "<tr><td>Fortuna Apartman</td><td>Apartman</td><td>Hajdúbihar megye</td><td>0</td></tr>",
                            "<tr><td>Kollégium</td><td>Diákszálló</td><td>Budapest</td><td>0</td></tr>",
                            "<tr><td>Gold Hotel</td><td>Hotel</td><td>Budapest</td><td>3</td></tr>",
                            "<tr><td>Lagúna Hotel</td><td>Hotel</td><td>Budapest</td><td>4</td></tr>",
                            "<tr><td>Bagoly Hotel</td><td>Hotel</td><td>Pest megye</td><td>3</td></tr>",
                            "<tr><td>Szarvas Hotel</td><td>Hotel</td><td>Tolna megye</td><td>4</td></tr>",
                            "<tr><td>Fortuna Panzió</td><td>panzió</td><td>Békés megye</td><td>3</td></tr>",
                            "<tr><td>Fortuna panzió</td><td>panzió</td><td>Budapest</td><td>3</td></tr>",
                            "<tr><td>Riviéra Panzió</td><td>panzió</td><td>Csongrád megye</td><td>3</td></tr>",
                            "<tr><td>Nyárfás Vendégház</td><td>vendégház</td><td>Csongrád megye</td><td>0</td></tr>",
                            "</table>"
                        ]
                    }
                }
            ],
            "execution_count": 18
        },
        {
            "cell_type": "markdown",
            "source": [
                "Rangsoroljuk az egyes szobákat a foglalások száma, azon belül férőhely szerint!\n",
                "\n",
                "- Holtverseny esetén a sorszámok sűrűn kövessék egymást\n",
                "- Az 1-es számot a legtöbbet foglalt, azon belül legkevesebb férőhelyű szoba kapja\n",
                "- Csak a szoba azonosítója, a férőhely és a helyezés jelenjen meg"
            ],
            "metadata": {
                "azdata_cell_guid": "b8445790-f378-45a3-80b4-755b96b982c6"
            },
            "attachments": {}
        },
        {
            "cell_type": "code",
            "source": [
                "SELECT szo.FEROHELY,f.SZOBA_FK,\r\n",
                "       DENSE_RANK() OVER (ORDER BY COUNT(f.FOGLALAS_PK) DESC, szo.FEROHELY ASC) AS Helyezés\r\n",
                "FROM Szoba szo JOIN Foglalas f ON f.SZOBA_FK = szo.SZOBA_ID\r\n",
                "GROUP BY szo.FEROHELY, f.SZOBA_FK\r\n",
                "       "
            ],
            "metadata": {
                "azdata_cell_guid": "64670aa5-4e27-4d00-b1b7-911e9c0e6fb2",
                "language": "sql"
            },
            "outputs": [
                {
                    "output_type": "display_data",
                    "data": {
                        "text/html": "(197 rows affected)"
                    },
                    "metadata": {}
                },
                {
                    "output_type": "display_data",
                    "data": {
                        "text/html": "Total execution time: 00:00:00.019"
                    },
                    "metadata": {}
                },
                {
                    "output_type": "execute_result",
                    "metadata": {},
                    "execution_count": 25,
                    "data": {
                        "application/vnd.dataresource+json": {
                            "schema": {
                                "fields": [
                                    {
                                        "name": "FEROHELY"
                                    },
                                    {
                                        "name": "SZOBA_FK"
                                    },
                                    {
                                        "name": "Helyezes"
                                    }
                                ]
                            },
                            "data": [
                                {
                                    "FEROHELY": "2",
                                    "SZOBA_FK": "58",
                                    "Helyezes": "1"
                                },
                                {
                                    "FEROHELY": "2",
                                    "SZOBA_FK": "182",
                                    "Helyezes": "2"
                                },
                                {
                                    "FEROHELY": "3",
                                    "SZOBA_FK": "185",
                                    "Helyezes": "3"
                                },
                                {
                                    "FEROHELY": "2",
                                    "SZOBA_FK": "70",
                                    "Helyezes": "4"
                                },
                                {
                                    "FEROHELY": "2",
                                    "SZOBA_FK": "94",
                                    "Helyezes": "5"
                                },
                                {
                                    "FEROHELY": "2",
                                    "SZOBA_FK": "12",
                                    "Helyezes": "6"
                                },
                                {
                                    "FEROHELY": "2",
                                    "SZOBA_FK": "172",
                                    "Helyezes": "6"
                                },
                                {
                                    "FEROHELY": "3",
                                    "SZOBA_FK": "35",
                                    "Helyezes": "7"
                                },
                                {
                                    "FEROHELY": "3",
                                    "SZOBA_FK": "48",
                                    "Helyezes": "7"
                                },
                                {
                                    "FEROHELY": "3",
                                    "SZOBA_FK": "74",
                                    "Helyezes": "7"
                                },
                                {
                                    "FEROHELY": "3",
                                    "SZOBA_FK": "122",
                                    "Helyezes": "7"
                                },
                                {
                                    "FEROHELY": "2",
                                    "SZOBA_FK": "121",
                                    "Helyezes": "8"
                                },
                                {
                                    "FEROHELY": "2",
                                    "SZOBA_FK": "140",
                                    "Helyezes": "8"
                                },
                                {
                                    "FEROHELY": "2",
                                    "SZOBA_FK": "110",
                                    "Helyezes": "8"
                                },
                                {
                                    "FEROHELY": "2",
                                    "SZOBA_FK": "55",
                                    "Helyezes": "8"
                                },
                                {
                                    "FEROHELY": "2",
                                    "SZOBA_FK": "38",
                                    "Helyezes": "8"
                                },
                                {
                                    "FEROHELY": "3",
                                    "SZOBA_FK": "1",
                                    "Helyezes": "9"
                                },
                                {
                                    "FEROHELY": "3",
                                    "SZOBA_FK": "3",
                                    "Helyezes": "9"
                                },
                                {
                                    "FEROHELY": "3",
                                    "SZOBA_FK": "43",
                                    "Helyezes": "9"
                                },
                                {
                                    "FEROHELY": "3",
                                    "SZOBA_FK": "83",
                                    "Helyezes": "9"
                                },
                                {
                                    "FEROHELY": "3",
                                    "SZOBA_FK": "88",
                                    "Helyezes": "9"
                                },
                                {
                                    "FEROHELY": "3",
                                    "SZOBA_FK": "89",
                                    "Helyezes": "9"
                                },
                                {
                                    "FEROHELY": "3",
                                    "SZOBA_FK": "117",
                                    "Helyezes": "9"
                                },
                                {
                                    "FEROHELY": "3",
                                    "SZOBA_FK": "198",
                                    "Helyezes": "9"
                                },
                                {
                                    "FEROHELY": "2",
                                    "SZOBA_FK": "149",
                                    "Helyezes": "10"
                                },
                                {
                                    "FEROHELY": "2",
                                    "SZOBA_FK": "156",
                                    "Helyezes": "10"
                                },
                                {
                                    "FEROHELY": "2",
                                    "SZOBA_FK": "163",
                                    "Helyezes": "10"
                                },
                                {
                                    "FEROHELY": "2",
                                    "SZOBA_FK": "165",
                                    "Helyezes": "10"
                                },
                                {
                                    "FEROHELY": "2",
                                    "SZOBA_FK": "118",
                                    "Helyezes": "10"
                                },
                                {
                                    "FEROHELY": "2",
                                    "SZOBA_FK": "109",
                                    "Helyezes": "10"
                                },
                                {
                                    "FEROHELY": "2",
                                    "SZOBA_FK": "127",
                                    "Helyezes": "10"
                                },
                                {
                                    "FEROHELY": "2",
                                    "SZOBA_FK": "139",
                                    "Helyezes": "10"
                                },
                                {
                                    "FEROHELY": "2",
                                    "SZOBA_FK": "80",
                                    "Helyezes": "10"
                                },
                                {
                                    "FEROHELY": "2",
                                    "SZOBA_FK": "59",
                                    "Helyezes": "10"
                                },
                                {
                                    "FEROHELY": "2",
                                    "SZOBA_FK": "39",
                                    "Helyezes": "10"
                                },
                                {
                                    "FEROHELY": "3",
                                    "SZOBA_FK": "27",
                                    "Helyezes": "11"
                                },
                                {
                                    "FEROHELY": "3",
                                    "SZOBA_FK": "49",
                                    "Helyezes": "11"
                                },
                                {
                                    "FEROHELY": "3",
                                    "SZOBA_FK": "96",
                                    "Helyezes": "11"
                                },
                                {
                                    "FEROHELY": "3",
                                    "SZOBA_FK": "97",
                                    "Helyezes": "11"
                                },
                                {
                                    "FEROHELY": "3",
                                    "SZOBA_FK": "138",
                                    "Helyezes": "11"
                                },
                                {
                                    "FEROHELY": "3",
                                    "SZOBA_FK": "143",
                                    "Helyezes": "11"
                                },
                                {
                                    "FEROHELY": "3",
                                    "SZOBA_FK": "115",
                                    "Helyezes": "11"
                                },
                                {
                                    "FEROHELY": "3",
                                    "SZOBA_FK": "187",
                                    "Helyezes": "11"
                                },
                                {
                                    "FEROHELY": "3",
                                    "SZOBA_FK": "193",
                                    "Helyezes": "11"
                                },
                                {
                                    "FEROHELY": "2",
                                    "SZOBA_FK": "195",
                                    "Helyezes": "12"
                                },
                                {
                                    "FEROHELY": "2",
                                    "SZOBA_FK": "161",
                                    "Helyezes": "12"
                                },
                                {
                                    "FEROHELY": "2",
                                    "SZOBA_FK": "150",
                                    "Helyezes": "12"
                                },
                                {
                                    "FEROHELY": "2",
                                    "SZOBA_FK": "148",
                                    "Helyezes": "12"
                                },
                                {
                                    "FEROHELY": "2",
                                    "SZOBA_FK": "169",
                                    "Helyezes": "12"
                                },
                                {
                                    "FEROHELY": "2",
                                    "SZOBA_FK": "106",
                                    "Helyezes": "12"
                                },
                                {
                                    "FEROHELY": "2",
                                    "SZOBA_FK": "126",
                                    "Helyezes": "12"
                                },
                                {
                                    "FEROHELY": "2",
                                    "SZOBA_FK": "145",
                                    "Helyezes": "12"
                                },
                                {
                                    "FEROHELY": "2",
                                    "SZOBA_FK": "141",
                                    "Helyezes": "12"
                                },
                                {
                                    "FEROHELY": "2",
                                    "SZOBA_FK": "130",
                                    "Helyezes": "12"
                                },
                                {
                                    "FEROHELY": "2",
                                    "SZOBA_FK": "137",
                                    "Helyezes": "12"
                                },
                                {
                                    "FEROHELY": "2",
                                    "SZOBA_FK": "78",
                                    "Helyezes": "12"
                                },
                                {
                                    "FEROHELY": "2",
                                    "SZOBA_FK": "42",
                                    "Helyezes": "12"
                                },
                                {
                                    "FEROHELY": "2",
                                    "SZOBA_FK": "64",
                                    "Helyezes": "12"
                                },
                                {
                                    "FEROHELY": "2",
                                    "SZOBA_FK": "67",
                                    "Helyezes": "12"
                                },
                                {
                                    "FEROHELY": "2",
                                    "SZOBA_FK": "28",
                                    "Helyezes": "12"
                                },
                                {
                                    "FEROHELY": "2",
                                    "SZOBA_FK": "29",
                                    "Helyezes": "12"
                                },
                                {
                                    "FEROHELY": "2",
                                    "SZOBA_FK": "19",
                                    "Helyezes": "12"
                                },
                                {
                                    "FEROHELY": "2",
                                    "SZOBA_FK": "33",
                                    "Helyezes": "12"
                                },
                                {
                                    "FEROHELY": "2",
                                    "SZOBA_FK": "4",
                                    "Helyezes": "12"
                                },
                                {
                                    "FEROHELY": "2",
                                    "SZOBA_FK": "7",
                                    "Helyezes": "12"
                                },
                                {
                                    "FEROHELY": "2",
                                    "SZOBA_FK": "15",
                                    "Helyezes": "12"
                                },
                                {
                                    "FEROHELY": "3",
                                    "SZOBA_FK": "17",
                                    "Helyezes": "13"
                                },
                                {
                                    "FEROHELY": "3",
                                    "SZOBA_FK": "18",
                                    "Helyezes": "13"
                                },
                                {
                                    "FEROHELY": "3",
                                    "SZOBA_FK": "6",
                                    "Helyezes": "13"
                                },
                                {
                                    "FEROHELY": "3",
                                    "SZOBA_FK": "9",
                                    "Helyezes": "13"
                                },
                                {
                                    "FEROHELY": "3",
                                    "SZOBA_FK": "22",
                                    "Helyezes": "13"
                                },
                                {
                                    "FEROHELY": "3",
                                    "SZOBA_FK": "36",
                                    "Helyezes": "13"
                                },
                                {
                                    "FEROHELY": "3",
                                    "SZOBA_FK": "44",
                                    "Helyezes": "13"
                                },
                                {
                                    "FEROHELY": "3",
                                    "SZOBA_FK": "54",
                                    "Helyezes": "13"
                                },
                                {
                                    "FEROHELY": "3",
                                    "SZOBA_FK": "77",
                                    "Helyezes": "13"
                                },
                                {
                                    "FEROHELY": "3",
                                    "SZOBA_FK": "82",
                                    "Helyezes": "13"
                                },
                                {
                                    "FEROHELY": "3",
                                    "SZOBA_FK": "92",
                                    "Helyezes": "13"
                                },
                                {
                                    "FEROHELY": "3",
                                    "SZOBA_FK": "132",
                                    "Helyezes": "13"
                                },
                                {
                                    "FEROHELY": "3",
                                    "SZOBA_FK": "133",
                                    "Helyezes": "13"
                                },
                                {
                                    "FEROHELY": "3",
                                    "SZOBA_FK": "134",
                                    "Helyezes": "13"
                                },
                                {
                                    "FEROHELY": "3",
                                    "SZOBA_FK": "146",
                                    "Helyezes": "13"
                                },
                                {
                                    "FEROHELY": "3",
                                    "SZOBA_FK": "124",
                                    "Helyezes": "13"
                                },
                                {
                                    "FEROHELY": "3",
                                    "SZOBA_FK": "120",
                                    "Helyezes": "13"
                                },
                                {
                                    "FEROHELY": "3",
                                    "SZOBA_FK": "176",
                                    "Helyezes": "13"
                                },
                                {
                                    "FEROHELY": "3",
                                    "SZOBA_FK": "181",
                                    "Helyezes": "13"
                                },
                                {
                                    "FEROHELY": "3",
                                    "SZOBA_FK": "188",
                                    "Helyezes": "13"
                                },
                                {
                                    "FEROHELY": "3",
                                    "SZOBA_FK": "197",
                                    "Helyezes": "13"
                                },
                                {
                                    "FEROHELY": "2",
                                    "SZOBA_FK": "189",
                                    "Helyezes": "14"
                                },
                                {
                                    "FEROHELY": "2",
                                    "SZOBA_FK": "190",
                                    "Helyezes": "14"
                                },
                                {
                                    "FEROHELY": "2",
                                    "SZOBA_FK": "191",
                                    "Helyezes": "14"
                                },
                                {
                                    "FEROHELY": "2",
                                    "SZOBA_FK": "168",
                                    "Helyezes": "14"
                                },
                                {
                                    "FEROHELY": "2",
                                    "SZOBA_FK": "175",
                                    "Helyezes": "14"
                                },
                                {
                                    "FEROHELY": "2",
                                    "SZOBA_FK": "170",
                                    "Helyezes": "14"
                                },
                                {
                                    "FEROHELY": "2",
                                    "SZOBA_FK": "171",
                                    "Helyezes": "14"
                                },
                                {
                                    "FEROHELY": "2",
                                    "SZOBA_FK": "157",
                                    "Helyezes": "14"
                                },
                                {
                                    "FEROHELY": "2",
                                    "SZOBA_FK": "154",
                                    "Helyezes": "14"
                                },
                                {
                                    "FEROHELY": "2",
                                    "SZOBA_FK": "164",
                                    "Helyezes": "14"
                                },
                                {
                                    "FEROHELY": "2",
                                    "SZOBA_FK": "119",
                                    "Helyezes": "14"
                                },
                                {
                                    "FEROHELY": "2",
                                    "SZOBA_FK": "107",
                                    "Helyezes": "14"
                                },
                                {
                                    "FEROHELY": "2",
                                    "SZOBA_FK": "128",
                                    "Helyezes": "14"
                                },
                                {
                                    "FEROHELY": "2",
                                    "SZOBA_FK": "131",
                                    "Helyezes": "14"
                                },
                                {
                                    "FEROHELY": "2",
                                    "SZOBA_FK": "99",
                                    "Helyezes": "14"
                                },
                                {
                                    "FEROHELY": "2",
                                    "SZOBA_FK": "111",
                                    "Helyezes": "14"
                                },
                                {
                                    "FEROHELY": "2",
                                    "SZOBA_FK": "81",
                                    "Helyezes": "14"
                                },
                                {
                                    "FEROHELY": "2",
                                    "SZOBA_FK": "86",
                                    "Helyezes": "14"
                                },
                                {
                                    "FEROHELY": "2",
                                    "SZOBA_FK": "52",
                                    "Helyezes": "14"
                                },
                                {
                                    "FEROHELY": "2",
                                    "SZOBA_FK": "45",
                                    "Helyezes": "14"
                                },
                                {
                                    "FEROHELY": "2",
                                    "SZOBA_FK": "62",
                                    "Helyezes": "14"
                                },
                                {
                                    "FEROHELY": "3",
                                    "SZOBA_FK": "61",
                                    "Helyezes": "15"
                                },
                                {
                                    "FEROHELY": "3",
                                    "SZOBA_FK": "51",
                                    "Helyezes": "15"
                                },
                                {
                                    "FEROHELY": "3",
                                    "SZOBA_FK": "20",
                                    "Helyezes": "15"
                                },
                                {
                                    "FEROHELY": "3",
                                    "SZOBA_FK": "8",
                                    "Helyezes": "15"
                                },
                                {
                                    "FEROHELY": "3",
                                    "SZOBA_FK": "16",
                                    "Helyezes": "15"
                                },
                                {
                                    "FEROHELY": "3",
                                    "SZOBA_FK": "87",
                                    "Helyezes": "15"
                                },
                                {
                                    "FEROHELY": "3",
                                    "SZOBA_FK": "79",
                                    "Helyezes": "15"
                                },
                                {
                                    "FEROHELY": "3",
                                    "SZOBA_FK": "112",
                                    "Helyezes": "15"
                                },
                                {
                                    "FEROHELY": "3",
                                    "SZOBA_FK": "113",
                                    "Helyezes": "15"
                                },
                                {
                                    "FEROHELY": "3",
                                    "SZOBA_FK": "93",
                                    "Helyezes": "15"
                                },
                                {
                                    "FEROHELY": "3",
                                    "SZOBA_FK": "144",
                                    "Helyezes": "15"
                                },
                                {
                                    "FEROHELY": "3",
                                    "SZOBA_FK": "123",
                                    "Helyezes": "15"
                                },
                                {
                                    "FEROHELY": "3",
                                    "SZOBA_FK": "153",
                                    "Helyezes": "15"
                                },
                                {
                                    "FEROHELY": "3",
                                    "SZOBA_FK": "160",
                                    "Helyezes": "15"
                                },
                                {
                                    "FEROHELY": "3",
                                    "SZOBA_FK": "155",
                                    "Helyezes": "15"
                                },
                                {
                                    "FEROHELY": "2",
                                    "SZOBA_FK": "152",
                                    "Helyezes": "16"
                                },
                                {
                                    "FEROHELY": "2",
                                    "SZOBA_FK": "173",
                                    "Helyezes": "16"
                                },
                                {
                                    "FEROHELY": "2",
                                    "SZOBA_FK": "174",
                                    "Helyezes": "16"
                                },
                                {
                                    "FEROHELY": "2",
                                    "SZOBA_FK": "186",
                                    "Helyezes": "16"
                                },
                                {
                                    "FEROHELY": "2",
                                    "SZOBA_FK": "196",
                                    "Helyezes": "16"
                                },
                                {
                                    "FEROHELY": "2",
                                    "SZOBA_FK": "184",
                                    "Helyezes": "16"
                                },
                                {
                                    "FEROHELY": "2",
                                    "SZOBA_FK": "129",
                                    "Helyezes": "16"
                                },
                                {
                                    "FEROHELY": "2",
                                    "SZOBA_FK": "100",
                                    "Helyezes": "16"
                                },
                                {
                                    "FEROHELY": "2",
                                    "SZOBA_FK": "114",
                                    "Helyezes": "16"
                                },
                                {
                                    "FEROHELY": "2",
                                    "SZOBA_FK": "98",
                                    "Helyezes": "16"
                                },
                                {
                                    "FEROHELY": "2",
                                    "SZOBA_FK": "103",
                                    "Helyezes": "16"
                                },
                                {
                                    "FEROHELY": "2",
                                    "SZOBA_FK": "85",
                                    "Helyezes": "16"
                                },
                                {
                                    "FEROHELY": "2",
                                    "SZOBA_FK": "91",
                                    "Helyezes": "16"
                                },
                                {
                                    "FEROHELY": "2",
                                    "SZOBA_FK": "11",
                                    "Helyezes": "16"
                                },
                                {
                                    "FEROHELY": "2",
                                    "SZOBA_FK": "5",
                                    "Helyezes": "16"
                                },
                                {
                                    "FEROHELY": "2",
                                    "SZOBA_FK": "21",
                                    "Helyezes": "16"
                                },
                                {
                                    "FEROHELY": "2",
                                    "SZOBA_FK": "50",
                                    "Helyezes": "16"
                                },
                                {
                                    "FEROHELY": "2",
                                    "SZOBA_FK": "57",
                                    "Helyezes": "16"
                                },
                                {
                                    "FEROHELY": "2",
                                    "SZOBA_FK": "63",
                                    "Helyezes": "16"
                                },
                                {
                                    "FEROHELY": "2",
                                    "SZOBA_FK": "72",
                                    "Helyezes": "16"
                                },
                                {
                                    "FEROHELY": "2",
                                    "SZOBA_FK": "73",
                                    "Helyezes": "16"
                                },
                                {
                                    "FEROHELY": "3",
                                    "SZOBA_FK": "66",
                                    "Helyezes": "17"
                                },
                                {
                                    "FEROHELY": "3",
                                    "SZOBA_FK": "69",
                                    "Helyezes": "17"
                                },
                                {
                                    "FEROHELY": "3",
                                    "SZOBA_FK": "46",
                                    "Helyezes": "17"
                                },
                                {
                                    "FEROHELY": "3",
                                    "SZOBA_FK": "34",
                                    "Helyezes": "17"
                                },
                                {
                                    "FEROHELY": "3",
                                    "SZOBA_FK": "40",
                                    "Helyezes": "17"
                                },
                                {
                                    "FEROHELY": "3",
                                    "SZOBA_FK": "2",
                                    "Helyezes": "17"
                                },
                                {
                                    "FEROHELY": "3",
                                    "SZOBA_FK": "10",
                                    "Helyezes": "17"
                                },
                                {
                                    "FEROHELY": "3",
                                    "SZOBA_FK": "13",
                                    "Helyezes": "17"
                                },
                                {
                                    "FEROHELY": "3",
                                    "SZOBA_FK": "90",
                                    "Helyezes": "17"
                                },
                                {
                                    "FEROHELY": "3",
                                    "SZOBA_FK": "84",
                                    "Helyezes": "17"
                                },
                                {
                                    "FEROHELY": "3",
                                    "SZOBA_FK": "104",
                                    "Helyezes": "17"
                                },
                                {
                                    "FEROHELY": "3",
                                    "SZOBA_FK": "95",
                                    "Helyezes": "17"
                                },
                                {
                                    "FEROHELY": "3",
                                    "SZOBA_FK": "183",
                                    "Helyezes": "17"
                                },
                                {
                                    "FEROHELY": "3",
                                    "SZOBA_FK": "177",
                                    "Helyezes": "17"
                                },
                                {
                                    "FEROHELY": "3",
                                    "SZOBA_FK": "178",
                                    "Helyezes": "17"
                                },
                                {
                                    "FEROHELY": "2",
                                    "SZOBA_FK": "180",
                                    "Helyezes": "18"
                                },
                                {
                                    "FEROHELY": "2",
                                    "SZOBA_FK": "151",
                                    "Helyezes": "18"
                                },
                                {
                                    "FEROHELY": "2",
                                    "SZOBA_FK": "158",
                                    "Helyezes": "18"
                                },
                                {
                                    "FEROHELY": "2",
                                    "SZOBA_FK": "166",
                                    "Helyezes": "18"
                                },
                                {
                                    "FEROHELY": "2",
                                    "SZOBA_FK": "101",
                                    "Helyezes": "18"
                                },
                                {
                                    "FEROHELY": "2",
                                    "SZOBA_FK": "75",
                                    "Helyezes": "18"
                                },
                                {
                                    "FEROHELY": "2",
                                    "SZOBA_FK": "76",
                                    "Helyezes": "18"
                                },
                                {
                                    "FEROHELY": "2",
                                    "SZOBA_FK": "136",
                                    "Helyezes": "18"
                                },
                                {
                                    "FEROHELY": "2",
                                    "SZOBA_FK": "23",
                                    "Helyezes": "18"
                                },
                                {
                                    "FEROHELY": "2",
                                    "SZOBA_FK": "37",
                                    "Helyezes": "18"
                                },
                                {
                                    "FEROHELY": "2",
                                    "SZOBA_FK": "68",
                                    "Helyezes": "18"
                                },
                                {
                                    "FEROHELY": "3",
                                    "SZOBA_FK": "71",
                                    "Helyezes": "19"
                                },
                                {
                                    "FEROHELY": "3",
                                    "SZOBA_FK": "30",
                                    "Helyezes": "19"
                                },
                                {
                                    "FEROHELY": "3",
                                    "SZOBA_FK": "31",
                                    "Helyezes": "19"
                                },
                                {
                                    "FEROHELY": "3",
                                    "SZOBA_FK": "14",
                                    "Helyezes": "19"
                                },
                                {
                                    "FEROHELY": "3",
                                    "SZOBA_FK": "135",
                                    "Helyezes": "19"
                                },
                                {
                                    "FEROHELY": "3",
                                    "SZOBA_FK": "162",
                                    "Helyezes": "19"
                                },
                                {
                                    "FEROHELY": "3",
                                    "SZOBA_FK": "179",
                                    "Helyezes": "19"
                                },
                                {
                                    "FEROHELY": "4",
                                    "SZOBA_FK": "24",
                                    "Helyezes": "20"
                                },
                                {
                                    "FEROHELY": "2",
                                    "SZOBA_FK": "26",
                                    "Helyezes": "21"
                                },
                                {
                                    "FEROHELY": "2",
                                    "SZOBA_FK": "47",
                                    "Helyezes": "21"
                                },
                                {
                                    "FEROHELY": "2",
                                    "SZOBA_FK": "53",
                                    "Helyezes": "21"
                                },
                                {
                                    "FEROHELY": "2",
                                    "SZOBA_FK": "56",
                                    "Helyezes": "21"
                                },
                                {
                                    "FEROHELY": "2",
                                    "SZOBA_FK": "108",
                                    "Helyezes": "21"
                                },
                                {
                                    "FEROHELY": "2",
                                    "SZOBA_FK": "102",
                                    "Helyezes": "21"
                                },
                                {
                                    "FEROHELY": "2",
                                    "SZOBA_FK": "105",
                                    "Helyezes": "21"
                                },
                                {
                                    "FEROHELY": "2",
                                    "SZOBA_FK": "192",
                                    "Helyezes": "21"
                                },
                                {
                                    "FEROHELY": "3",
                                    "SZOBA_FK": "167",
                                    "Helyezes": "22"
                                },
                                {
                                    "FEROHELY": "3",
                                    "SZOBA_FK": "116",
                                    "Helyezes": "22"
                                },
                                {
                                    "FEROHELY": "3",
                                    "SZOBA_FK": "142",
                                    "Helyezes": "22"
                                },
                                {
                                    "FEROHELY": "3",
                                    "SZOBA_FK": "25",
                                    "Helyezes": "22"
                                },
                                {
                                    "FEROHELY": "3",
                                    "SZOBA_FK": "41",
                                    "Helyezes": "22"
                                },
                                {
                                    "FEROHELY": "2",
                                    "SZOBA_FK": "32",
                                    "Helyezes": "23"
                                },
                                {
                                    "FEROHELY": "2",
                                    "SZOBA_FK": "65",
                                    "Helyezes": "23"
                                },
                                {
                                    "FEROHELY": "2",
                                    "SZOBA_FK": "147",
                                    "Helyezes": "23"
                                },
                                {
                                    "FEROHELY": "2",
                                    "SZOBA_FK": "125",
                                    "Helyezes": "23"
                                },
                                {
                                    "FEROHELY": "2",
                                    "SZOBA_FK": "194",
                                    "Helyezes": "23"
                                },
                                {
                                    "FEROHELY": "3",
                                    "SZOBA_FK": "60",
                                    "Helyezes": "24"
                                }
                            ]
                        },
                        "text/html": [
                            "<table>",
                            "<tr><th>FEROHELY</th><th>SZOBA_FK</th><th>Helyezes</th></tr>",
                            "<tr><td>2</td><td>58</td><td>1</td></tr>",
                            "<tr><td>2</td><td>182</td><td>2</td></tr>",
                            "<tr><td>3</td><td>185</td><td>3</td></tr>",
                            "<tr><td>2</td><td>70</td><td>4</td></tr>",
                            "<tr><td>2</td><td>94</td><td>5</td></tr>",
                            "<tr><td>2</td><td>12</td><td>6</td></tr>",
                            "<tr><td>2</td><td>172</td><td>6</td></tr>",
                            "<tr><td>3</td><td>35</td><td>7</td></tr>",
                            "<tr><td>3</td><td>48</td><td>7</td></tr>",
                            "<tr><td>3</td><td>74</td><td>7</td></tr>",
                            "<tr><td>3</td><td>122</td><td>7</td></tr>",
                            "<tr><td>2</td><td>121</td><td>8</td></tr>",
                            "<tr><td>2</td><td>140</td><td>8</td></tr>",
                            "<tr><td>2</td><td>110</td><td>8</td></tr>",
                            "<tr><td>2</td><td>55</td><td>8</td></tr>",
                            "<tr><td>2</td><td>38</td><td>8</td></tr>",
                            "<tr><td>3</td><td>1</td><td>9</td></tr>",
                            "<tr><td>3</td><td>3</td><td>9</td></tr>",
                            "<tr><td>3</td><td>43</td><td>9</td></tr>",
                            "<tr><td>3</td><td>83</td><td>9</td></tr>",
                            "<tr><td>3</td><td>88</td><td>9</td></tr>",
                            "<tr><td>3</td><td>89</td><td>9</td></tr>",
                            "<tr><td>3</td><td>117</td><td>9</td></tr>",
                            "<tr><td>3</td><td>198</td><td>9</td></tr>",
                            "<tr><td>2</td><td>149</td><td>10</td></tr>",
                            "<tr><td>2</td><td>156</td><td>10</td></tr>",
                            "<tr><td>2</td><td>163</td><td>10</td></tr>",
                            "<tr><td>2</td><td>165</td><td>10</td></tr>",
                            "<tr><td>2</td><td>118</td><td>10</td></tr>",
                            "<tr><td>2</td><td>109</td><td>10</td></tr>",
                            "<tr><td>2</td><td>127</td><td>10</td></tr>",
                            "<tr><td>2</td><td>139</td><td>10</td></tr>",
                            "<tr><td>2</td><td>80</td><td>10</td></tr>",
                            "<tr><td>2</td><td>59</td><td>10</td></tr>",
                            "<tr><td>2</td><td>39</td><td>10</td></tr>",
                            "<tr><td>3</td><td>27</td><td>11</td></tr>",
                            "<tr><td>3</td><td>49</td><td>11</td></tr>",
                            "<tr><td>3</td><td>96</td><td>11</td></tr>",
                            "<tr><td>3</td><td>97</td><td>11</td></tr>",
                            "<tr><td>3</td><td>138</td><td>11</td></tr>",
                            "<tr><td>3</td><td>143</td><td>11</td></tr>",
                            "<tr><td>3</td><td>115</td><td>11</td></tr>",
                            "<tr><td>3</td><td>187</td><td>11</td></tr>",
                            "<tr><td>3</td><td>193</td><td>11</td></tr>",
                            "<tr><td>2</td><td>195</td><td>12</td></tr>",
                            "<tr><td>2</td><td>161</td><td>12</td></tr>",
                            "<tr><td>2</td><td>150</td><td>12</td></tr>",
                            "<tr><td>2</td><td>148</td><td>12</td></tr>",
                            "<tr><td>2</td><td>169</td><td>12</td></tr>",
                            "<tr><td>2</td><td>106</td><td>12</td></tr>",
                            "<tr><td>2</td><td>126</td><td>12</td></tr>",
                            "<tr><td>2</td><td>145</td><td>12</td></tr>",
                            "<tr><td>2</td><td>141</td><td>12</td></tr>",
                            "<tr><td>2</td><td>130</td><td>12</td></tr>",
                            "<tr><td>2</td><td>137</td><td>12</td></tr>",
                            "<tr><td>2</td><td>78</td><td>12</td></tr>",
                            "<tr><td>2</td><td>42</td><td>12</td></tr>",
                            "<tr><td>2</td><td>64</td><td>12</td></tr>",
                            "<tr><td>2</td><td>67</td><td>12</td></tr>",
                            "<tr><td>2</td><td>28</td><td>12</td></tr>",
                            "<tr><td>2</td><td>29</td><td>12</td></tr>",
                            "<tr><td>2</td><td>19</td><td>12</td></tr>",
                            "<tr><td>2</td><td>33</td><td>12</td></tr>",
                            "<tr><td>2</td><td>4</td><td>12</td></tr>",
                            "<tr><td>2</td><td>7</td><td>12</td></tr>",
                            "<tr><td>2</td><td>15</td><td>12</td></tr>",
                            "<tr><td>3</td><td>17</td><td>13</td></tr>",
                            "<tr><td>3</td><td>18</td><td>13</td></tr>",
                            "<tr><td>3</td><td>6</td><td>13</td></tr>",
                            "<tr><td>3</td><td>9</td><td>13</td></tr>",
                            "<tr><td>3</td><td>22</td><td>13</td></tr>",
                            "<tr><td>3</td><td>36</td><td>13</td></tr>",
                            "<tr><td>3</td><td>44</td><td>13</td></tr>",
                            "<tr><td>3</td><td>54</td><td>13</td></tr>",
                            "<tr><td>3</td><td>77</td><td>13</td></tr>",
                            "<tr><td>3</td><td>82</td><td>13</td></tr>",
                            "<tr><td>3</td><td>92</td><td>13</td></tr>",
                            "<tr><td>3</td><td>132</td><td>13</td></tr>",
                            "<tr><td>3</td><td>133</td><td>13</td></tr>",
                            "<tr><td>3</td><td>134</td><td>13</td></tr>",
                            "<tr><td>3</td><td>146</td><td>13</td></tr>",
                            "<tr><td>3</td><td>124</td><td>13</td></tr>",
                            "<tr><td>3</td><td>120</td><td>13</td></tr>",
                            "<tr><td>3</td><td>176</td><td>13</td></tr>",
                            "<tr><td>3</td><td>181</td><td>13</td></tr>",
                            "<tr><td>3</td><td>188</td><td>13</td></tr>",
                            "<tr><td>3</td><td>197</td><td>13</td></tr>",
                            "<tr><td>2</td><td>189</td><td>14</td></tr>",
                            "<tr><td>2</td><td>190</td><td>14</td></tr>",
                            "<tr><td>2</td><td>191</td><td>14</td></tr>",
                            "<tr><td>2</td><td>168</td><td>14</td></tr>",
                            "<tr><td>2</td><td>175</td><td>14</td></tr>",
                            "<tr><td>2</td><td>170</td><td>14</td></tr>",
                            "<tr><td>2</td><td>171</td><td>14</td></tr>",
                            "<tr><td>2</td><td>157</td><td>14</td></tr>",
                            "<tr><td>2</td><td>154</td><td>14</td></tr>",
                            "<tr><td>2</td><td>164</td><td>14</td></tr>",
                            "<tr><td>2</td><td>119</td><td>14</td></tr>",
                            "<tr><td>2</td><td>107</td><td>14</td></tr>",
                            "<tr><td>2</td><td>128</td><td>14</td></tr>",
                            "<tr><td>2</td><td>131</td><td>14</td></tr>",
                            "<tr><td>2</td><td>99</td><td>14</td></tr>",
                            "<tr><td>2</td><td>111</td><td>14</td></tr>",
                            "<tr><td>2</td><td>81</td><td>14</td></tr>",
                            "<tr><td>2</td><td>86</td><td>14</td></tr>",
                            "<tr><td>2</td><td>52</td><td>14</td></tr>",
                            "<tr><td>2</td><td>45</td><td>14</td></tr>",
                            "<tr><td>2</td><td>62</td><td>14</td></tr>",
                            "<tr><td>3</td><td>61</td><td>15</td></tr>",
                            "<tr><td>3</td><td>51</td><td>15</td></tr>",
                            "<tr><td>3</td><td>20</td><td>15</td></tr>",
                            "<tr><td>3</td><td>8</td><td>15</td></tr>",
                            "<tr><td>3</td><td>16</td><td>15</td></tr>",
                            "<tr><td>3</td><td>87</td><td>15</td></tr>",
                            "<tr><td>3</td><td>79</td><td>15</td></tr>",
                            "<tr><td>3</td><td>112</td><td>15</td></tr>",
                            "<tr><td>3</td><td>113</td><td>15</td></tr>",
                            "<tr><td>3</td><td>93</td><td>15</td></tr>",
                            "<tr><td>3</td><td>144</td><td>15</td></tr>",
                            "<tr><td>3</td><td>123</td><td>15</td></tr>",
                            "<tr><td>3</td><td>153</td><td>15</td></tr>",
                            "<tr><td>3</td><td>160</td><td>15</td></tr>",
                            "<tr><td>3</td><td>155</td><td>15</td></tr>",
                            "<tr><td>2</td><td>152</td><td>16</td></tr>",
                            "<tr><td>2</td><td>173</td><td>16</td></tr>",
                            "<tr><td>2</td><td>174</td><td>16</td></tr>",
                            "<tr><td>2</td><td>186</td><td>16</td></tr>",
                            "<tr><td>2</td><td>196</td><td>16</td></tr>",
                            "<tr><td>2</td><td>184</td><td>16</td></tr>",
                            "<tr><td>2</td><td>129</td><td>16</td></tr>",
                            "<tr><td>2</td><td>100</td><td>16</td></tr>",
                            "<tr><td>2</td><td>114</td><td>16</td></tr>",
                            "<tr><td>2</td><td>98</td><td>16</td></tr>",
                            "<tr><td>2</td><td>103</td><td>16</td></tr>",
                            "<tr><td>2</td><td>85</td><td>16</td></tr>",
                            "<tr><td>2</td><td>91</td><td>16</td></tr>",
                            "<tr><td>2</td><td>11</td><td>16</td></tr>",
                            "<tr><td>2</td><td>5</td><td>16</td></tr>",
                            "<tr><td>2</td><td>21</td><td>16</td></tr>",
                            "<tr><td>2</td><td>50</td><td>16</td></tr>",
                            "<tr><td>2</td><td>57</td><td>16</td></tr>",
                            "<tr><td>2</td><td>63</td><td>16</td></tr>",
                            "<tr><td>2</td><td>72</td><td>16</td></tr>",
                            "<tr><td>2</td><td>73</td><td>16</td></tr>",
                            "<tr><td>3</td><td>66</td><td>17</td></tr>",
                            "<tr><td>3</td><td>69</td><td>17</td></tr>",
                            "<tr><td>3</td><td>46</td><td>17</td></tr>",
                            "<tr><td>3</td><td>34</td><td>17</td></tr>",
                            "<tr><td>3</td><td>40</td><td>17</td></tr>",
                            "<tr><td>3</td><td>2</td><td>17</td></tr>",
                            "<tr><td>3</td><td>10</td><td>17</td></tr>",
                            "<tr><td>3</td><td>13</td><td>17</td></tr>",
                            "<tr><td>3</td><td>90</td><td>17</td></tr>",
                            "<tr><td>3</td><td>84</td><td>17</td></tr>",
                            "<tr><td>3</td><td>104</td><td>17</td></tr>",
                            "<tr><td>3</td><td>95</td><td>17</td></tr>",
                            "<tr><td>3</td><td>183</td><td>17</td></tr>",
                            "<tr><td>3</td><td>177</td><td>17</td></tr>",
                            "<tr><td>3</td><td>178</td><td>17</td></tr>",
                            "<tr><td>2</td><td>180</td><td>18</td></tr>",
                            "<tr><td>2</td><td>151</td><td>18</td></tr>",
                            "<tr><td>2</td><td>158</td><td>18</td></tr>",
                            "<tr><td>2</td><td>166</td><td>18</td></tr>",
                            "<tr><td>2</td><td>101</td><td>18</td></tr>",
                            "<tr><td>2</td><td>75</td><td>18</td></tr>",
                            "<tr><td>2</td><td>76</td><td>18</td></tr>",
                            "<tr><td>2</td><td>136</td><td>18</td></tr>",
                            "<tr><td>2</td><td>23</td><td>18</td></tr>",
                            "<tr><td>2</td><td>37</td><td>18</td></tr>",
                            "<tr><td>2</td><td>68</td><td>18</td></tr>",
                            "<tr><td>3</td><td>71</td><td>19</td></tr>",
                            "<tr><td>3</td><td>30</td><td>19</td></tr>",
                            "<tr><td>3</td><td>31</td><td>19</td></tr>",
                            "<tr><td>3</td><td>14</td><td>19</td></tr>",
                            "<tr><td>3</td><td>135</td><td>19</td></tr>",
                            "<tr><td>3</td><td>162</td><td>19</td></tr>",
                            "<tr><td>3</td><td>179</td><td>19</td></tr>",
                            "<tr><td>4</td><td>24</td><td>20</td></tr>",
                            "<tr><td>2</td><td>26</td><td>21</td></tr>",
                            "<tr><td>2</td><td>47</td><td>21</td></tr>",
                            "<tr><td>2</td><td>53</td><td>21</td></tr>",
                            "<tr><td>2</td><td>56</td><td>21</td></tr>",
                            "<tr><td>2</td><td>108</td><td>21</td></tr>",
                            "<tr><td>2</td><td>102</td><td>21</td></tr>",
                            "<tr><td>2</td><td>105</td><td>21</td></tr>",
                            "<tr><td>2</td><td>192</td><td>21</td></tr>",
                            "<tr><td>3</td><td>167</td><td>22</td></tr>",
                            "<tr><td>3</td><td>116</td><td>22</td></tr>",
                            "<tr><td>3</td><td>142</td><td>22</td></tr>",
                            "<tr><td>3</td><td>25</td><td>22</td></tr>",
                            "<tr><td>3</td><td>41</td><td>22</td></tr>",
                            "<tr><td>2</td><td>32</td><td>23</td></tr>",
                            "<tr><td>2</td><td>65</td><td>23</td></tr>",
                            "<tr><td>2</td><td>147</td><td>23</td></tr>",
                            "<tr><td>2</td><td>125</td><td>23</td></tr>",
                            "<tr><td>2</td><td>194</td><td>23</td></tr>",
                            "<tr><td>3</td><td>60</td><td>24</td></tr>",
                            "</table>"
                        ]
                    }
                }
            ],
            "execution_count": 25
        },
        {
            "cell_type": "markdown",
            "source": [
                "Egészítse ki a megkezdett lekérdezést, amely megjeleníti, hogy melyek azok a szálláshelyek, ahol nincs 3 férőhelyes szoba!\n",
                "\n",
                "a.  Jelenjen meg a szálláshely azonosítója és neve, valamint egy új oszlopban az, hogy a szálláshely legalább 3 csillagos-e (Igen/Nem)"
            ],
            "metadata": {
                "azdata_cell_guid": "7eb8d37b-e9e4-463c-a47f-480ecafcad39"
            },
            "attachments": {}
        },
        {
            "cell_type": "code",
            "source": [
                "SELECT SZALLAS_ID, SZALLAS_NEV,\r\n",
                "\r\n",
                "          IIF(csillagok_szama >= 3, 'Igen', 'Nem') AS 'Legalább 3 csillagos_e' \r\n",
                "\r\n",
                "FROM Szallashely \r\n",
                "\r\n",
                "WHERE SZALLAS_ID NOT IN\r\n",
                "\r\n",
                "( \r\n",
                "\r\n",
                "SELECT szoba_id\r\n",
                "\r\n",
                "FROM Szoba \r\n",
                "\r\n",
                "WHERE FEROHELY = 3\r\n",
                "\r\n",
                ")"
            ],
            "metadata": {
                "azdata_cell_guid": "66f852bd-f7bf-4b95-847f-ba839cccb285",
                "language": "sql"
            },
            "outputs": [
                {
                    "output_type": "display_data",
                    "data": {
                        "text/html": "(8 rows affected)"
                    },
                    "metadata": {}
                },
                {
                    "output_type": "display_data",
                    "data": {
                        "text/html": "Total execution time: 00:00:00.008"
                    },
                    "metadata": {}
                },
                {
                    "output_type": "execute_result",
                    "metadata": {},
                    "execution_count": 32,
                    "data": {
                        "application/vnd.dataresource+json": {
                            "schema": {
                                "fields": [
                                    {
                                        "name": "SZALLAS_ID"
                                    },
                                    {
                                        "name": "SZALLAS_NEV"
                                    },
                                    {
                                        "name": "Legalább 3 csillagos_e"
                                    }
                                ]
                            },
                            "data": [
                                {
                                    "SZALLAS_ID": "4",
                                    "SZALLAS_NEV": "Fortuna panzió",
                                    "Legalább 3 csillagos_e": "Igen"
                                },
                                {
                                    "SZALLAS_ID": "5",
                                    "SZALLAS_NEV": "Fortuna Panzió",
                                    "Legalább 3 csillagos_e": "Igen"
                                },
                                {
                                    "SZALLAS_ID": "7",
                                    "SZALLAS_NEV": "Szieszta Apartmanház",
                                    "Legalább 3 csillagos_e": "Nem"
                                },
                                {
                                    "SZALLAS_ID": "11",
                                    "SZALLAS_NEV": "Partiszél Vendégház",
                                    "Legalább 3 csillagos_e": "Nem"
                                },
                                {
                                    "SZALLAS_ID": "12",
                                    "SZALLAS_NEV": "Gold Hotel",
                                    "Legalább 3 csillagos_e": "Igen"
                                },
                                {
                                    "SZALLAS_ID": "15",
                                    "SZALLAS_NEV": "Tímárház Panzió",
                                    "Legalább 3 csillagos_e": "Igen"
                                },
                                {
                                    "SZALLAS_ID": "19",
                                    "SZALLAS_NEV": "Nyárfás Vendégház",
                                    "Legalább 3 csillagos_e": "Nem"
                                },
                                {
                                    "SZALLAS_ID": "21",
                                    "SZALLAS_NEV": "Müller Vendégház",
                                    "Legalább 3 csillagos_e": "Nem"
                                }
                            ]
                        },
                        "text/html": [
                            "<table>",
                            "<tr><th>SZALLAS_ID</th><th>SZALLAS_NEV</th><th>Legalább 3 csillagos_e</th></tr>",
                            "<tr><td>4</td><td>Fortuna panzió</td><td>Igen</td></tr>",
                            "<tr><td>5</td><td>Fortuna Panzió</td><td>Igen</td></tr>",
                            "<tr><td>7</td><td>Szieszta Apartmanház</td><td>Nem</td></tr>",
                            "<tr><td>11</td><td>Partiszél Vendégház</td><td>Nem</td></tr>",
                            "<tr><td>12</td><td>Gold Hotel</td><td>Igen</td></tr>",
                            "<tr><td>15</td><td>Tímárház Panzió</td><td>Igen</td></tr>",
                            "<tr><td>19</td><td>Nyárfás Vendégház</td><td>Nem</td></tr>",
                            "<tr><td>21</td><td>Müller Vendégház</td><td>Nem</td></tr>",
                            "</table>"
                        ]
                    }
                }
            ],
            "execution_count": 32
        }
    ]
}