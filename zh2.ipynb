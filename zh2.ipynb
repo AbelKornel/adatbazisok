{
    "metadata": {
        "kernelspec": {
            "name": "SQL",
            "display_name": "SQL",
            "language": "sql"
        },
        "language_info": {
            "name": "sql",
            "version": ""
        }
    },
    "nbformat_minor": 2,
    "nbformat": 4,
    "cells": [
        {
            "cell_type": "markdown",
            "source": [
                "Készítsünk listát az egyes szálláshelyek átlagos csillagszámáról típus, illetve hely szerint csoportosítva (külön-külön)!\n",
                "- Az átlag 2 tizedesre kerekítve jelenjen meg\n",
                "- Hagyjuk ki azokat a szálláshelyeket, amelyek nevében kötőjel (-) van!"
            ],
            "metadata": {
                "azdata_cell_guid": "005e35d2-4a09-4dc1-8ac2-b36d19220aa6"
            },
            "attachments": {}
        },
        {
            "cell_type": "code",
            "source": [
                "SELECT\n",
                "FROM "
            ],
            "metadata": {
                "azdata_cell_guid": "a3f439e4-8196-464b-b3cf-b508209ae943",
                "language": "sql"
            },
            "outputs": [],
            "execution_count": null
        },
        {
            "cell_type": "markdown",
            "source": [
                ""
            ],
            "metadata": {
                "azdata_cell_guid": "b8445790-f378-45a3-80b4-755b96b982c6"
            }
        },
        {
            "cell_type": "code",
            "source": [
                ""
            ],
            "metadata": {
                "azdata_cell_guid": "64670aa5-4e27-4d00-b1b7-911e9c0e6fb2",
                "language": "sql"
            },
            "outputs": [],
            "execution_count": null
        },
        {
            "cell_type": "markdown",
            "source": [
                ""
            ],
            "metadata": {
                "azdata_cell_guid": "7eb8d37b-e9e4-463c-a47f-480ecafcad39"
            }
        },
        {
            "cell_type": "code",
            "source": [
                ""
            ],
            "metadata": {
                "azdata_cell_guid": "66f852bd-f7bf-4b95-847f-ba839cccb285",
                "language": "sql"
            },
            "outputs": [],
            "execution_count": null
        }
    ]
}