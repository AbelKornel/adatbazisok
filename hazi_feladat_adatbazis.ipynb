{
    "metadata": {
        "kernelspec": {
            "name": "SQL",
            "display_name": "SQL",
            "language": "sql"
        },
        "language_info": {
            "name": "sql",
            "version": ""
        }
    },
    "nbformat_minor": 2,
    "nbformat": 4,
    "cells": [
        {
            "cell_type": "code",
            "source": [
                "SELECT COUNT(*) AS sorok_db\r\n",
                "FROM szallashely\r\n",
                "\r\n",
                "\r\n",
                "SELECT tipus,\r\n",
                "    COUNT(*) AS db\r\n",
                "FROM \r\n",
                "    (SELECT \r\n",
                "        CASE WHEN cim IS NULL THEN 'Null'\r\n",
                "            WHEN LEN(cim) = 0 THEN 'üres'\r\n",
                "            ELSE 'Nem üres'\r\n",
                "            END AS tipus\r\n",
                "        FROM szallashely) rows\r\n",
                "GROUP BY tipus\r\n",
                "\r\n",
                "\r\n",
                "SELECT MIN(csillagok_szama) AS min_csillag, \r\n",
                "        MAX(csillagok_szama) AS max_csillag, \r\n",
                "        AVG(csillagok_szama) AS atlag_csillag\r\n",
                "FROM szallashely\r\n",
                "\r\n",
                "\r\n",
                "SELECT hely,\r\n",
                "        csillagok_szama\r\n",
                "FROM szallashely\r\n",
                "GROUP BY hely, csillagok_szama\r\n",
                "HAVING csillagok_szama >=3\r\n",
                "\r\n",
                "SELECT COUNT(hely) AS egy_helyen_hanydb_szallas,\r\n",
                "        hely\r\n",
                "FROM szallashely\r\n",
                "GROUP BY hely\r\n",
                "ORDER BY egy_helyen_hanydb_szallas DESC\r\n",
                "\r\n",
                "\r\n",
                "SELECT hely,\r\n",
                "        MAX(csillagok_szama) AS hely_max_csillagszam\r\n",
                "FROM szallashely\r\n",
                "GROUP BY hely\r\n",
                "\r\n",
                "\r\n",
                "SELECT MIN(cim) AS legrovidebb_cim,\r\n",
                "        MAX(cim) AS leghosszabb_cim\r\n",
                "FROM szallashely\r\n",
                "WHERE cim IS NOT NULL AND LEN(cim) > 0\r\n",
                "\r\n",
                "\r\n",
                "SELECT MIN(LEN(cim)) AS cim_hossz_betu_db_min, \r\n",
                "       MAX(LEN(cim)) AS cim_hossz_betu_db_max, \r\n",
                "       AVG(LEN(cim)) AS cim_hossz_betu_db_atlag,\r\n",
                "       VAR(LEN(cim)) AS cim_hossz_betu_db_szoras\r\n",
                "FROM szallashely\r\n",
                "WHERE cim IS NOT NULL\r\n",
                "AND LEN(cim) > 0\r\n",
                "\r\n",
                "\r\n",
                "SELECT szallas_nev,\r\n",
                "        MAX(csillagok_szama) AS hely_max_csillagszam\r\n",
                "FROM szallashely\r\n",
                "GROUP BY szallas_nev\r\n",
                "\r\n",
                "\r\n",
                "\r\n",
                "\r\n",
                ""
            ],
            "metadata": {
                "azdata_cell_guid": "8fedcae3-aca2-4c7b-83c8-af28c9174a67",
                "language": "sql",
                "tags": []
            },
            "outputs": [
                {
                    "output_type": "display_data",
                    "data": {
                        "text/html": "(1 row affected)"
                    },
                    "metadata": {}
                },
                {
                    "output_type": "display_data",
                    "data": {
                        "text/html": "(1 row affected)"
                    },
                    "metadata": {}
                },
                {
                    "output_type": "display_data",
                    "data": {
                        "text/html": "(1 row affected)"
                    },
                    "metadata": {}
                },
                {
                    "output_type": "display_data",
                    "data": {
                        "text/html": "(8 rows affected)"
                    },
                    "metadata": {}
                },
                {
                    "output_type": "display_data",
                    "data": {
                        "text/html": "(9 rows affected)"
                    },
                    "metadata": {}
                },
                {
                    "output_type": "display_data",
                    "data": {
                        "text/html": "(9 rows affected)"
                    },
                    "metadata": {}
                },
                {
                    "output_type": "display_data",
                    "data": {
                        "text/html": "(1 row affected)"
                    },
                    "metadata": {}
                },
                {
                    "output_type": "display_data",
                    "data": {
                        "text/html": "(1 row affected)"
                    },
                    "metadata": {}
                },
                {
                    "output_type": "display_data",
                    "data": {
                        "text/html": "(18 rows affected)"
                    },
                    "metadata": {}
                },
                {
                    "output_type": "display_data",
                    "data": {
                        "text/html": "Total execution time: 00:00:00.091"
                    },
                    "metadata": {}
                },
                {
                    "output_type": "execute_result",
                    "metadata": {},
                    "execution_count": 14,
                    "data": {
                        "application/vnd.dataresource+json": {
                            "schema": {
                                "fields": [
                                    {
                                        "name": "sorok_db"
                                    }
                                ]
                            },
                            "data": [
                                {
                                    "sorok_db": "21"
                                }
                            ]
                        },
                        "text/html": [
                            "<table>",
                            "<tr><th>sorok_db</th></tr>",
                            "<tr><td>21</td></tr>",
                            "</table>"
                        ]
                    }
                },
                {
                    "output_type": "execute_result",
                    "metadata": {},
                    "execution_count": 14,
                    "data": {
                        "application/vnd.dataresource+json": {
                            "schema": {
                                "fields": [
                                    {
                                        "name": "tipus"
                                    },
                                    {
                                        "name": "db"
                                    }
                                ]
                            },
                            "data": [
                                {
                                    "tipus": "Nem üres",
                                    "db": "21"
                                }
                            ]
                        },
                        "text/html": [
                            "<table>",
                            "<tr><th>tipus</th><th>db</th></tr>",
                            "<tr><td>Nem üres</td><td>21</td></tr>",
                            "</table>"
                        ]
                    }
                },
                {
                    "output_type": "execute_result",
                    "metadata": {},
                    "execution_count": 14,
                    "data": {
                        "application/vnd.dataresource+json": {
                            "schema": {
                                "fields": [
                                    {
                                        "name": "min_csillag"
                                    },
                                    {
                                        "name": "max_csillag"
                                    },
                                    {
                                        "name": "atlag_csillag"
                                    }
                                ]
                            },
                            "data": [
                                {
                                    "min_csillag": "0",
                                    "max_csillag": "4",
                                    "atlag_csillag": "1"
                                }
                            ]
                        },
                        "text/html": [
                            "<table>",
                            "<tr><th>min_csillag</th><th>max_csillag</th><th>atlag_csillag</th></tr>",
                            "<tr><td>0</td><td>4</td><td>1</td></tr>",
                            "</table>"
                        ]
                    }
                },
                {
                    "output_type": "execute_result",
                    "metadata": {},
                    "execution_count": 14,
                    "data": {
                        "application/vnd.dataresource+json": {
                            "schema": {
                                "fields": [
                                    {
                                        "name": "hely"
                                    },
                                    {
                                        "name": "csillagok_szama"
                                    }
                                ]
                            },
                            "data": [
                                {
                                    "hely": "Balaton-dél",
                                    "csillagok_szama": "3"
                                },
                                {
                                    "hely": "Balaton-dél",
                                    "csillagok_szama": "4"
                                },
                                {
                                    "hely": "Békés megye",
                                    "csillagok_szama": "3"
                                },
                                {
                                    "hely": "Budapest",
                                    "csillagok_szama": "3"
                                },
                                {
                                    "hely": "Budapest",
                                    "csillagok_szama": "4"
                                },
                                {
                                    "hely": "Csongrád megye",
                                    "csillagok_szama": "3"
                                },
                                {
                                    "hely": "Pest megye",
                                    "csillagok_szama": "3"
                                },
                                {
                                    "hely": "Tolna megye",
                                    "csillagok_szama": "4"
                                }
                            ]
                        },
                        "text/html": [
                            "<table>",
                            "<tr><th>hely</th><th>csillagok_szama</th></tr>",
                            "<tr><td>Balaton-dél</td><td>3</td></tr>",
                            "<tr><td>Balaton-dél</td><td>4</td></tr>",
                            "<tr><td>Békés megye</td><td>3</td></tr>",
                            "<tr><td>Budapest</td><td>3</td></tr>",
                            "<tr><td>Budapest</td><td>4</td></tr>",
                            "<tr><td>Csongrád megye</td><td>3</td></tr>",
                            "<tr><td>Pest megye</td><td>3</td></tr>",
                            "<tr><td>Tolna megye</td><td>4</td></tr>",
                            "</table>"
                        ]
                    }
                },
                {
                    "output_type": "execute_result",
                    "metadata": {},
                    "execution_count": 14,
                    "data": {
                        "application/vnd.dataresource+json": {
                            "schema": {
                                "fields": [
                                    {
                                        "name": "egy_helyen_hanydb_szallas"
                                    },
                                    {
                                        "name": "hely"
                                    }
                                ]
                            },
                            "data": [
                                {
                                    "egy_helyen_hanydb_szallas": "7",
                                    "hely": "Balaton-dél"
                                },
                                {
                                    "egy_helyen_hanydb_szallas": "4",
                                    "hely": "Budapest"
                                },
                                {
                                    "egy_helyen_hanydb_szallas": "3",
                                    "hely": "Dél-Somogy"
                                },
                                {
                                    "egy_helyen_hanydb_szallas": "2",
                                    "hely": "Csongrád megye"
                                },
                                {
                                    "egy_helyen_hanydb_szallas": "1",
                                    "hely": "Balaton-észak"
                                },
                                {
                                    "egy_helyen_hanydb_szallas": "1",
                                    "hely": "Békés megye"
                                },
                                {
                                    "egy_helyen_hanydb_szallas": "1",
                                    "hely": "Hajdúbihar megye"
                                },
                                {
                                    "egy_helyen_hanydb_szallas": "1",
                                    "hely": "Pest megye"
                                },
                                {
                                    "egy_helyen_hanydb_szallas": "1",
                                    "hely": "Tolna megye"
                                }
                            ]
                        },
                        "text/html": [
                            "<table>",
                            "<tr><th>egy_helyen_hanydb_szallas</th><th>hely</th></tr>",
                            "<tr><td>7</td><td>Balaton-dél</td></tr>",
                            "<tr><td>4</td><td>Budapest</td></tr>",
                            "<tr><td>3</td><td>Dél-Somogy</td></tr>",
                            "<tr><td>2</td><td>Csongrád megye</td></tr>",
                            "<tr><td>1</td><td>Balaton-észak</td></tr>",
                            "<tr><td>1</td><td>Békés megye</td></tr>",
                            "<tr><td>1</td><td>Hajdúbihar megye</td></tr>",
                            "<tr><td>1</td><td>Pest megye</td></tr>",
                            "<tr><td>1</td><td>Tolna megye</td></tr>",
                            "</table>"
                        ]
                    }
                },
                {
                    "output_type": "execute_result",
                    "metadata": {},
                    "execution_count": 14,
                    "data": {
                        "application/vnd.dataresource+json": {
                            "schema": {
                                "fields": [
                                    {
                                        "name": "hely"
                                    },
                                    {
                                        "name": "hely_max_csillagszam"
                                    }
                                ]
                            },
                            "data": [
                                {
                                    "hely": "Balaton-dél",
                                    "hely_max_csillagszam": "4"
                                },
                                {
                                    "hely": "Balaton-észak",
                                    "hely_max_csillagszam": "0"
                                },
                                {
                                    "hely": "Békés megye",
                                    "hely_max_csillagszam": "3"
                                },
                                {
                                    "hely": "Budapest",
                                    "hely_max_csillagszam": "4"
                                },
                                {
                                    "hely": "Csongrád megye",
                                    "hely_max_csillagszam": "3"
                                },
                                {
                                    "hely": "Dél-Somogy",
                                    "hely_max_csillagszam": "0"
                                },
                                {
                                    "hely": "Hajdúbihar megye",
                                    "hely_max_csillagszam": "0"
                                },
                                {
                                    "hely": "Pest megye",
                                    "hely_max_csillagszam": "3"
                                },
                                {
                                    "hely": "Tolna megye",
                                    "hely_max_csillagszam": "4"
                                }
                            ]
                        },
                        "text/html": [
                            "<table>",
                            "<tr><th>hely</th><th>hely_max_csillagszam</th></tr>",
                            "<tr><td>Balaton-dél</td><td>4</td></tr>",
                            "<tr><td>Balaton-észak</td><td>0</td></tr>",
                            "<tr><td>Békés megye</td><td>3</td></tr>",
                            "<tr><td>Budapest</td><td>4</td></tr>",
                            "<tr><td>Csongrád megye</td><td>3</td></tr>",
                            "<tr><td>Dél-Somogy</td><td>0</td></tr>",
                            "<tr><td>Hajdúbihar megye</td><td>0</td></tr>",
                            "<tr><td>Pest megye</td><td>3</td></tr>",
                            "<tr><td>Tolna megye</td><td>4</td></tr>",
                            "</table>"
                        ]
                    }
                },
                {
                    "output_type": "execute_result",
                    "metadata": {},
                    "execution_count": 14,
                    "data": {
                        "application/vnd.dataresource+json": {
                            "schema": {
                                "fields": [
                                    {
                                        "name": "legrovidebb_cim"
                                    },
                                    {
                                        "name": "leghosszabb_cim"
                                    }
                                ]
                            },
                            "data": [
                                {
                                    "legrovidebb_cim": "1016 Budapest, Hegyalja út 12",
                                    "leghosszabb_cim": "8630 Balatonboglár, Radnóti Miklós utca 8"
                                }
                            ]
                        },
                        "text/html": [
                            "<table>",
                            "<tr><th>legrovidebb_cim</th><th>leghosszabb_cim</th></tr>",
                            "<tr><td>1016 Budapest, Hegyalja út 12</td><td>8630 Balatonboglár, Radnóti Miklós utca 8</td></tr>",
                            "</table>"
                        ]
                    }
                },
                {
                    "output_type": "execute_result",
                    "metadata": {},
                    "execution_count": 14,
                    "data": {
                        "application/vnd.dataresource+json": {
                            "schema": {
                                "fields": [
                                    {
                                        "name": "cim_hossz_betu_db_min"
                                    },
                                    {
                                        "name": "cim_hossz_betu_db_max"
                                    },
                                    {
                                        "name": "cim_hossz_betu_db_atlag"
                                    },
                                    {
                                        "name": "cim_hossz_betu_db_szoras"
                                    }
                                ]
                            },
                            "data": [
                                {
                                    "cim_hossz_betu_db_min": "24",
                                    "cim_hossz_betu_db_max": "43",
                                    "cim_hossz_betu_db_atlag": "33",
                                    "cim_hossz_betu_db_szoras": "39,39047619047615"
                                }
                            ]
                        },
                        "text/html": [
                            "<table>",
                            "<tr><th>cim_hossz_betu_db_min</th><th>cim_hossz_betu_db_max</th><th>cim_hossz_betu_db_atlag</th><th>cim_hossz_betu_db_szoras</th></tr>",
                            "<tr><td>24</td><td>43</td><td>33</td><td>39,39047619047615</td></tr>",
                            "</table>"
                        ]
                    }
                },
                {
                    "output_type": "execute_result",
                    "metadata": {},
                    "execution_count": 14,
                    "data": {
                        "application/vnd.dataresource+json": {
                            "schema": {
                                "fields": [
                                    {
                                        "name": "szallas_nev"
                                    },
                                    {
                                        "name": "hely_max_csillagszam"
                                    }
                                ]
                            },
                            "data": [
                                {
                                    "szallas_nev": "Bagoly Hotel",
                                    "hely_max_csillagszam": "3"
                                },
                                {
                                    "szallas_nev": "Családi Ház",
                                    "hely_max_csillagszam": "0"
                                },
                                {
                                    "szallas_nev": "Fortuna Apartman",
                                    "hely_max_csillagszam": "0"
                                },
                                {
                                    "szallas_nev": "Fortuna panzió",
                                    "hely_max_csillagszam": "3"
                                },
                                {
                                    "szallas_nev": "Gold Hotel",
                                    "hely_max_csillagszam": "3"
                                },
                                {
                                    "szallas_nev": "Hotel Három Hattyú",
                                    "hely_max_csillagszam": "4"
                                },
                                {
                                    "szallas_nev": "Jáde panzió",
                                    "hely_max_csillagszam": "3"
                                },
                                {
                                    "szallas_nev": "Kentaur Hotel",
                                    "hely_max_csillagszam": "3"
                                },
                                {
                                    "szallas_nev": "Kollégium",
                                    "hely_max_csillagszam": "0"
                                },
                                {
                                    "szallas_nev": "Lagúna Hotel",
                                    "hely_max_csillagszam": "4"
                                },
                                {
                                    "szallas_nev": "Müller Vendégház",
                                    "hely_max_csillagszam": "0"
                                },
                                {
                                    "szallas_nev": "Nyárfás Vendégház",
                                    "hely_max_csillagszam": "0"
                                },
                                {
                                    "szallas_nev": "Partiszél Vendégház",
                                    "hely_max_csillagszam": "0"
                                },
                                {
                                    "szallas_nev": "Riviéra Panzió",
                                    "hely_max_csillagszam": "3"
                                },
                                {
                                    "szallas_nev": "Sába-Ház",
                                    "hely_max_csillagszam": "0"
                                },
                                {
                                    "szallas_nev": "Szarvas Hotel",
                                    "hely_max_csillagszam": "4"
                                },
                                {
                                    "szallas_nev": "Szieszta Apartmanház",
                                    "hely_max_csillagszam": "0"
                                },
                                {
                                    "szallas_nev": "Tímárház Panzió",
                                    "hely_max_csillagszam": "3"
                                }
                            ]
                        },
                        "text/html": [
                            "<table>",
                            "<tr><th>szallas_nev</th><th>hely_max_csillagszam</th></tr>",
                            "<tr><td>Bagoly Hotel</td><td>3</td></tr>",
                            "<tr><td>Családi Ház</td><td>0</td></tr>",
                            "<tr><td>Fortuna Apartman</td><td>0</td></tr>",
                            "<tr><td>Fortuna panzió</td><td>3</td></tr>",
                            "<tr><td>Gold Hotel</td><td>3</td></tr>",
                            "<tr><td>Hotel Három Hattyú</td><td>4</td></tr>",
                            "<tr><td>Jáde panzió</td><td>3</td></tr>",
                            "<tr><td>Kentaur Hotel</td><td>3</td></tr>",
                            "<tr><td>Kollégium</td><td>0</td></tr>",
                            "<tr><td>Lagúna Hotel</td><td>4</td></tr>",
                            "<tr><td>Müller Vendégház</td><td>0</td></tr>",
                            "<tr><td>Nyárfás Vendégház</td><td>0</td></tr>",
                            "<tr><td>Partiszél Vendégház</td><td>0</td></tr>",
                            "<tr><td>Riviéra Panzió</td><td>3</td></tr>",
                            "<tr><td>Sába-Ház</td><td>0</td></tr>",
                            "<tr><td>Szarvas Hotel</td><td>4</td></tr>",
                            "<tr><td>Szieszta Apartmanház</td><td>0</td></tr>",
                            "<tr><td>Tímárház Panzió</td><td>3</td></tr>",
                            "</table>"
                        ]
                    }
                }
            ],
            "execution_count": 14
        }
    ]
}