{
    "metadata": {
        "kernelspec": {
            "name": "SQL",
            "display_name": "SQL",
            "language": "sql"
        },
        "language_info": {
            "name": "sql",
            "version": ""
        }
    },
    "nbformat_minor": 2,
    "nbformat": 4,
    "cells": [
        {
            "cell_type": "markdown",
            "source": [
                "1\\. feladat"
            ],
            "metadata": {
                "azdata_cell_guid": "e060f9bd-579b-4120-a74e-3e2959c7f081"
            },
            "attachments": {}
        },
        {
            "cell_type": "code",
            "source": [
                "SELECT UGYFEL_FK, FOGLALAS_PK, METTOL,\r\n",
                "        DATEADD(MONTH, 1, METTOL) AS 'Módosított kezdődátum'\r\n",
                "FROM Foglalas\r\n",
                "WHERE UGYFEL_FK LIKE 'emese'"
            ],
            "metadata": {
                "azdata_cell_guid": "8f765c9e-3ec8-447e-8764-94b9b091afa6",
                "language": "sql"
            },
            "outputs": [
                {
                    "output_type": "display_data",
                    "data": {
                        "text/html": "(7 rows affected)"
                    },
                    "metadata": {}
                },
                {
                    "output_type": "display_data",
                    "data": {
                        "text/html": "Total execution time: 00:00:00.007"
                    },
                    "metadata": {}
                },
                {
                    "output_type": "execute_result",
                    "metadata": {},
                    "execution_count": 3,
                    "data": {
                        "application/vnd.dataresource+json": {
                            "schema": {
                                "fields": [
                                    {
                                        "name": "UGYFEL_FK"
                                    },
                                    {
                                        "name": "FOGLALAS_PK"
                                    },
                                    {
                                        "name": "METTOL"
                                    },
                                    {
                                        "name": "Módosított kezdődátum"
                                    }
                                ]
                            },
                            "data": [
                                {
                                    "UGYFEL_FK": "emese",
                                    "FOGLALAS_PK": "706",
                                    "METTOL": "2016-07-22",
                                    "Módosított kezdődátum": "2016-08-22"
                                },
                                {
                                    "UGYFEL_FK": "emese",
                                    "FOGLALAS_PK": "765",
                                    "METTOL": "2016-08-09",
                                    "Módosított kezdődátum": "2016-09-09"
                                },
                                {
                                    "UGYFEL_FK": "emese",
                                    "FOGLALAS_PK": "1083",
                                    "METTOL": "2016-09-27",
                                    "Módosított kezdődátum": "2016-10-27"
                                },
                                {
                                    "UGYFEL_FK": "emese",
                                    "FOGLALAS_PK": "1250",
                                    "METTOL": "2016-11-05",
                                    "Módosított kezdődátum": "2016-12-05"
                                },
                                {
                                    "UGYFEL_FK": "emese",
                                    "FOGLALAS_PK": "1313",
                                    "METTOL": "2016-11-23",
                                    "Módosított kezdődátum": "2016-12-23"
                                },
                                {
                                    "UGYFEL_FK": "emese",
                                    "FOGLALAS_PK": "1354",
                                    "METTOL": "2016-12-07",
                                    "Módosított kezdődátum": "2017-01-07"
                                },
                                {
                                    "UGYFEL_FK": "emese",
                                    "FOGLALAS_PK": "1484",
                                    "METTOL": "2017-01-30",
                                    "Módosított kezdődátum": "2017-02-28"
                                }
                            ]
                        },
                        "text/html": [
                            "<table>",
                            "<tr><th>UGYFEL_FK</th><th>FOGLALAS_PK</th><th>METTOL</th><th>Módosított kezdődátum</th></tr>",
                            "<tr><td>emese</td><td>706</td><td>2016-07-22</td><td>2016-08-22</td></tr>",
                            "<tr><td>emese</td><td>765</td><td>2016-08-09</td><td>2016-09-09</td></tr>",
                            "<tr><td>emese</td><td>1083</td><td>2016-09-27</td><td>2016-10-27</td></tr>",
                            "<tr><td>emese</td><td>1250</td><td>2016-11-05</td><td>2016-12-05</td></tr>",
                            "<tr><td>emese</td><td>1313</td><td>2016-11-23</td><td>2016-12-23</td></tr>",
                            "<tr><td>emese</td><td>1354</td><td>2016-12-07</td><td>2017-01-07</td></tr>",
                            "<tr><td>emese</td><td>1484</td><td>2017-01-30</td><td>2017-02-28</td></tr>",
                            "</table>"
                        ]
                    }
                }
            ],
            "execution_count": 3
        },
        {
            "cell_type": "markdown",
            "source": [
                "2\\. feladat"
            ],
            "metadata": {
                "azdata_cell_guid": "9fc5dee5-37eb-47a9-921e-cb0a498dacf2"
            },
            "attachments": {}
        },
        {
            "cell_type": "code",
            "source": [
                "SELECT TIPUS,\r\n",
                "        ROUND(AVG(CSILLAGOK_SZAMA),1)\r\n",
                "FROM szallashely\r\n",
                "GROUP BY TIPUS\r\n",
                "HAVING TIPUS NOT LIKE 'panzió' AND AVG(CSILLAGOK_SZAMA) <= 3\r\n",
                ""
            ],
            "metadata": {
                "azdata_cell_guid": "ae8bd6fe-d956-4f1b-b787-73d7344d7640",
                "language": "sql",
                "tags": []
            },
            "outputs": [
                {
                    "output_type": "display_data",
                    "data": {
                        "text/html": "(4 rows affected)"
                    },
                    "metadata": {}
                },
                {
                    "output_type": "display_data",
                    "data": {
                        "text/html": "Total execution time: 00:00:00.011"
                    },
                    "metadata": {}
                },
                {
                    "output_type": "execute_result",
                    "metadata": {},
                    "execution_count": 22,
                    "data": {
                        "application/vnd.dataresource+json": {
                            "schema": {
                                "fields": [
                                    {
                                        "name": "TIPUS"
                                    },
                                    {
                                        "name": "(No column name)"
                                    }
                                ]
                            },
                            "data": [
                                {
                                    "TIPUS": "Apartman",
                                    "(No column name)": "0"
                                },
                                {
                                    "TIPUS": "Diákszálló",
                                    "(No column name)": "0"
                                },
                                {
                                    "TIPUS": "Hotel",
                                    "(No column name)": "3"
                                },
                                {
                                    "TIPUS": "vendégház",
                                    "(No column name)": "0"
                                }
                            ]
                        },
                        "text/html": [
                            "<table>",
                            "<tr><th>TIPUS</th><th>(No column name)</th></tr>",
                            "<tr><td>Apartman</td><td>0</td></tr>",
                            "<tr><td>Diákszálló</td><td>0</td></tr>",
                            "<tr><td>Hotel</td><td>3</td></tr>",
                            "<tr><td>vendégház</td><td>0</td></tr>",
                            "</table>"
                        ]
                    }
                }
            ],
            "execution_count": 22
        },
        {
            "cell_type": "markdown",
            "source": [
                "3\\. feladat"
            ],
            "metadata": {
                "azdata_cell_guid": "d3823580-9853-47a1-ae83-ed676bb3e6e1"
            },
            "attachments": {}
        },
        {
            "cell_type": "code",
            "source": [
                "SELECT COUNT(f.FOGLALAS_PK), YEAR(v.SZUL_DAT)\r\n",
                "FROM Foglalas f JOIN Vendeg v ON f.UGYFEL_FK = v.USERNEV\r\n",
                "WHERE (FELNOTT_SZAM + GYERMEK_SZAM) > 2\r\n",
                "GROUP BY YEAR(v.SZUL_DAT) >= 1985 AS 'fiatalok'"
            ],
            "metadata": {
                "azdata_cell_guid": "26bbf9cb-dfae-4638-8a01-593d0468044e",
                "language": "sql"
            },
            "outputs": [
                {
                    "output_type": "display_data",
                    "data": {
                        "text/html": "(32 rows affected)"
                    },
                    "metadata": {}
                },
                {
                    "output_type": "display_data",
                    "data": {
                        "text/html": "Total execution time: 00:00:00.010"
                    },
                    "metadata": {}
                },
                {
                    "output_type": "execute_result",
                    "metadata": {},
                    "execution_count": 31,
                    "data": {
                        "application/vnd.dataresource+json": {
                            "schema": {
                                "fields": [
                                    {
                                        "name": "(No column name)"
                                    },
                                    {
                                        "name": "(No column name)"
                                    }
                                ]
                            },
                            "data": [
                                {
                                    "(No column name)": "1967"
                                },
                                {
                                    "(No column name)": "1968"
                                },
                                {
                                    "(No column name)": "1969"
                                },
                                {
                                    "(No column name)": "1970"
                                },
                                {
                                    "(No column name)": "1971"
                                },
                                {
                                    "(No column name)": "1972"
                                },
                                {
                                    "(No column name)": "1973"
                                },
                                {
                                    "(No column name)": "1974"
                                },
                                {
                                    "(No column name)": "1975"
                                },
                                {
                                    "(No column name)": "1976"
                                },
                                {
                                    "(No column name)": "1977"
                                },
                                {
                                    "(No column name)": "1978"
                                },
                                {
                                    "(No column name)": "1979"
                                },
                                {
                                    "(No column name)": "1980"
                                },
                                {
                                    "(No column name)": "1981"
                                },
                                {
                                    "(No column name)": "1982"
                                },
                                {
                                    "(No column name)": "1983"
                                },
                                {
                                    "(No column name)": "1984"
                                },
                                {
                                    "(No column name)": "1985"
                                },
                                {
                                    "(No column name)": "1986"
                                },
                                {
                                    "(No column name)": "1987"
                                },
                                {
                                    "(No column name)": "1988"
                                },
                                {
                                    "(No column name)": "1989"
                                },
                                {
                                    "(No column name)": "1990"
                                },
                                {
                                    "(No column name)": "1991"
                                },
                                {
                                    "(No column name)": "1992"
                                },
                                {
                                    "(No column name)": "1993"
                                },
                                {
                                    "(No column name)": "1994"
                                },
                                {
                                    "(No column name)": "1995"
                                },
                                {
                                    "(No column name)": "1996"
                                },
                                {
                                    "(No column name)": "1997"
                                },
                                {
                                    "(No column name)": "1998"
                                }
                            ]
                        },
                        "text/html": [
                            "<table>",
                            "<tr><th>(No column name)</th><th>(No column name)</th></tr>",
                            "<tr><td>23</td><td>1967</td></tr>",
                            "<tr><td>20</td><td>1968</td></tr>",
                            "<tr><td>15</td><td>1969</td></tr>",
                            "<tr><td>6</td><td>1970</td></tr>",
                            "<tr><td>11</td><td>1971</td></tr>",
                            "<tr><td>10</td><td>1972</td></tr>",
                            "<tr><td>13</td><td>1973</td></tr>",
                            "<tr><td>11</td><td>1974</td></tr>",
                            "<tr><td>29</td><td>1975</td></tr>",
                            "<tr><td>18</td><td>1976</td></tr>",
                            "<tr><td>10</td><td>1977</td></tr>",
                            "<tr><td>22</td><td>1978</td></tr>",
                            "<tr><td>10</td><td>1979</td></tr>",
                            "<tr><td>12</td><td>1980</td></tr>",
                            "<tr><td>7</td><td>1981</td></tr>",
                            "<tr><td>8</td><td>1982</td></tr>",
                            "<tr><td>18</td><td>1983</td></tr>",
                            "<tr><td>26</td><td>1984</td></tr>",
                            "<tr><td>15</td><td>1985</td></tr>",
                            "<tr><td>26</td><td>1986</td></tr>",
                            "<tr><td>14</td><td>1987</td></tr>",
                            "<tr><td>11</td><td>1988</td></tr>",
                            "<tr><td>17</td><td>1989</td></tr>",
                            "<tr><td>13</td><td>1990</td></tr>",
                            "<tr><td>11</td><td>1991</td></tr>",
                            "<tr><td>12</td><td>1992</td></tr>",
                            "<tr><td>8</td><td>1993</td></tr>",
                            "<tr><td>4</td><td>1994</td></tr>",
                            "<tr><td>17</td><td>1995</td></tr>",
                            "<tr><td>17</td><td>1996</td></tr>",
                            "<tr><td>29</td><td>1997</td></tr>",
                            "<tr><td>3</td><td>1998</td></tr>",
                            "</table>"
                        ]
                    }
                }
            ],
            "execution_count": 31
        }
    ]
}