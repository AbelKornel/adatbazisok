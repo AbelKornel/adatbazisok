{
    "metadata": {
        "kernelspec": {
            "name": "SQL",
            "display_name": "SQL",
            "language": "sql"
        },
        "language_info": {
            "name": "sql",
            "version": ""
        }
    },
    "nbformat_minor": 2,
    "nbformat": 4,
    "cells": [
        {
            "cell_type": "markdown",
            "source": [
                "1\\. feladat"
            ],
            "metadata": {
                "azdata_cell_guid": "e060f9bd-579b-4120-a74e-3e2959c7f081"
            },
            "attachments": {}
        },
        {
            "cell_type": "code",
            "source": [
                "SELECT UGYFEL_FK, FOGLALAS_PK, METTOL,\r\n",
                "        DATEADD(MONTH, 1, METTOL) AS 'Módosított kezdődátum'\r\n",
                "FROM Foglalas\r\n",
                "WHERE UGYFEL_FK LIKE 'emese'"
            ],
            "metadata": {
                "azdata_cell_guid": "8f765c9e-3ec8-447e-8764-94b9b091afa6",
                "language": "sql"
            },
            "outputs": [
                {
                    "output_type": "display_data",
                    "data": {
                        "text/html": "(7 rows affected)"
                    },
                    "metadata": {}
                },
                {
                    "output_type": "display_data",
                    "data": {
                        "text/html": "Total execution time: 00:00:00.007"
                    },
                    "metadata": {}
                },
                {
                    "output_type": "execute_result",
                    "metadata": {},
                    "execution_count": 3,
                    "data": {
                        "application/vnd.dataresource+json": {
                            "schema": {
                                "fields": [
                                    {
                                        "name": "UGYFEL_FK"
                                    },
                                    {
                                        "name": "FOGLALAS_PK"
                                    },
                                    {
                                        "name": "METTOL"
                                    },
                                    {
                                        "name": "Módosított kezdődátum"
                                    }
                                ]
                            },
                            "data": [
                                {
                                    "UGYFEL_FK": "emese",
                                    "FOGLALAS_PK": "706",
                                    "METTOL": "2016-07-22",
                                    "Módosított kezdődátum": "2016-08-22"
                                },
                                {
                                    "UGYFEL_FK": "emese",
                                    "FOGLALAS_PK": "765",
                                    "METTOL": "2016-08-09",
                                    "Módosított kezdődátum": "2016-09-09"
                                },
                                {
                                    "UGYFEL_FK": "emese",
                                    "FOGLALAS_PK": "1083",
                                    "METTOL": "2016-09-27",
                                    "Módosított kezdődátum": "2016-10-27"
                                },
                                {
                                    "UGYFEL_FK": "emese",
                                    "FOGLALAS_PK": "1250",
                                    "METTOL": "2016-11-05",
                                    "Módosított kezdődátum": "2016-12-05"
                                },
                                {
                                    "UGYFEL_FK": "emese",
                                    "FOGLALAS_PK": "1313",
                                    "METTOL": "2016-11-23",
                                    "Módosított kezdődátum": "2016-12-23"
                                },
                                {
                                    "UGYFEL_FK": "emese",
                                    "FOGLALAS_PK": "1354",
                                    "METTOL": "2016-12-07",
                                    "Módosított kezdődátum": "2017-01-07"
                                },
                                {
                                    "UGYFEL_FK": "emese",
                                    "FOGLALAS_PK": "1484",
                                    "METTOL": "2017-01-30",
                                    "Módosított kezdődátum": "2017-02-28"
                                }
                            ]
                        },
                        "text/html": [
                            "<table>",
                            "<tr><th>UGYFEL_FK</th><th>FOGLALAS_PK</th><th>METTOL</th><th>Módosított kezdődátum</th></tr>",
                            "<tr><td>emese</td><td>706</td><td>2016-07-22</td><td>2016-08-22</td></tr>",
                            "<tr><td>emese</td><td>765</td><td>2016-08-09</td><td>2016-09-09</td></tr>",
                            "<tr><td>emese</td><td>1083</td><td>2016-09-27</td><td>2016-10-27</td></tr>",
                            "<tr><td>emese</td><td>1250</td><td>2016-11-05</td><td>2016-12-05</td></tr>",
                            "<tr><td>emese</td><td>1313</td><td>2016-11-23</td><td>2016-12-23</td></tr>",
                            "<tr><td>emese</td><td>1354</td><td>2016-12-07</td><td>2017-01-07</td></tr>",
                            "<tr><td>emese</td><td>1484</td><td>2017-01-30</td><td>2017-02-28</td></tr>",
                            "</table>"
                        ]
                    }
                }
            ],
            "execution_count": 3
        },
        {
            "cell_type": "markdown",
            "source": [
                "2\\. feladat"
            ],
            "metadata": {
                "azdata_cell_guid": "9fc5dee5-37eb-47a9-921e-cb0a498dacf2"
            },
            "attachments": {}
        },
        {
            "cell_type": "code",
            "source": [
                ""
            ],
            "metadata": {
                "azdata_cell_guid": "ae8bd6fe-d956-4f1b-b787-73d7344d7640",
                "language": "sql"
            },
            "outputs": [],
            "execution_count": null
        }
    ]
}